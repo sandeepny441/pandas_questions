{
 "cells": [
  {
   "cell_type": "code",
   "execution_count": 2,
   "id": "e313e982",
   "metadata": {},
   "outputs": [],
   "source": [
    "import pandas as pd\n",
    "\n",
    "data = {\n",
    "'Shop_Name': ['Starbucks', 'Blue Bottle', 'Dunkin', 'Peets', 'Starbucks', 'La Colombe', 'Blue Bottle', 'Peets', 'Starbucks', 'Dunkin'],\n",
    "'Location': ['Hollywood', 'San Diego', 'San Diego', 'Hollywood', 'New York', 'New York', 'Hollywood', 'San Diego', 'New York', 'Hollywood'],\n",
    "'Rating': [4.5, 4.7, 4.1, 4.3, 4.5, 4.8, 4.6, 4.2, 4.4, 3.9],\n",
    "'Type': ['Chain', 'Independent', 'Chain', 'Chain', 'Chain', 'Independent', 'Independent', 'Chain', 'Chain', 'Chain']\n",
    "}\n",
    "\n",
    "df = pd.DataFrame(data)"
   ]
  },
  {
   "cell_type": "code",
   "execution_count": 1,
   "id": "c0d8946c",
   "metadata": {},
   "outputs": [],
   "source": [
    "# Group by the Location column and calculate the mean of the Rating for each location. Which location has the highest average rating?\n",
    "# Group by the Type column and calculate the total count of each type. Which type of coffee shop is most prevalent?\n",
    "# Group the data by both Location and Type. What's the maximum rating a 'Chain' coffee shop received in 'Hollywood'?\n",
    "# By grouping based on the Shop_Name column, can you calculate the range (max-min) of Rating each shop received?\n",
    "# Group by the Location and find the shop with the highest rating in each location.\n",
    "# =======================================================\n",
    "# Calculate the median rating for each Shop_Name by grouping based on the shop name. Which shop has the median rating of 4.5?\n",
    "# Group by Type and find the standard deviation of Rating for both 'Independent' and 'Chain' shops. Which type has a more consistent rating?\n",
    "# After grouping by Location, find the total number of reviews each location received (assuming each row is a unique review).\n",
    "# Group by both Location and Type and calculate the sum of the Rating. Which combination of location and type has the highest total rating?\n",
    "# Group by Location and find out the 25th percentile of the Rating for each location."
   ]
  },
  {
   "cell_type": "code",
   "execution_count": 3,
   "id": "e0657180",
   "metadata": {},
   "outputs": [
    {
     "data": {
      "text/html": [
       "<div>\n",
       "<style scoped>\n",
       "    .dataframe tbody tr th:only-of-type {\n",
       "        vertical-align: middle;\n",
       "    }\n",
       "\n",
       "    .dataframe tbody tr th {\n",
       "        vertical-align: top;\n",
       "    }\n",
       "\n",
       "    .dataframe thead th {\n",
       "        text-align: right;\n",
       "    }\n",
       "</style>\n",
       "<table border=\"1\" class=\"dataframe\">\n",
       "  <thead>\n",
       "    <tr style=\"text-align: right;\">\n",
       "      <th></th>\n",
       "      <th>Shop_Name</th>\n",
       "      <th>Location</th>\n",
       "      <th>Rating</th>\n",
       "      <th>Type</th>\n",
       "    </tr>\n",
       "  </thead>\n",
       "  <tbody>\n",
       "    <tr>\n",
       "      <th>0</th>\n",
       "      <td>Starbucks</td>\n",
       "      <td>Hollywood</td>\n",
       "      <td>4.5</td>\n",
       "      <td>Chain</td>\n",
       "    </tr>\n",
       "    <tr>\n",
       "      <th>1</th>\n",
       "      <td>Blue Bottle</td>\n",
       "      <td>San Diego</td>\n",
       "      <td>4.7</td>\n",
       "      <td>Independent</td>\n",
       "    </tr>\n",
       "    <tr>\n",
       "      <th>2</th>\n",
       "      <td>Dunkin</td>\n",
       "      <td>San Diego</td>\n",
       "      <td>4.1</td>\n",
       "      <td>Chain</td>\n",
       "    </tr>\n",
       "    <tr>\n",
       "      <th>3</th>\n",
       "      <td>Peets</td>\n",
       "      <td>Hollywood</td>\n",
       "      <td>4.3</td>\n",
       "      <td>Chain</td>\n",
       "    </tr>\n",
       "    <tr>\n",
       "      <th>4</th>\n",
       "      <td>Starbucks</td>\n",
       "      <td>New York</td>\n",
       "      <td>4.5</td>\n",
       "      <td>Chain</td>\n",
       "    </tr>\n",
       "    <tr>\n",
       "      <th>5</th>\n",
       "      <td>La Colombe</td>\n",
       "      <td>New York</td>\n",
       "      <td>4.8</td>\n",
       "      <td>Independent</td>\n",
       "    </tr>\n",
       "    <tr>\n",
       "      <th>6</th>\n",
       "      <td>Blue Bottle</td>\n",
       "      <td>Hollywood</td>\n",
       "      <td>4.6</td>\n",
       "      <td>Independent</td>\n",
       "    </tr>\n",
       "    <tr>\n",
       "      <th>7</th>\n",
       "      <td>Peets</td>\n",
       "      <td>San Diego</td>\n",
       "      <td>4.2</td>\n",
       "      <td>Chain</td>\n",
       "    </tr>\n",
       "    <tr>\n",
       "      <th>8</th>\n",
       "      <td>Starbucks</td>\n",
       "      <td>New York</td>\n",
       "      <td>4.4</td>\n",
       "      <td>Chain</td>\n",
       "    </tr>\n",
       "    <tr>\n",
       "      <th>9</th>\n",
       "      <td>Dunkin</td>\n",
       "      <td>Hollywood</td>\n",
       "      <td>3.9</td>\n",
       "      <td>Chain</td>\n",
       "    </tr>\n",
       "  </tbody>\n",
       "</table>\n",
       "</div>"
      ],
      "text/plain": [
       "     Shop_Name   Location  Rating         Type\n",
       "0    Starbucks  Hollywood     4.5        Chain\n",
       "1  Blue Bottle  San Diego     4.7  Independent\n",
       "2       Dunkin  San Diego     4.1        Chain\n",
       "3        Peets  Hollywood     4.3        Chain\n",
       "4    Starbucks   New York     4.5        Chain\n",
       "5   La Colombe   New York     4.8  Independent\n",
       "6  Blue Bottle  Hollywood     4.6  Independent\n",
       "7        Peets  San Diego     4.2        Chain\n",
       "8    Starbucks   New York     4.4        Chain\n",
       "9       Dunkin  Hollywood     3.9        Chain"
      ]
     },
     "execution_count": 3,
     "metadata": {},
     "output_type": "execute_result"
    }
   ],
   "source": [
    "df"
   ]
  },
  {
   "cell_type": "code",
   "execution_count": 10,
   "id": "c0cb007b",
   "metadata": {},
   "outputs": [
    {
     "data": {
      "text/plain": [
       "'Hollywood'"
      ]
     },
     "execution_count": 10,
     "metadata": {},
     "output_type": "execute_result"
    }
   ],
   "source": [
    "# Group by the Location column and calculate the mean of the Rating for each location. \n",
    "# Which location has the highest average rating?\n",
    "\n",
    "df.groupby('Location')['Rating'].mean().reset_index()['Location'].value_counts().idxmax()"
   ]
  },
  {
   "cell_type": "code",
   "execution_count": 11,
   "id": "b876710b",
   "metadata": {},
   "outputs": [
    {
     "data": {
      "text/plain": [
       "'New York'"
      ]
     },
     "execution_count": 11,
     "metadata": {},
     "output_type": "execute_result"
    }
   ],
   "source": [
    "df.groupby('Location')['Rating'].mean().idxmax()"
   ]
  },
  {
   "cell_type": "code",
   "execution_count": 12,
   "id": "d96f4a05",
   "metadata": {},
   "outputs": [
    {
     "data": {
      "text/plain": [
       "Location\n",
       "Hollywood    4.325000\n",
       "New York     4.566667\n",
       "San Diego    4.333333\n",
       "Name: Rating, dtype: float64"
      ]
     },
     "execution_count": 12,
     "metadata": {},
     "output_type": "execute_result"
    }
   ],
   "source": [
    "df.groupby('Location')['Rating'].mean()"
   ]
  },
  {
   "cell_type": "code",
   "execution_count": 20,
   "id": "e06821cf",
   "metadata": {},
   "outputs": [
    {
     "data": {
      "text/plain": [
       "'Chain'"
      ]
     },
     "execution_count": 20,
     "metadata": {},
     "output_type": "execute_result"
    }
   ],
   "source": [
    "# Group by the Type column and calculate the total count of each type. \n",
    "# Which type of coffee shop is most prevalent?\n",
    "\n",
    "df.groupby('Type').count().reset_index()['Type'].value_counts().idxmax()"
   ]
  },
  {
   "cell_type": "code",
   "execution_count": 25,
   "id": "fbf65652",
   "metadata": {},
   "outputs": [
    {
     "data": {
      "text/html": [
       "<div>\n",
       "<style scoped>\n",
       "    .dataframe tbody tr th:only-of-type {\n",
       "        vertical-align: middle;\n",
       "    }\n",
       "\n",
       "    .dataframe tbody tr th {\n",
       "        vertical-align: top;\n",
       "    }\n",
       "\n",
       "    .dataframe thead th {\n",
       "        text-align: right;\n",
       "    }\n",
       "</style>\n",
       "<table border=\"1\" class=\"dataframe\">\n",
       "  <thead>\n",
       "    <tr style=\"text-align: right;\">\n",
       "      <th></th>\n",
       "      <th>Shop_Name</th>\n",
       "      <th>Location</th>\n",
       "      <th>Rating</th>\n",
       "    </tr>\n",
       "    <tr>\n",
       "      <th>Type</th>\n",
       "      <th></th>\n",
       "      <th></th>\n",
       "      <th></th>\n",
       "    </tr>\n",
       "  </thead>\n",
       "  <tbody>\n",
       "    <tr>\n",
       "      <th>Chain</th>\n",
       "      <td>7</td>\n",
       "      <td>7</td>\n",
       "      <td>7</td>\n",
       "    </tr>\n",
       "    <tr>\n",
       "      <th>Independent</th>\n",
       "      <td>3</td>\n",
       "      <td>3</td>\n",
       "      <td>3</td>\n",
       "    </tr>\n",
       "  </tbody>\n",
       "</table>\n",
       "</div>"
      ],
      "text/plain": [
       "             Shop_Name  Location  Rating\n",
       "Type                                    \n",
       "Chain                7         7       7\n",
       "Independent          3         3       3"
      ]
     },
     "execution_count": 25,
     "metadata": {},
     "output_type": "execute_result"
    }
   ],
   "source": [
    "df.groupby('Type').count()"
   ]
  },
  {
   "cell_type": "code",
   "execution_count": 45,
   "id": "de2f9656",
   "metadata": {},
   "outputs": [
    {
     "data": {
      "text/plain": [
       "4.5"
      ]
     },
     "execution_count": 45,
     "metadata": {},
     "output_type": "execute_result"
    }
   ],
   "source": [
    "# Group the data by both Location and Type. \n",
    "# What's the maximum rating a 'Chain' coffee shop received in 'Hollywood'?\n",
    "df.groupby(['Location', 'Type'])['Rating'].max().loc['Hollywood', 'Chain']\n",
    "\n",
    "\n",
    "# condition_1 = (df['Type'] == 'Chain') & (df['Location'] == 'Hollywood')\n",
    "# df[condition_1]['Rating'].max()"
   ]
  },
  {
   "cell_type": "code",
   "execution_count": 47,
   "id": "f688baa4",
   "metadata": {},
   "outputs": [
    {
     "data": {
      "text/plain": [
       "4.5"
      ]
     },
     "execution_count": 47,
     "metadata": {},
     "output_type": "execute_result"
    }
   ],
   "source": [
    "df.groupby(['Location', 'Type'])['Rating'].max().loc['Hollywood', 'Chain']"
   ]
  },
  {
   "cell_type": "code",
   "execution_count": 51,
   "id": "f13a910f",
   "metadata": {},
   "outputs": [
    {
     "data": {
      "text/plain": [
       "4.5"
      ]
     },
     "execution_count": 51,
     "metadata": {},
     "output_type": "execute_result"
    }
   ],
   "source": [
    "df.groupby(['Location', 'Type'])['Rating'].max().loc['Hollywood', 'Chain']"
   ]
  },
  {
   "cell_type": "code",
   "execution_count": 60,
   "id": "fa32ea8c",
   "metadata": {},
   "outputs": [
    {
     "data": {
      "text/html": [
       "<div>\n",
       "<style scoped>\n",
       "    .dataframe tbody tr th:only-of-type {\n",
       "        vertical-align: middle;\n",
       "    }\n",
       "\n",
       "    .dataframe tbody tr th {\n",
       "        vertical-align: top;\n",
       "    }\n",
       "\n",
       "    .dataframe thead th {\n",
       "        text-align: right;\n",
       "    }\n",
       "</style>\n",
       "<table border=\"1\" class=\"dataframe\">\n",
       "  <thead>\n",
       "    <tr style=\"text-align: right;\">\n",
       "      <th></th>\n",
       "      <th>Location</th>\n",
       "      <th>Type</th>\n",
       "      <th>Rating</th>\n",
       "    </tr>\n",
       "  </thead>\n",
       "  <tbody>\n",
       "    <tr>\n",
       "      <th>0</th>\n",
       "      <td>Hollywood</td>\n",
       "      <td>Chain</td>\n",
       "      <td>3.9</td>\n",
       "    </tr>\n",
       "    <tr>\n",
       "      <th>1</th>\n",
       "      <td>Hollywood</td>\n",
       "      <td>Independent</td>\n",
       "      <td>4.6</td>\n",
       "    </tr>\n",
       "    <tr>\n",
       "      <th>2</th>\n",
       "      <td>New York</td>\n",
       "      <td>Chain</td>\n",
       "      <td>4.4</td>\n",
       "    </tr>\n",
       "    <tr>\n",
       "      <th>3</th>\n",
       "      <td>New York</td>\n",
       "      <td>Independent</td>\n",
       "      <td>4.8</td>\n",
       "    </tr>\n",
       "    <tr>\n",
       "      <th>4</th>\n",
       "      <td>San Diego</td>\n",
       "      <td>Chain</td>\n",
       "      <td>4.1</td>\n",
       "    </tr>\n",
       "    <tr>\n",
       "      <th>5</th>\n",
       "      <td>San Diego</td>\n",
       "      <td>Independent</td>\n",
       "      <td>4.7</td>\n",
       "    </tr>\n",
       "  </tbody>\n",
       "</table>\n",
       "</div>"
      ],
      "text/plain": [
       "    Location         Type  Rating\n",
       "0  Hollywood        Chain     3.9\n",
       "1  Hollywood  Independent     4.6\n",
       "2   New York        Chain     4.4\n",
       "3   New York  Independent     4.8\n",
       "4  San Diego        Chain     4.1\n",
       "5  San Diego  Independent     4.7"
      ]
     },
     "execution_count": 60,
     "metadata": {},
     "output_type": "execute_result"
    }
   ],
   "source": [
    "df.groupby(['Location', 'Type'])['Rating'].min().reset_index()"
   ]
  },
  {
   "cell_type": "code",
   "execution_count": 63,
   "id": "8a41969b",
   "metadata": {},
   "outputs": [
    {
     "data": {
      "text/plain": [
       "Shop_Name\n",
       "Blue Bottle    0.1\n",
       "Dunkin         0.2\n",
       "La Colombe     0.0\n",
       "Peets          0.1\n",
       "Starbucks      0.1\n",
       "Name: Rating, dtype: float64"
      ]
     },
     "execution_count": 63,
     "metadata": {},
     "output_type": "execute_result"
    }
   ],
   "source": [
    " # By grouping based on the Shop_Name column, \n",
    "#  can you calculate the range (max-min) of Rating each shop received?\n",
    "\n",
    "\n",
    "df.groupby('Shop_Name')['Rating'].max() - df.groupby('Shop_Name')['Rating'].min()"
   ]
  },
  {
   "cell_type": "code",
   "execution_count": 64,
   "id": "5cb93eeb",
   "metadata": {},
   "outputs": [
    {
     "data": {
      "text/plain": [
       "Shop_Name\n",
       "Blue Bottle    0.1\n",
       "Dunkin         0.2\n",
       "La Colombe     0.0\n",
       "Peets          0.1\n",
       "Starbucks      0.1\n",
       "Name: Rating, dtype: float64"
      ]
     },
     "execution_count": 64,
     "metadata": {},
     "output_type": "execute_result"
    }
   ],
   "source": [
    "\n",
    "df.groupby('Shop_Name')['Rating'].agg(lambda x: x.max() - x.min())"
   ]
  },
  {
   "cell_type": "code",
   "execution_count": 108,
   "id": "1144665b",
   "metadata": {},
   "outputs": [
    {
     "data": {
      "text/plain": [
       "Shop_Name\n",
       "Blue Bottle     9.3\n",
       "Dunkin          8.0\n",
       "La Colombe      4.8\n",
       "Peets           8.5\n",
       "Starbucks      13.4\n",
       "Name: Rating, dtype: float64"
      ]
     },
     "execution_count": 108,
     "metadata": {},
     "output_type": "execute_result"
    }
   ],
   "source": [
    "df.groupby('Shop_Name')['Rating'].agg(lambda x: sum(x))"
   ]
  },
  {
   "cell_type": "code",
   "execution_count": 109,
   "id": "25497762",
   "metadata": {},
   "outputs": [
    {
     "data": {
      "text/html": [
       "<div>\n",
       "<style scoped>\n",
       "    .dataframe tbody tr th:only-of-type {\n",
       "        vertical-align: middle;\n",
       "    }\n",
       "\n",
       "    .dataframe tbody tr th {\n",
       "        vertical-align: top;\n",
       "    }\n",
       "\n",
       "    .dataframe thead th {\n",
       "        text-align: right;\n",
       "    }\n",
       "</style>\n",
       "<table border=\"1\" class=\"dataframe\">\n",
       "  <thead>\n",
       "    <tr style=\"text-align: right;\">\n",
       "      <th></th>\n",
       "      <th>Shop_Name</th>\n",
       "      <th>Rating</th>\n",
       "    </tr>\n",
       "  </thead>\n",
       "  <tbody>\n",
       "    <tr>\n",
       "      <th>0</th>\n",
       "      <td>Blue Bottle</td>\n",
       "      <td>4.7</td>\n",
       "    </tr>\n",
       "    <tr>\n",
       "      <th>1</th>\n",
       "      <td>Dunkin</td>\n",
       "      <td>4.1</td>\n",
       "    </tr>\n",
       "    <tr>\n",
       "      <th>2</th>\n",
       "      <td>La Colombe</td>\n",
       "      <td>4.8</td>\n",
       "    </tr>\n",
       "    <tr>\n",
       "      <th>3</th>\n",
       "      <td>Peets</td>\n",
       "      <td>4.3</td>\n",
       "    </tr>\n",
       "    <tr>\n",
       "      <th>4</th>\n",
       "      <td>Starbucks</td>\n",
       "      <td>4.5</td>\n",
       "    </tr>\n",
       "  </tbody>\n",
       "</table>\n",
       "</div>"
      ],
      "text/plain": [
       "     Shop_Name  Rating\n",
       "0  Blue Bottle     4.7\n",
       "1       Dunkin     4.1\n",
       "2   La Colombe     4.8\n",
       "3        Peets     4.3\n",
       "4    Starbucks     4.5"
      ]
     },
     "execution_count": 109,
     "metadata": {},
     "output_type": "execute_result"
    }
   ],
   "source": [
    "df.groupby('Shop_Name')['Rating'].max().reset_index()"
   ]
  },
  {
   "cell_type": "code",
   "execution_count": 110,
   "id": "a0792688",
   "metadata": {},
   "outputs": [
    {
     "data": {
      "text/plain": [
       "'New York'"
      ]
     },
     "execution_count": 110,
     "metadata": {},
     "output_type": "execute_result"
    }
   ],
   "source": [
    "# Group by the Location and find the shop with the highest rating in each location.\n",
    "df.groupby('Location')['Rating'].max().idxmax()"
   ]
  },
  {
   "cell_type": "code",
   "execution_count": 111,
   "id": "6b1b8599",
   "metadata": {},
   "outputs": [
    {
     "data": {
      "text/plain": [
       "'Starbucks'"
      ]
     },
     "execution_count": 111,
     "metadata": {},
     "output_type": "execute_result"
    }
   ],
   "source": [
    "# Calculate the median rating for each Shop_Name by \n",
    "# grouping based on the shop name. Which shop has the median rating of 4.5?\n",
    "x = df.groupby('Shop_Name')['Rating'].median().reset_index()\n",
    "x[x['Rating'] == 4.5]['Shop_Name'].values[0]"
   ]
  },
  {
   "cell_type": "code",
   "execution_count": 112,
   "id": "53a11ac2",
   "metadata": {},
   "outputs": [
    {
     "data": {
      "text/html": [
       "<div>\n",
       "<style scoped>\n",
       "    .dataframe tbody tr th:only-of-type {\n",
       "        vertical-align: middle;\n",
       "    }\n",
       "\n",
       "    .dataframe tbody tr th {\n",
       "        vertical-align: top;\n",
       "    }\n",
       "\n",
       "    .dataframe thead th {\n",
       "        text-align: right;\n",
       "    }\n",
       "</style>\n",
       "<table border=\"1\" class=\"dataframe\">\n",
       "  <thead>\n",
       "    <tr style=\"text-align: right;\">\n",
       "      <th></th>\n",
       "      <th>Shop_Name</th>\n",
       "      <th>Rating</th>\n",
       "    </tr>\n",
       "  </thead>\n",
       "  <tbody>\n",
       "    <tr>\n",
       "      <th>0</th>\n",
       "      <td>Blue Bottle</td>\n",
       "      <td>4.65</td>\n",
       "    </tr>\n",
       "    <tr>\n",
       "      <th>1</th>\n",
       "      <td>Dunkin</td>\n",
       "      <td>4.00</td>\n",
       "    </tr>\n",
       "    <tr>\n",
       "      <th>2</th>\n",
       "      <td>La Colombe</td>\n",
       "      <td>4.80</td>\n",
       "    </tr>\n",
       "    <tr>\n",
       "      <th>3</th>\n",
       "      <td>Peets</td>\n",
       "      <td>4.25</td>\n",
       "    </tr>\n",
       "    <tr>\n",
       "      <th>4</th>\n",
       "      <td>Starbucks</td>\n",
       "      <td>4.50</td>\n",
       "    </tr>\n",
       "  </tbody>\n",
       "</table>\n",
       "</div>"
      ],
      "text/plain": [
       "     Shop_Name  Rating\n",
       "0  Blue Bottle    4.65\n",
       "1       Dunkin    4.00\n",
       "2   La Colombe    4.80\n",
       "3        Peets    4.25\n",
       "4    Starbucks    4.50"
      ]
     },
     "execution_count": 112,
     "metadata": {},
     "output_type": "execute_result"
    }
   ],
   "source": [
    "df.groupby('Shop_Name')['Rating'].median().reset_index()"
   ]
  },
  {
   "cell_type": "code",
   "execution_count": 123,
   "id": "8d92b6cb",
   "metadata": {},
   "outputs": [],
   "source": [
    "# Group by Type and find the standard deviation of Rating for both\n",
    "# 'Independent' and 'Chain' shops. Which type has a more consistent rating?\n",
    "\n",
    "x = df.groupby('Type')['Rating'].std().reset_index()\n",
    "x.loc[x['Type'].isin(['Chain', 'Independent'])].sort_values(by = 'Rating', ascending = False).iloc[0,0]"
   ]
  },
  {
   "cell_type": "code",
   "execution_count": 152,
   "id": "01b7f625",
   "metadata": {},
   "outputs": [
    {
     "data": {
      "text/plain": [
       "'Chain'"
      ]
     },
     "execution_count": 152,
     "metadata": {},
     "output_type": "execute_result"
    }
   ],
   "source": [
    "# std_dev = df.groupby('Type')['Rating'].std().loc[['Independent', 'Chain']]\n",
    "# std_dev\n",
    "\n",
    "df.groupby('Type')['Rating'].std().loc[['Independent', 'Chain']].idxmax()"
   ]
  },
  {
   "cell_type": "code",
   "execution_count": 157,
   "id": "d0818ed3",
   "metadata": {},
   "outputs": [
    {
     "data": {
      "text/html": [
       "<div>\n",
       "<style scoped>\n",
       "    .dataframe tbody tr th:only-of-type {\n",
       "        vertical-align: middle;\n",
       "    }\n",
       "\n",
       "    .dataframe tbody tr th {\n",
       "        vertical-align: top;\n",
       "    }\n",
       "\n",
       "    .dataframe thead th {\n",
       "        text-align: right;\n",
       "    }\n",
       "</style>\n",
       "<table border=\"1\" class=\"dataframe\">\n",
       "  <thead>\n",
       "    <tr style=\"text-align: right;\">\n",
       "      <th></th>\n",
       "      <th>Location</th>\n",
       "      <th>total_reviews</th>\n",
       "    </tr>\n",
       "  </thead>\n",
       "  <tbody>\n",
       "    <tr>\n",
       "      <th>0</th>\n",
       "      <td>Hollywood</td>\n",
       "      <td>4</td>\n",
       "    </tr>\n",
       "    <tr>\n",
       "      <th>1</th>\n",
       "      <td>New York</td>\n",
       "      <td>3</td>\n",
       "    </tr>\n",
       "    <tr>\n",
       "      <th>2</th>\n",
       "      <td>San Diego</td>\n",
       "      <td>3</td>\n",
       "    </tr>\n",
       "  </tbody>\n",
       "</table>\n",
       "</div>"
      ],
      "text/plain": [
       "    Location  total_reviews\n",
       "0  Hollywood              4\n",
       "1   New York              3\n",
       "2  San Diego              3"
      ]
     },
     "execution_count": 157,
     "metadata": {},
     "output_type": "execute_result"
    }
   ],
   "source": [
    "# After grouping by Location, \n",
    "# find the total number of reviews each \n",
    "# location received (assuming each row is a unique review).\n",
    "\n",
    "df.groupby('Location').size().reset_index(name = 'total_reviews')\n"
   ]
  },
  {
   "cell_type": "code",
   "execution_count": 159,
   "id": "f0858067",
   "metadata": {},
   "outputs": [
    {
     "data": {
      "text/plain": [
       "('Chain', 'Hollywood')"
      ]
     },
     "execution_count": 159,
     "metadata": {},
     "output_type": "execute_result"
    }
   ],
   "source": [
    "# Group by both Location and Type and calculate \n",
    "# the sum of the Rating. \n",
    "# Which combination of location and type has the highest total rating?\n",
    "\n",
    "df.groupby(['Type', 'Location'])['Rating'].sum().idxmax()\n"
   ]
  },
  {
   "cell_type": "code",
   "execution_count": 163,
   "id": "627c32c1",
   "metadata": {},
   "outputs": [
    {
     "data": {
      "text/html": [
       "<div>\n",
       "<style scoped>\n",
       "    .dataframe tbody tr th:only-of-type {\n",
       "        vertical-align: middle;\n",
       "    }\n",
       "\n",
       "    .dataframe tbody tr th {\n",
       "        vertical-align: top;\n",
       "    }\n",
       "\n",
       "    .dataframe thead th {\n",
       "        text-align: right;\n",
       "    }\n",
       "</style>\n",
       "<table border=\"1\" class=\"dataframe\">\n",
       "  <thead>\n",
       "    <tr style=\"text-align: right;\">\n",
       "      <th></th>\n",
       "      <th>Location</th>\n",
       "      <th>Rating</th>\n",
       "    </tr>\n",
       "  </thead>\n",
       "  <tbody>\n",
       "    <tr>\n",
       "      <th>0</th>\n",
       "      <td>Hollywood</td>\n",
       "      <td>4.20</td>\n",
       "    </tr>\n",
       "    <tr>\n",
       "      <th>1</th>\n",
       "      <td>New York</td>\n",
       "      <td>4.45</td>\n",
       "    </tr>\n",
       "    <tr>\n",
       "      <th>2</th>\n",
       "      <td>San Diego</td>\n",
       "      <td>4.15</td>\n",
       "    </tr>\n",
       "  </tbody>\n",
       "</table>\n",
       "</div>"
      ],
      "text/plain": [
       "    Location  Rating\n",
       "0  Hollywood    4.20\n",
       "1   New York    4.45\n",
       "2  San Diego    4.15"
      ]
     },
     "execution_count": 163,
     "metadata": {},
     "output_type": "execute_result"
    }
   ],
   "source": [
    "# Group by Location and find out the 25th percentile\n",
    "# of the Rating for each location.\n",
    "\n",
    "df.groupby('Location')['Rating'].quantile(0.25).reset_index()"
   ]
  },
  {
   "cell_type": "code",
   "execution_count": null,
   "id": "0e20ca05",
   "metadata": {},
   "outputs": [],
   "source": []
  },
  {
   "cell_type": "code",
   "execution_count": null,
   "id": "e936a42a",
   "metadata": {},
   "outputs": [],
   "source": []
  },
  {
   "cell_type": "code",
   "execution_count": null,
   "id": "391204dc",
   "metadata": {},
   "outputs": [],
   "source": []
  },
  {
   "cell_type": "code",
   "execution_count": null,
   "id": "c8e4c72c",
   "metadata": {},
   "outputs": [],
   "source": []
  },
  {
   "cell_type": "code",
   "execution_count": null,
   "id": "c46e0857",
   "metadata": {},
   "outputs": [],
   "source": []
  },
  {
   "cell_type": "code",
   "execution_count": null,
   "id": "f6ea8854",
   "metadata": {},
   "outputs": [],
   "source": []
  },
  {
   "cell_type": "code",
   "execution_count": null,
   "id": "214598e1",
   "metadata": {},
   "outputs": [],
   "source": []
  },
  {
   "cell_type": "code",
   "execution_count": null,
   "id": "f03b1676",
   "metadata": {},
   "outputs": [],
   "source": []
  },
  {
   "cell_type": "code",
   "execution_count": null,
   "id": "2786814e",
   "metadata": {},
   "outputs": [],
   "source": []
  },
  {
   "cell_type": "code",
   "execution_count": null,
   "id": "27a38f7f",
   "metadata": {},
   "outputs": [],
   "source": []
  },
  {
   "cell_type": "code",
   "execution_count": null,
   "id": "73e89b7b",
   "metadata": {},
   "outputs": [],
   "source": []
  }
 ],
 "metadata": {
  "kernelspec": {
   "display_name": "Python 3",
   "language": "python",
   "name": "python3"
  },
  "language_info": {
   "codemirror_mode": {
    "name": "ipython",
    "version": 3
   },
   "file_extension": ".py",
   "mimetype": "text/x-python",
   "name": "python",
   "nbconvert_exporter": "python",
   "pygments_lexer": "ipython3",
   "version": "3.8.3"
  }
 },
 "nbformat": 4,
 "nbformat_minor": 5
}
