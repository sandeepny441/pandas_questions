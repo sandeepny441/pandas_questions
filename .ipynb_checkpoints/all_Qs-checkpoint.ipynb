{
 "cells": [
  {
   "cell_type": "code",
   "execution_count": 2,
   "id": "3b215d8b",
   "metadata": {},
   "outputs": [
    {
     "data": {
      "text/html": [
       "<div>\n",
       "<style scoped>\n",
       "    .dataframe tbody tr th:only-of-type {\n",
       "        vertical-align: middle;\n",
       "    }\n",
       "\n",
       "    .dataframe tbody tr th {\n",
       "        vertical-align: top;\n",
       "    }\n",
       "\n",
       "    .dataframe thead th {\n",
       "        text-align: right;\n",
       "    }\n",
       "</style>\n",
       "<table border=\"1\" class=\"dataframe\">\n",
       "  <thead>\n",
       "    <tr style=\"text-align: right;\">\n",
       "      <th></th>\n",
       "      <th>Coffee_Shop_Name</th>\n",
       "      <th>Location</th>\n",
       "      <th>Rating_out_of_5</th>\n",
       "      <th>Visitors_per_day</th>\n",
       "    </tr>\n",
       "  </thead>\n",
       "  <tbody>\n",
       "    <tr>\n",
       "      <th>0</th>\n",
       "      <td>HollyBrew</td>\n",
       "      <td>Hollywood</td>\n",
       "      <td>4.5</td>\n",
       "      <td>320</td>\n",
       "    </tr>\n",
       "    <tr>\n",
       "      <th>1</th>\n",
       "      <td>Diego Drip</td>\n",
       "      <td>San Diego</td>\n",
       "      <td>4.1</td>\n",
       "      <td>290</td>\n",
       "    </tr>\n",
       "    <tr>\n",
       "      <th>2</th>\n",
       "      <td>NY Espresso</td>\n",
       "      <td>New York</td>\n",
       "      <td>4.0</td>\n",
       "      <td>500</td>\n",
       "    </tr>\n",
       "    <tr>\n",
       "      <th>3</th>\n",
       "      <td>Holly Beans</td>\n",
       "      <td>Hollywood</td>\n",
       "      <td>4.7</td>\n",
       "      <td>330</td>\n",
       "    </tr>\n",
       "    <tr>\n",
       "      <th>4</th>\n",
       "      <td>Diego Morning</td>\n",
       "      <td>San Diego</td>\n",
       "      <td>4.3</td>\n",
       "      <td>280</td>\n",
       "    </tr>\n",
       "    <tr>\n",
       "      <th>5</th>\n",
       "      <td>NY Caffeine</td>\n",
       "      <td>New York</td>\n",
       "      <td>4.4</td>\n",
       "      <td>520</td>\n",
       "    </tr>\n",
       "    <tr>\n",
       "      <th>6</th>\n",
       "      <td>Diego Delight</td>\n",
       "      <td>San Diego</td>\n",
       "      <td>4.2</td>\n",
       "      <td>270</td>\n",
       "    </tr>\n",
       "  </tbody>\n",
       "</table>\n",
       "</div>"
      ],
      "text/plain": [
       "  Coffee_Shop_Name   Location  Rating_out_of_5  Visitors_per_day\n",
       "0        HollyBrew  Hollywood              4.5               320\n",
       "1       Diego Drip  San Diego              4.1               290\n",
       "2      NY Espresso   New York              4.0               500\n",
       "3      Holly Beans  Hollywood              4.7               330\n",
       "4    Diego Morning  San Diego              4.3               280\n",
       "5      NY Caffeine   New York              4.4               520\n",
       "6    Diego Delight  San Diego              4.2               270"
      ]
     },
     "execution_count": 2,
     "metadata": {},
     "output_type": "execute_result"
    }
   ],
   "source": [
    "import pandas as pd\n",
    "\n",
    "data = {\n",
    "'Coffee_Shop_Name': ['HollyBrew', 'Diego Drip', 'NY Espresso', 'Holly Beans', 'Diego Morning', 'NY Caffeine', 'Diego Delight'],\n",
    "'Location': ['Hollywood', 'San Diego', 'New York', 'Hollywood', 'San Diego', 'New York', 'San Diego'],\n",
    "'Rating_out_of_5': [4.5, 4.1, 4.0, 4.7, 4.3, 4.4, 4.2],\n",
    "'Visitors_per_day': [320, 290, 500, 330, 280, 520, 270]\n",
    "}\n",
    "\n",
    "df = pd.DataFrame(data)\n",
    "df"
   ]
  },
  {
   "cell_type": "markdown",
   "id": "27b277f8",
   "metadata": {},
   "source": [
    "# a_LOC"
   ]
  },
  {
   "cell_type": "code",
   "execution_count": 51,
   "id": "75b985ad",
   "metadata": {},
   "outputs": [],
   "source": [
    "# Retrieve all the rows for coffee shops located in \"Hollywood\".\n",
    "# Change the rating of \"Diego Drip\" to 5.0 using the loc method.\n",
    "# Select the 'Rating_out_of_5' for the coffee shop named \"NY Espresso\".\n",
    "# Get the 'Visitors_per_day' values for coffee shops that have a rating greater than 4.2.\n",
    "# Update the 'Location' of \"NY Caffeine\" to \"Brooklyn\".\n",
    "# ================================================\n",
    "# Retrieve all coffee shops where 'Visitors_per_day' is over 400.\n",
    "# Find the 'Rating_out_of_5' for coffee shops named \"Diego Brew\" and \"Holly Coffee\".\n",
    "# Update the 'Coffee_Shop_Name' of the shop located in \"Hollywood\" with a rating of 4.0 to \"HollyBuzz Cafe\".\n",
    "# Select shops located in \"San Diego\" with a rating less than or equal to 4.2.\n",
    "# Get the 'Coffee_Shop_Name' and 'Rating_out_of_5' for shops that receive between 200 and 400 visitors per day."
   ]
  },
  {
   "cell_type": "code",
   "execution_count": 3,
   "id": "14f6fa35",
   "metadata": {},
   "outputs": [
    {
     "name": "stdout",
     "output_type": "stream",
     "text": [
      "<class 'pandas.core.frame.DataFrame'>\n",
      "RangeIndex: 7 entries, 0 to 6\n",
      "Data columns (total 4 columns):\n",
      " #   Column            Non-Null Count  Dtype  \n",
      "---  ------            --------------  -----  \n",
      " 0   Coffee_Shop_Name  7 non-null      object \n",
      " 1   Location          7 non-null      object \n",
      " 2   Rating_out_of_5   7 non-null      float64\n",
      " 3   Visitors_per_day  7 non-null      int64  \n",
      "dtypes: float64(1), int64(1), object(2)\n",
      "memory usage: 352.0+ bytes\n"
     ]
    }
   ],
   "source": [
    "# Retrieve all the rows for coffee shops located in \"Hollywood\".\n",
    "df.info()"
   ]
  },
  {
   "cell_type": "code",
   "execution_count": 8,
   "id": "5f0ce10c",
   "metadata": {},
   "outputs": [
    {
     "data": {
      "text/html": [
       "<div>\n",
       "<style scoped>\n",
       "    .dataframe tbody tr th:only-of-type {\n",
       "        vertical-align: middle;\n",
       "    }\n",
       "\n",
       "    .dataframe tbody tr th {\n",
       "        vertical-align: top;\n",
       "    }\n",
       "\n",
       "    .dataframe thead th {\n",
       "        text-align: right;\n",
       "    }\n",
       "</style>\n",
       "<table border=\"1\" class=\"dataframe\">\n",
       "  <thead>\n",
       "    <tr style=\"text-align: right;\">\n",
       "      <th></th>\n",
       "      <th>Coffee_Shop_Name</th>\n",
       "      <th>Location</th>\n",
       "      <th>Rating_out_of_5</th>\n",
       "      <th>Visitors_per_day</th>\n",
       "    </tr>\n",
       "  </thead>\n",
       "  <tbody>\n",
       "    <tr>\n",
       "      <th>0</th>\n",
       "      <td>HollyBrew</td>\n",
       "      <td>Hollywood</td>\n",
       "      <td>4.5</td>\n",
       "      <td>320</td>\n",
       "    </tr>\n",
       "    <tr>\n",
       "      <th>3</th>\n",
       "      <td>Holly Beans</td>\n",
       "      <td>Hollywood</td>\n",
       "      <td>4.7</td>\n",
       "      <td>330</td>\n",
       "    </tr>\n",
       "  </tbody>\n",
       "</table>\n",
       "</div>"
      ],
      "text/plain": [
       "  Coffee_Shop_Name   Location  Rating_out_of_5  Visitors_per_day\n",
       "0        HollyBrew  Hollywood              4.5               320\n",
       "3      Holly Beans  Hollywood              4.7               330"
      ]
     },
     "execution_count": 8,
     "metadata": {},
     "output_type": "execute_result"
    }
   ],
   "source": [
    "df.loc[df['Location'] == 'Hollywood']"
   ]
  },
  {
   "cell_type": "code",
   "execution_count": 12,
   "id": "e2b2e567",
   "metadata": {},
   "outputs": [
    {
     "data": {
      "text/html": [
       "<div>\n",
       "<style scoped>\n",
       "    .dataframe tbody tr th:only-of-type {\n",
       "        vertical-align: middle;\n",
       "    }\n",
       "\n",
       "    .dataframe tbody tr th {\n",
       "        vertical-align: top;\n",
       "    }\n",
       "\n",
       "    .dataframe thead th {\n",
       "        text-align: right;\n",
       "    }\n",
       "</style>\n",
       "<table border=\"1\" class=\"dataframe\">\n",
       "  <thead>\n",
       "    <tr style=\"text-align: right;\">\n",
       "      <th></th>\n",
       "      <th>Coffee_Shop_Name</th>\n",
       "      <th>Location</th>\n",
       "      <th>Rating_out_of_5</th>\n",
       "      <th>Visitors_per_day</th>\n",
       "      <th>Rating</th>\n",
       "    </tr>\n",
       "  </thead>\n",
       "  <tbody>\n",
       "    <tr>\n",
       "      <th>0</th>\n",
       "      <td>HollyBrew</td>\n",
       "      <td>Hollywood</td>\n",
       "      <td>4.5</td>\n",
       "      <td>320</td>\n",
       "      <td>NaN</td>\n",
       "    </tr>\n",
       "    <tr>\n",
       "      <th>1</th>\n",
       "      <td>Diego Drip</td>\n",
       "      <td>San Diego</td>\n",
       "      <td>5.0</td>\n",
       "      <td>290</td>\n",
       "      <td>5.0</td>\n",
       "    </tr>\n",
       "    <tr>\n",
       "      <th>2</th>\n",
       "      <td>NY Espresso</td>\n",
       "      <td>New York</td>\n",
       "      <td>4.0</td>\n",
       "      <td>500</td>\n",
       "      <td>NaN</td>\n",
       "    </tr>\n",
       "    <tr>\n",
       "      <th>3</th>\n",
       "      <td>Holly Beans</td>\n",
       "      <td>Hollywood</td>\n",
       "      <td>4.7</td>\n",
       "      <td>330</td>\n",
       "      <td>NaN</td>\n",
       "    </tr>\n",
       "    <tr>\n",
       "      <th>4</th>\n",
       "      <td>Diego Morning</td>\n",
       "      <td>San Diego</td>\n",
       "      <td>4.3</td>\n",
       "      <td>280</td>\n",
       "      <td>NaN</td>\n",
       "    </tr>\n",
       "    <tr>\n",
       "      <th>5</th>\n",
       "      <td>NY Caffeine</td>\n",
       "      <td>New York</td>\n",
       "      <td>4.4</td>\n",
       "      <td>520</td>\n",
       "      <td>NaN</td>\n",
       "    </tr>\n",
       "    <tr>\n",
       "      <th>6</th>\n",
       "      <td>Diego Delight</td>\n",
       "      <td>San Diego</td>\n",
       "      <td>4.2</td>\n",
       "      <td>270</td>\n",
       "      <td>NaN</td>\n",
       "    </tr>\n",
       "  </tbody>\n",
       "</table>\n",
       "</div>"
      ],
      "text/plain": [
       "  Coffee_Shop_Name   Location  Rating_out_of_5  Visitors_per_day  Rating\n",
       "0        HollyBrew  Hollywood              4.5               320     NaN\n",
       "1       Diego Drip  San Diego              5.0               290     5.0\n",
       "2      NY Espresso   New York              4.0               500     NaN\n",
       "3      Holly Beans  Hollywood              4.7               330     NaN\n",
       "4    Diego Morning  San Diego              4.3               280     NaN\n",
       "5      NY Caffeine   New York              4.4               520     NaN\n",
       "6    Diego Delight  San Diego              4.2               270     NaN"
      ]
     },
     "execution_count": 12,
     "metadata": {},
     "output_type": "execute_result"
    }
   ],
   "source": [
    "# Change the rating of \"Diego Drip\" to 5.0 using the loc method.\n",
    "df.loc[df['Coffee_Shop_Name'] == 'Diego Drip', 'Rating_out_of_5'] = 5.0\n",
    "df"
   ]
  },
  {
   "cell_type": "code",
   "execution_count": 13,
   "id": "bdfdf142",
   "metadata": {},
   "outputs": [
    {
     "data": {
      "text/plain": [
       "2    4.0\n",
       "Name: Rating_out_of_5, dtype: float64"
      ]
     },
     "execution_count": 13,
     "metadata": {},
     "output_type": "execute_result"
    }
   ],
   "source": [
    "# Select the 'Rating_out_of_5' for the coffee shop named \"NY Espresso\".\n",
    "df.loc[df['Coffee_Shop_Name'] == 'NY Espresso']['Rating_out_of_5']"
   ]
  },
  {
   "cell_type": "code",
   "execution_count": 19,
   "id": "96c35f57",
   "metadata": {},
   "outputs": [
    {
     "data": {
      "text/plain": [
       "0    320\n",
       "1    290\n",
       "3    330\n",
       "4    280\n",
       "5    520\n",
       "Name: Visitors_per_day, dtype: int64"
      ]
     },
     "execution_count": 19,
     "metadata": {},
     "output_type": "execute_result"
    }
   ],
   "source": [
    "# Get the Visitors_per_day'Visitors_per_day' values for coffee shops that have a rating greater than 4.2.\n",
    "df.loc[df['Rating_out_of_5'] > 4.2]['Visitors_per_day']"
   ]
  },
  {
   "cell_type": "code",
   "execution_count": 33,
   "id": "67d1ab4d",
   "metadata": {},
   "outputs": [
    {
     "data": {
      "text/html": [
       "<div>\n",
       "<style scoped>\n",
       "    .dataframe tbody tr th:only-of-type {\n",
       "        vertical-align: middle;\n",
       "    }\n",
       "\n",
       "    .dataframe tbody tr th {\n",
       "        vertical-align: top;\n",
       "    }\n",
       "\n",
       "    .dataframe thead th {\n",
       "        text-align: right;\n",
       "    }\n",
       "</style>\n",
       "<table border=\"1\" class=\"dataframe\">\n",
       "  <thead>\n",
       "    <tr style=\"text-align: right;\">\n",
       "      <th></th>\n",
       "      <th>Coffee_Shop_Name</th>\n",
       "      <th>Location</th>\n",
       "      <th>Rating_out_of_5</th>\n",
       "      <th>Visitors_per_day</th>\n",
       "      <th>Rating</th>\n",
       "    </tr>\n",
       "  </thead>\n",
       "  <tbody>\n",
       "    <tr>\n",
       "      <th>0</th>\n",
       "      <td>HollyBrew</td>\n",
       "      <td>Hollywood</td>\n",
       "      <td>4.5</td>\n",
       "      <td>320</td>\n",
       "      <td>NaN</td>\n",
       "    </tr>\n",
       "    <tr>\n",
       "      <th>1</th>\n",
       "      <td>Diego Drip</td>\n",
       "      <td>San Diego</td>\n",
       "      <td>5.0</td>\n",
       "      <td>290</td>\n",
       "      <td>5.0</td>\n",
       "    </tr>\n",
       "    <tr>\n",
       "      <th>2</th>\n",
       "      <td>NY Espresso</td>\n",
       "      <td>New York</td>\n",
       "      <td>4.0</td>\n",
       "      <td>500</td>\n",
       "      <td>NaN</td>\n",
       "    </tr>\n",
       "    <tr>\n",
       "      <th>3</th>\n",
       "      <td>Holly Beans</td>\n",
       "      <td>Hollywood</td>\n",
       "      <td>4.7</td>\n",
       "      <td>330</td>\n",
       "      <td>NaN</td>\n",
       "    </tr>\n",
       "    <tr>\n",
       "      <th>4</th>\n",
       "      <td>Diego Morning</td>\n",
       "      <td>San Diego</td>\n",
       "      <td>4.3</td>\n",
       "      <td>280</td>\n",
       "      <td>NaN</td>\n",
       "    </tr>\n",
       "    <tr>\n",
       "      <th>5</th>\n",
       "      <td>NY Caffeine</td>\n",
       "      <td>Brooklyn</td>\n",
       "      <td>4.4</td>\n",
       "      <td>520</td>\n",
       "      <td>NaN</td>\n",
       "    </tr>\n",
       "    <tr>\n",
       "      <th>6</th>\n",
       "      <td>Diego Delight</td>\n",
       "      <td>San Diego</td>\n",
       "      <td>4.2</td>\n",
       "      <td>270</td>\n",
       "      <td>NaN</td>\n",
       "    </tr>\n",
       "  </tbody>\n",
       "</table>\n",
       "</div>"
      ],
      "text/plain": [
       "  Coffee_Shop_Name   Location  Rating_out_of_5  Visitors_per_day  Rating\n",
       "0        HollyBrew  Hollywood              4.5               320     NaN\n",
       "1       Diego Drip  San Diego              5.0               290     5.0\n",
       "2      NY Espresso   New York              4.0               500     NaN\n",
       "3      Holly Beans  Hollywood              4.7               330     NaN\n",
       "4    Diego Morning  San Diego              4.3               280     NaN\n",
       "5      NY Caffeine   Brooklyn              4.4               520     NaN\n",
       "6    Diego Delight  San Diego              4.2               270     NaN"
      ]
     },
     "execution_count": 33,
     "metadata": {},
     "output_type": "execute_result"
    }
   ],
   "source": [
    "# Update the 'Location' of \"NY Caffeine\" to \"Brooklyn\".\n",
    "df.loc[df['Coffee_Shop_Name'] == 'NY Caffeine', 'Location'] = 'Brooklyn'\n",
    "df"
   ]
  },
  {
   "cell_type": "markdown",
   "id": "07b0eb5f",
   "metadata": {},
   "source": [
    "# b_iLOC"
   ]
  },
  {
   "cell_type": "code",
   "execution_count": 34,
   "id": "1499d54c",
   "metadata": {},
   "outputs": [],
   "source": [
    "# Get the details of the first coffee shop in the DataFrame.\n",
    "# Retrieve the names and ratings of the first three coffee shops.\n",
    "# Extract the ratings for the last two coffee shops.\n",
    "# Update the 'Visitors_per_day' for the third coffee shop to 505 using iloc.\n",
    "# Fetch the details for coffee shops at even indices.\n",
    "# ===================================================\n",
    "\n",
    "# Extract the names of the last three coffee shops in the DataFrame.\n",
    "# Update the 'Rating_out_of_5' for the fifth coffee shop to 4.6.\n",
    "# Get the details of the coffee shop at index 3.\n",
    "# Fetch the 'Location' and 'Visitors_per_day' for the coffee shops at indices 2, 4, and 6.\n",
    "# Retrieve the rating of the second-to-last coffee shop in the DataFrame."
   ]
  },
  {
   "cell_type": "code",
   "execution_count": 36,
   "id": "e8421131",
   "metadata": {},
   "outputs": [
    {
     "data": {
      "text/plain": [
       "Coffee_Shop_Name    HollyBrew\n",
       "Location            Hollywood\n",
       "Rating_out_of_5           4.5\n",
       "Visitors_per_day          320\n",
       "Rating                    NaN\n",
       "Name: 0, dtype: object"
      ]
     },
     "execution_count": 36,
     "metadata": {},
     "output_type": "execute_result"
    }
   ],
   "source": [
    "# Get the details of the first coffee shop in the DataFrame.\n",
    "df.iloc[0]"
   ]
  },
  {
   "cell_type": "code",
   "execution_count": 39,
   "id": "482a4737",
   "metadata": {},
   "outputs": [
    {
     "data": {
      "text/plain": [
       "0      HollyBrew\n",
       "1     Diego Drip\n",
       "2    NY Espresso\n",
       "Name: Coffee_Shop_Name, dtype: object"
      ]
     },
     "execution_count": 39,
     "metadata": {},
     "output_type": "execute_result"
    }
   ],
   "source": [
    "# Retrieve the names and ratings of the first three coffee shops.\n",
    "df.iloc[:3, 0]"
   ]
  },
  {
   "cell_type": "code",
   "execution_count": 42,
   "id": "c627906a",
   "metadata": {},
   "outputs": [
    {
     "data": {
      "text/plain": [
       "5    4.4\n",
       "6    4.2\n",
       "Name: Rating_out_of_5, dtype: float64"
      ]
     },
     "execution_count": 42,
     "metadata": {},
     "output_type": "execute_result"
    }
   ],
   "source": [
    "# Extract the ratings for the last two coffee shops.\n",
    "df.iloc[-2:, 2]"
   ]
  },
  {
   "cell_type": "code",
   "execution_count": 46,
   "id": "149ec22d",
   "metadata": {},
   "outputs": [
    {
     "data": {
      "text/html": [
       "<div>\n",
       "<style scoped>\n",
       "    .dataframe tbody tr th:only-of-type {\n",
       "        vertical-align: middle;\n",
       "    }\n",
       "\n",
       "    .dataframe tbody tr th {\n",
       "        vertical-align: top;\n",
       "    }\n",
       "\n",
       "    .dataframe thead th {\n",
       "        text-align: right;\n",
       "    }\n",
       "</style>\n",
       "<table border=\"1\" class=\"dataframe\">\n",
       "  <thead>\n",
       "    <tr style=\"text-align: right;\">\n",
       "      <th></th>\n",
       "      <th>Coffee_Shop_Name</th>\n",
       "      <th>Location</th>\n",
       "      <th>Rating_out_of_5</th>\n",
       "      <th>Visitors_per_day</th>\n",
       "      <th>Rating</th>\n",
       "    </tr>\n",
       "  </thead>\n",
       "  <tbody>\n",
       "    <tr>\n",
       "      <th>0</th>\n",
       "      <td>HollyBrew</td>\n",
       "      <td>Hollywood</td>\n",
       "      <td>4.5</td>\n",
       "      <td>320</td>\n",
       "      <td>NaN</td>\n",
       "    </tr>\n",
       "    <tr>\n",
       "      <th>1</th>\n",
       "      <td>Diego Drip</td>\n",
       "      <td>San Diego</td>\n",
       "      <td>5.0</td>\n",
       "      <td>290</td>\n",
       "      <td>5.0</td>\n",
       "    </tr>\n",
       "    <tr>\n",
       "      <th>2</th>\n",
       "      <td>NY Espresso</td>\n",
       "      <td>New York</td>\n",
       "      <td>505.0</td>\n",
       "      <td>505</td>\n",
       "      <td>NaN</td>\n",
       "    </tr>\n",
       "    <tr>\n",
       "      <th>3</th>\n",
       "      <td>Holly Beans</td>\n",
       "      <td>Hollywood</td>\n",
       "      <td>4.7</td>\n",
       "      <td>330</td>\n",
       "      <td>NaN</td>\n",
       "    </tr>\n",
       "    <tr>\n",
       "      <th>4</th>\n",
       "      <td>Diego Morning</td>\n",
       "      <td>San Diego</td>\n",
       "      <td>4.3</td>\n",
       "      <td>280</td>\n",
       "      <td>NaN</td>\n",
       "    </tr>\n",
       "    <tr>\n",
       "      <th>5</th>\n",
       "      <td>NY Caffeine</td>\n",
       "      <td>Brooklyn</td>\n",
       "      <td>4.4</td>\n",
       "      <td>520</td>\n",
       "      <td>NaN</td>\n",
       "    </tr>\n",
       "    <tr>\n",
       "      <th>6</th>\n",
       "      <td>Diego Delight</td>\n",
       "      <td>San Diego</td>\n",
       "      <td>4.2</td>\n",
       "      <td>270</td>\n",
       "      <td>NaN</td>\n",
       "    </tr>\n",
       "  </tbody>\n",
       "</table>\n",
       "</div>"
      ],
      "text/plain": [
       "  Coffee_Shop_Name   Location  Rating_out_of_5  Visitors_per_day  Rating\n",
       "0        HollyBrew  Hollywood              4.5               320     NaN\n",
       "1       Diego Drip  San Diego              5.0               290     5.0\n",
       "2      NY Espresso   New York            505.0               505     NaN\n",
       "3      Holly Beans  Hollywood              4.7               330     NaN\n",
       "4    Diego Morning  San Diego              4.3               280     NaN\n",
       "5      NY Caffeine   Brooklyn              4.4               520     NaN\n",
       "6    Diego Delight  San Diego              4.2               270     NaN"
      ]
     },
     "execution_count": 46,
     "metadata": {},
     "output_type": "execute_result"
    }
   ],
   "source": [
    "# Update the 'Visitors_per_day' for the third coffee shop to 505 using iloc.\n",
    "df.iloc[2, 3] = 505\n",
    "df"
   ]
  },
  {
   "cell_type": "code",
   "execution_count": 49,
   "id": "4b4000dc",
   "metadata": {},
   "outputs": [
    {
     "data": {
      "text/html": [
       "<div>\n",
       "<style scoped>\n",
       "    .dataframe tbody tr th:only-of-type {\n",
       "        vertical-align: middle;\n",
       "    }\n",
       "\n",
       "    .dataframe tbody tr th {\n",
       "        vertical-align: top;\n",
       "    }\n",
       "\n",
       "    .dataframe thead th {\n",
       "        text-align: right;\n",
       "    }\n",
       "</style>\n",
       "<table border=\"1\" class=\"dataframe\">\n",
       "  <thead>\n",
       "    <tr style=\"text-align: right;\">\n",
       "      <th></th>\n",
       "      <th>Coffee_Shop_Name</th>\n",
       "      <th>Location</th>\n",
       "      <th>Rating_out_of_5</th>\n",
       "      <th>Visitors_per_day</th>\n",
       "      <th>Rating</th>\n",
       "    </tr>\n",
       "  </thead>\n",
       "  <tbody>\n",
       "    <tr>\n",
       "      <th>0</th>\n",
       "      <td>HollyBrew</td>\n",
       "      <td>Hollywood</td>\n",
       "      <td>4.5</td>\n",
       "      <td>320</td>\n",
       "      <td>NaN</td>\n",
       "    </tr>\n",
       "    <tr>\n",
       "      <th>2</th>\n",
       "      <td>NY Espresso</td>\n",
       "      <td>New York</td>\n",
       "      <td>505.0</td>\n",
       "      <td>505</td>\n",
       "      <td>NaN</td>\n",
       "    </tr>\n",
       "    <tr>\n",
       "      <th>4</th>\n",
       "      <td>Diego Morning</td>\n",
       "      <td>San Diego</td>\n",
       "      <td>4.3</td>\n",
       "      <td>280</td>\n",
       "      <td>NaN</td>\n",
       "    </tr>\n",
       "    <tr>\n",
       "      <th>6</th>\n",
       "      <td>Diego Delight</td>\n",
       "      <td>San Diego</td>\n",
       "      <td>4.2</td>\n",
       "      <td>270</td>\n",
       "      <td>NaN</td>\n",
       "    </tr>\n",
       "  </tbody>\n",
       "</table>\n",
       "</div>"
      ],
      "text/plain": [
       "  Coffee_Shop_Name   Location  Rating_out_of_5  Visitors_per_day  Rating\n",
       "0        HollyBrew  Hollywood              4.5               320     NaN\n",
       "2      NY Espresso   New York            505.0               505     NaN\n",
       "4    Diego Morning  San Diego              4.3               280     NaN\n",
       "6    Diego Delight  San Diego              4.2               270     NaN"
      ]
     },
     "execution_count": 49,
     "metadata": {},
     "output_type": "execute_result"
    }
   ],
   "source": [
    "# Fetch the details for coffee shops at even indices.\n",
    "df.iloc[(i for i in df.index if i%2 ==0)]"
   ]
  },
  {
   "cell_type": "markdown",
   "id": "74d8600f",
   "metadata": {},
   "source": [
    "# c_COUNT"
   ]
  },
  {
   "cell_type": "code",
   "execution_count": null,
   "id": "cf429bfa",
   "metadata": {},
   "outputs": [],
   "source": [
    "# How many coffee shops are there in each location?\n",
    "# Count the number of coffee shops with a rating above 4.5.\n",
    "# How many coffee shops receive more than 300 visitors per day?\n",
    "# Count the number of coffee shops with names containing the word \"Diego\".\n",
    "# How many unique locations are there in the DataFrame?\n",
    "# ================================================\n",
    "\n",
    "# How many coffee shops have a name that starts with \"Holly\"?\n",
    "# Count the number of coffee shops with a rating of exactly 4.0.\n",
    "# How many coffee shops in \"New York\" have a rating above 4.5?\n",
    "# Count the number of coffee shops that receive fewer than 250 visitors per day.\n",
    "# How many coffee shops in \"San Diego\" receive more than 350 visitors daily?"
   ]
  },
  {
   "cell_type": "code",
   "execution_count": 54,
   "id": "fefa4bdf",
   "metadata": {},
   "outputs": [
    {
     "data": {
      "text/plain": [
       "San Diego    3\n",
       "Hollywood    2\n",
       "New York     1\n",
       "Brooklyn     1\n",
       "Name: Location, dtype: int64"
      ]
     },
     "execution_count": 54,
     "metadata": {},
     "output_type": "execute_result"
    }
   ],
   "source": [
    "# How many coffee shops are there in each location?\n",
    "df.Location.value_counts()"
   ]
  },
  {
   "cell_type": "code",
   "execution_count": 63,
   "id": "872f825d",
   "metadata": {},
   "outputs": [
    {
     "data": {
      "text/plain": [
       "(3, 5)"
      ]
     },
     "execution_count": 63,
     "metadata": {},
     "output_type": "execute_result"
    }
   ],
   "source": [
    "# Count the number of coffee shops with a rating above 4.5.\n",
    "df[df['Rating_out_of_5'] > 4.5].shape"
   ]
  },
  {
   "cell_type": "code",
   "execution_count": 65,
   "id": "220afbbf",
   "metadata": {},
   "outputs": [
    {
     "data": {
      "text/plain": [
       "4"
      ]
     },
     "execution_count": 65,
     "metadata": {},
     "output_type": "execute_result"
    }
   ],
   "source": [
    "# How many coffee shops receive more than 300 visitors per day?\n",
    "df[df['Visitors_per_day'] > 300].shape[0]"
   ]
  },
  {
   "cell_type": "code",
   "execution_count": 66,
   "id": "08ce3cd3",
   "metadata": {},
   "outputs": [
    {
     "data": {
      "text/plain": [
       "3"
      ]
     },
     "execution_count": 66,
     "metadata": {},
     "output_type": "execute_result"
    }
   ],
   "source": [
    "# Count the number of coffee shops with names containing the word \"Diego\".\n",
    "df[df['Coffee_Shop_Name'].str.contains('Diego')].shape[0]"
   ]
  },
  {
   "cell_type": "code",
   "execution_count": 71,
   "id": "2fc5bc1d",
   "metadata": {},
   "outputs": [
    {
     "data": {
      "text/plain": [
       "4"
      ]
     },
     "execution_count": 71,
     "metadata": {},
     "output_type": "execute_result"
    }
   ],
   "source": [
    "# How many unique locations are there in the DataFrame?\n",
    "df.Location.nunique()"
   ]
  },
  {
   "cell_type": "code",
   "execution_count": 72,
   "id": "2699fe66",
   "metadata": {},
   "outputs": [
    {
     "data": {
      "text/plain": [
       "array(['Hollywood', 'San Diego', 'New York', 'Brooklyn'], dtype=object)"
      ]
     },
     "execution_count": 72,
     "metadata": {},
     "output_type": "execute_result"
    }
   ],
   "source": [
    "df.Location.unique()"
   ]
  },
  {
   "cell_type": "markdown",
   "id": "542d9cf6",
   "metadata": {},
   "source": [
    "# d_SIZE"
   ]
  },
  {
   "cell_type": "code",
   "execution_count": 73,
   "id": "09d5df2e",
   "metadata": {},
   "outputs": [],
   "source": [
    "# What's the size (number of elements) of the 'Rating_out_of_5' column?\n",
    "# Calculate the size of the DataFrame after filtering for coffee shops in \"San Diego\".\n",
    "# Determine the size of the DataFrame when you only consider the 'Coffee_Shop_Name' and 'Rating_out_of_5' columns.\n",
    "# What's the size of the DataFrame after dropping the 'Visitors_per_day' column?\n",
    "# Calculate the size of the DataFrame after selecting only the first 4 rows.\n",
    "# ===================================================\n",
    "\n",
    "# Calculate the size of the DataFrame after filtering for coffee shops in \"New York\".\n",
    "# What's the size of the DataFrame when you only consider the 'Location' and 'Visitors_per_day' columns?\n",
    "# Determine the size of the 'Rating_out_of_5' column after dropping any duplicate ratings.\n",
    "# How many elements are there in the DataFrame after dropping the first two rows?\n",
    "# Calculate the size of the DataFrame after selecting only the last 5 rows"
   ]
  },
  {
   "cell_type": "code",
   "execution_count": 75,
   "id": "658c194a",
   "metadata": {},
   "outputs": [
    {
     "data": {
      "text/plain": [
       "7"
      ]
     },
     "execution_count": 75,
     "metadata": {},
     "output_type": "execute_result"
    }
   ],
   "source": [
    "# What's the size (number of elements) of the 'Rating_out_of_5' column?\n",
    "df['Rating_out_of_5'].size"
   ]
  },
  {
   "cell_type": "code",
   "execution_count": 78,
   "id": "00f36eae",
   "metadata": {},
   "outputs": [
    {
     "data": {
      "text/plain": [
       "15"
      ]
     },
     "execution_count": 78,
     "metadata": {},
     "output_type": "execute_result"
    }
   ],
   "source": [
    "# Calculate the size of the DataFrame after filtering for coffee shops in \"San Diego\".\n",
    "df[df['Location'] == 'San Diego'].size"
   ]
  },
  {
   "cell_type": "code",
   "execution_count": 80,
   "id": "a489d402",
   "metadata": {},
   "outputs": [
    {
     "data": {
      "text/plain": [
       "14"
      ]
     },
     "execution_count": 80,
     "metadata": {},
     "output_type": "execute_result"
    }
   ],
   "source": [
    "# Determine the size of the DataFrame when you only consider the 'Coffee_Shop_Name' and 'Rating_out_of_5' columns.\n",
    "df[['Coffee_Shop_Name', 'Rating_out_of_5']].size"
   ]
  },
  {
   "cell_type": "code",
   "execution_count": 81,
   "id": "94634582",
   "metadata": {},
   "outputs": [
    {
     "data": {
      "text/plain": [
       "28"
      ]
     },
     "execution_count": 81,
     "metadata": {},
     "output_type": "execute_result"
    }
   ],
   "source": [
    "# What's the size of the DataFrame after dropping the 'Visitors_per_day' column?\n",
    "df.drop(columns = 'Visitors_per_day').size"
   ]
  },
  {
   "cell_type": "code",
   "execution_count": 86,
   "id": "ece84ca9",
   "metadata": {},
   "outputs": [
    {
     "data": {
      "text/plain": [
       "20"
      ]
     },
     "execution_count": 86,
     "metadata": {},
     "output_type": "execute_result"
    }
   ],
   "source": [
    "# Calculate the size of the DataFrame after selecting only the first 4 rows.\n",
    "df[:4].size"
   ]
  },
  {
   "cell_type": "code",
   "execution_count": null,
   "id": "503f3c41",
   "metadata": {},
   "outputs": [],
   "source": [
    "# Calculate the size of the DataFrame after filtering for coffee shops in \"New York\".\n",
    "# What's the size of the DataFrame when you only consider the 'Location' and 'Visitors_per_day' columns?\n",
    "# Determine the size of the 'Rating_out_of_5' column after dropping any duplicate ratings.\n",
    "# How many elements are there in the DataFrame after dropping the first two rows?\n",
    "# Calculate the size of the DataFrame after selecting only the last 5 rows"
   ]
  }
 ],
 "metadata": {
  "kernelspec": {
   "display_name": "Python 3",
   "language": "python",
   "name": "python3"
  },
  "language_info": {
   "codemirror_mode": {
    "name": "ipython",
    "version": 3
   },
   "file_extension": ".py",
   "mimetype": "text/x-python",
   "name": "python",
   "nbconvert_exporter": "python",
   "pygments_lexer": "ipython3",
   "version": "3.8.3"
  }
 },
 "nbformat": 4,
 "nbformat_minor": 5
}
