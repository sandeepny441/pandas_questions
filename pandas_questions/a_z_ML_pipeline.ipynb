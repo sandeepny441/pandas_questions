{
 "cells": [
  {
   "cell_type": "code",
   "execution_count": 97,
   "id": "ff1bb925",
   "metadata": {},
   "outputs": [
    {
     "data": {
      "text/html": [
       "<div>\n",
       "<style scoped>\n",
       "    .dataframe tbody tr th:only-of-type {\n",
       "        vertical-align: middle;\n",
       "    }\n",
       "\n",
       "    .dataframe tbody tr th {\n",
       "        vertical-align: top;\n",
       "    }\n",
       "\n",
       "    .dataframe thead th {\n",
       "        text-align: right;\n",
       "    }\n",
       "</style>\n",
       "<table border=\"1\" class=\"dataframe\">\n",
       "  <thead>\n",
       "    <tr style=\"text-align: right;\">\n",
       "      <th></th>\n",
       "      <th>Age</th>\n",
       "      <th>Impressions</th>\n",
       "      <th>Clicked_Through_Rate</th>\n",
       "      <th>Gender</th>\n",
       "      <th>Platform</th>\n",
       "      <th>Ad_Type</th>\n",
       "      <th>Ad_Topic</th>\n",
       "      <th>Clicked</th>\n",
       "    </tr>\n",
       "  </thead>\n",
       "  <tbody>\n",
       "    <tr>\n",
       "      <th>0</th>\n",
       "      <td>22</td>\n",
       "      <td>1000</td>\n",
       "      <td>0.05</td>\n",
       "      <td>Male</td>\n",
       "      <td>Facebook</td>\n",
       "      <td>Video</td>\n",
       "      <td>Tech</td>\n",
       "      <td>No</td>\n",
       "    </tr>\n",
       "    <tr>\n",
       "      <th>1</th>\n",
       "      <td>34</td>\n",
       "      <td>1500</td>\n",
       "      <td>0.03</td>\n",
       "      <td>Female</td>\n",
       "      <td>Instagram</td>\n",
       "      <td>Image</td>\n",
       "      <td>Fashion</td>\n",
       "      <td>Yes</td>\n",
       "    </tr>\n",
       "    <tr>\n",
       "      <th>2</th>\n",
       "      <td>27</td>\n",
       "      <td>900</td>\n",
       "      <td>0.07</td>\n",
       "      <td>Male</td>\n",
       "      <td>Facebook</td>\n",
       "      <td>Carousel</td>\n",
       "      <td>Sports</td>\n",
       "      <td>No</td>\n",
       "    </tr>\n",
       "    <tr>\n",
       "      <th>3</th>\n",
       "      <td>45</td>\n",
       "      <td>1200</td>\n",
       "      <td>0.04</td>\n",
       "      <td>Female</td>\n",
       "      <td>Google</td>\n",
       "      <td>Video</td>\n",
       "      <td>Food</td>\n",
       "      <td>Yes</td>\n",
       "    </tr>\n",
       "    <tr>\n",
       "      <th>4</th>\n",
       "      <td>51</td>\n",
       "      <td>1100</td>\n",
       "      <td>0.02</td>\n",
       "      <td>Female</td>\n",
       "      <td>Google</td>\n",
       "      <td>Image</td>\n",
       "      <td>Tech</td>\n",
       "      <td>No</td>\n",
       "    </tr>\n",
       "    <tr>\n",
       "      <th>5</th>\n",
       "      <td>30</td>\n",
       "      <td>980</td>\n",
       "      <td>0.08</td>\n",
       "      <td>Male</td>\n",
       "      <td>Instagram</td>\n",
       "      <td>Carousel</td>\n",
       "      <td>Fashion</td>\n",
       "      <td>Yes</td>\n",
       "    </tr>\n",
       "    <tr>\n",
       "      <th>6</th>\n",
       "      <td>24</td>\n",
       "      <td>1450</td>\n",
       "      <td>0.06</td>\n",
       "      <td>Male</td>\n",
       "      <td>Facebook</td>\n",
       "      <td>Video</td>\n",
       "      <td>Sports</td>\n",
       "      <td>No</td>\n",
       "    </tr>\n",
       "    <tr>\n",
       "      <th>7</th>\n",
       "      <td>35</td>\n",
       "      <td>1600</td>\n",
       "      <td>0.02</td>\n",
       "      <td>Female</td>\n",
       "      <td>Instagram</td>\n",
       "      <td>Image</td>\n",
       "      <td>Food</td>\n",
       "      <td>Yes</td>\n",
       "    </tr>\n",
       "    <tr>\n",
       "      <th>8</th>\n",
       "      <td>29</td>\n",
       "      <td>1000</td>\n",
       "      <td>0.09</td>\n",
       "      <td>Male</td>\n",
       "      <td>Google</td>\n",
       "      <td>Video</td>\n",
       "      <td>Tech</td>\n",
       "      <td>No</td>\n",
       "    </tr>\n",
       "    <tr>\n",
       "      <th>9</th>\n",
       "      <td>42</td>\n",
       "      <td>1300</td>\n",
       "      <td>0.05</td>\n",
       "      <td>Female</td>\n",
       "      <td>Facebook</td>\n",
       "      <td>Carousel</td>\n",
       "      <td>Sports</td>\n",
       "      <td>No</td>\n",
       "    </tr>\n",
       "  </tbody>\n",
       "</table>\n",
       "</div>"
      ],
      "text/plain": [
       "   Age  Impressions  Clicked_Through_Rate  Gender   Platform   Ad_Type  \\\n",
       "0   22         1000                  0.05    Male   Facebook     Video   \n",
       "1   34         1500                  0.03  Female  Instagram     Image   \n",
       "2   27          900                  0.07    Male   Facebook  Carousel   \n",
       "3   45         1200                  0.04  Female     Google     Video   \n",
       "4   51         1100                  0.02  Female     Google     Image   \n",
       "5   30          980                  0.08    Male  Instagram  Carousel   \n",
       "6   24         1450                  0.06    Male   Facebook     Video   \n",
       "7   35         1600                  0.02  Female  Instagram     Image   \n",
       "8   29         1000                  0.09    Male     Google     Video   \n",
       "9   42         1300                  0.05  Female   Facebook  Carousel   \n",
       "\n",
       "  Ad_Topic Clicked  \n",
       "0     Tech      No  \n",
       "1  Fashion     Yes  \n",
       "2   Sports      No  \n",
       "3     Food     Yes  \n",
       "4     Tech      No  \n",
       "5  Fashion     Yes  \n",
       "6   Sports      No  \n",
       "7     Food     Yes  \n",
       "8     Tech      No  \n",
       "9   Sports      No  "
      ]
     },
     "execution_count": 97,
     "metadata": {},
     "output_type": "execute_result"
    }
   ],
   "source": [
    "import numpy as np\n",
    "import pandas as pd \n",
    "\n",
    "\n",
    "# Creating the DataFrame\n",
    "data = {\n",
    "    'Age': [22, 34, 27, 45, 51, 30, 24, 35, 29, 42],\n",
    "    'Impressions': [1000, 1500, 900, 1200, 1100, 980, 1450, 1600, 1000, 1300],\n",
    "    'Clicked_Through_Rate': [0.05, 0.03, 0.07, 0.04, 0.02, 0.08, 0.06, 0.02, 0.09, 0.05],\n",
    "    'Gender': ['Male', 'Female', 'Male', 'Female', 'Female', 'Male', 'Male', 'Female', 'Male', 'Female'],\n",
    "    'Platform': ['Facebook', 'Instagram', 'Facebook', 'Google', 'Google', 'Instagram', 'Facebook', 'Instagram', 'Google', 'Facebook'],\n",
    "    'Ad_Type': ['Video', 'Image', 'Carousel', 'Video', 'Image', 'Carousel', 'Video', 'Image', 'Video', 'Carousel'],\n",
    "    'Ad_Topic': ['Tech', 'Fashion', 'Sports', 'Food', 'Tech', 'Fashion', 'Sports', 'Food', 'Tech', 'Sports'],\n",
    "    'Clicked': ['No', 'Yes', 'No', 'Yes', 'No', 'Yes', 'No', 'Yes', 'No', 'No']\n",
    "}\n",
    "\n",
    "df = pd.DataFrame(data)\n",
    "\n",
    "df"
   ]
  },
  {
   "cell_type": "markdown",
   "id": "5f7c7fa6",
   "metadata": {},
   "source": [
    "# 1.Data Overview"
   ]
  },
  {
   "cell_type": "code",
   "execution_count": 98,
   "id": "3a732fcf",
   "metadata": {},
   "outputs": [
    {
     "data": {
      "text/html": [
       "<div>\n",
       "<style scoped>\n",
       "    .dataframe tbody tr th:only-of-type {\n",
       "        vertical-align: middle;\n",
       "    }\n",
       "\n",
       "    .dataframe tbody tr th {\n",
       "        vertical-align: top;\n",
       "    }\n",
       "\n",
       "    .dataframe thead th {\n",
       "        text-align: right;\n",
       "    }\n",
       "</style>\n",
       "<table border=\"1\" class=\"dataframe\">\n",
       "  <thead>\n",
       "    <tr style=\"text-align: right;\">\n",
       "      <th></th>\n",
       "      <th>Age</th>\n",
       "      <th>Impressions</th>\n",
       "      <th>Clicked_Through_Rate</th>\n",
       "      <th>Gender</th>\n",
       "      <th>Platform</th>\n",
       "      <th>Ad_Type</th>\n",
       "      <th>Ad_Topic</th>\n",
       "      <th>Clicked</th>\n",
       "    </tr>\n",
       "  </thead>\n",
       "  <tbody>\n",
       "    <tr>\n",
       "      <th>0</th>\n",
       "      <td>22</td>\n",
       "      <td>1000</td>\n",
       "      <td>0.05</td>\n",
       "      <td>Male</td>\n",
       "      <td>Facebook</td>\n",
       "      <td>Video</td>\n",
       "      <td>Tech</td>\n",
       "      <td>No</td>\n",
       "    </tr>\n",
       "    <tr>\n",
       "      <th>1</th>\n",
       "      <td>34</td>\n",
       "      <td>1500</td>\n",
       "      <td>0.03</td>\n",
       "      <td>Female</td>\n",
       "      <td>Instagram</td>\n",
       "      <td>Image</td>\n",
       "      <td>Fashion</td>\n",
       "      <td>Yes</td>\n",
       "    </tr>\n",
       "    <tr>\n",
       "      <th>2</th>\n",
       "      <td>27</td>\n",
       "      <td>900</td>\n",
       "      <td>0.07</td>\n",
       "      <td>Male</td>\n",
       "      <td>Facebook</td>\n",
       "      <td>Carousel</td>\n",
       "      <td>Sports</td>\n",
       "      <td>No</td>\n",
       "    </tr>\n",
       "  </tbody>\n",
       "</table>\n",
       "</div>"
      ],
      "text/plain": [
       "   Age  Impressions  Clicked_Through_Rate  Gender   Platform   Ad_Type  \\\n",
       "0   22         1000                  0.05    Male   Facebook     Video   \n",
       "1   34         1500                  0.03  Female  Instagram     Image   \n",
       "2   27          900                  0.07    Male   Facebook  Carousel   \n",
       "\n",
       "  Ad_Topic Clicked  \n",
       "0     Tech      No  \n",
       "1  Fashion     Yes  \n",
       "2   Sports      No  "
      ]
     },
     "execution_count": 98,
     "metadata": {},
     "output_type": "execute_result"
    }
   ],
   "source": [
    "df.head(3)"
   ]
  },
  {
   "cell_type": "code",
   "execution_count": 99,
   "id": "9ad1c043",
   "metadata": {},
   "outputs": [
    {
     "data": {
      "text/plain": [
       "(10, 8)"
      ]
     },
     "execution_count": 99,
     "metadata": {},
     "output_type": "execute_result"
    }
   ],
   "source": [
    "df.shape"
   ]
  },
  {
   "cell_type": "code",
   "execution_count": 100,
   "id": "088ef4be",
   "metadata": {},
   "outputs": [
    {
     "data": {
      "text/plain": [
       "Age                       int64\n",
       "Impressions               int64\n",
       "Clicked_Through_Rate    float64\n",
       "Gender                   object\n",
       "Platform                 object\n",
       "Ad_Type                  object\n",
       "Ad_Topic                 object\n",
       "Clicked                  object\n",
       "dtype: object"
      ]
     },
     "execution_count": 100,
     "metadata": {},
     "output_type": "execute_result"
    }
   ],
   "source": [
    "df.dtypes"
   ]
  },
  {
   "cell_type": "code",
   "execution_count": 101,
   "id": "e8282bd0",
   "metadata": {},
   "outputs": [],
   "source": [
    "target_variable = 'Clicked'"
   ]
  },
  {
   "cell_type": "code",
   "execution_count": 102,
   "id": "59493117",
   "metadata": {},
   "outputs": [
    {
     "data": {
      "text/html": [
       "<div>\n",
       "<style scoped>\n",
       "    .dataframe tbody tr th:only-of-type {\n",
       "        vertical-align: middle;\n",
       "    }\n",
       "\n",
       "    .dataframe tbody tr th {\n",
       "        vertical-align: top;\n",
       "    }\n",
       "\n",
       "    .dataframe thead th {\n",
       "        text-align: right;\n",
       "    }\n",
       "</style>\n",
       "<table border=\"1\" class=\"dataframe\">\n",
       "  <thead>\n",
       "    <tr style=\"text-align: right;\">\n",
       "      <th></th>\n",
       "      <th>Age</th>\n",
       "      <th>Impressions</th>\n",
       "      <th>Clicked_Through_Rate</th>\n",
       "    </tr>\n",
       "  </thead>\n",
       "  <tbody>\n",
       "    <tr>\n",
       "      <th>count</th>\n",
       "      <td>10.000000</td>\n",
       "      <td>10.000000</td>\n",
       "      <td>10.000000</td>\n",
       "    </tr>\n",
       "    <tr>\n",
       "      <th>mean</th>\n",
       "      <td>33.900000</td>\n",
       "      <td>1203.000000</td>\n",
       "      <td>0.051000</td>\n",
       "    </tr>\n",
       "    <tr>\n",
       "      <th>std</th>\n",
       "      <td>9.480389</td>\n",
       "      <td>247.388583</td>\n",
       "      <td>0.024244</td>\n",
       "    </tr>\n",
       "    <tr>\n",
       "      <th>min</th>\n",
       "      <td>22.000000</td>\n",
       "      <td>900.000000</td>\n",
       "      <td>0.020000</td>\n",
       "    </tr>\n",
       "    <tr>\n",
       "      <th>25%</th>\n",
       "      <td>27.500000</td>\n",
       "      <td>1000.000000</td>\n",
       "      <td>0.032500</td>\n",
       "    </tr>\n",
       "    <tr>\n",
       "      <th>50%</th>\n",
       "      <td>32.000000</td>\n",
       "      <td>1150.000000</td>\n",
       "      <td>0.050000</td>\n",
       "    </tr>\n",
       "    <tr>\n",
       "      <th>75%</th>\n",
       "      <td>40.250000</td>\n",
       "      <td>1412.500000</td>\n",
       "      <td>0.067500</td>\n",
       "    </tr>\n",
       "    <tr>\n",
       "      <th>max</th>\n",
       "      <td>51.000000</td>\n",
       "      <td>1600.000000</td>\n",
       "      <td>0.090000</td>\n",
       "    </tr>\n",
       "  </tbody>\n",
       "</table>\n",
       "</div>"
      ],
      "text/plain": [
       "             Age  Impressions  Clicked_Through_Rate\n",
       "count  10.000000    10.000000             10.000000\n",
       "mean   33.900000  1203.000000              0.051000\n",
       "std     9.480389   247.388583              0.024244\n",
       "min    22.000000   900.000000              0.020000\n",
       "25%    27.500000  1000.000000              0.032500\n",
       "50%    32.000000  1150.000000              0.050000\n",
       "75%    40.250000  1412.500000              0.067500\n",
       "max    51.000000  1600.000000              0.090000"
      ]
     },
     "execution_count": 102,
     "metadata": {},
     "output_type": "execute_result"
    }
   ],
   "source": [
    "df.describe()"
   ]
  },
  {
   "cell_type": "code",
   "execution_count": 103,
   "id": "5196513b",
   "metadata": {},
   "outputs": [
    {
     "data": {
      "text/html": [
       "<div>\n",
       "<style scoped>\n",
       "    .dataframe tbody tr th:only-of-type {\n",
       "        vertical-align: middle;\n",
       "    }\n",
       "\n",
       "    .dataframe tbody tr th {\n",
       "        vertical-align: top;\n",
       "    }\n",
       "\n",
       "    .dataframe thead th {\n",
       "        text-align: right;\n",
       "    }\n",
       "</style>\n",
       "<table border=\"1\" class=\"dataframe\">\n",
       "  <thead>\n",
       "    <tr style=\"text-align: right;\">\n",
       "      <th></th>\n",
       "      <th>Age</th>\n",
       "      <th>Impressions</th>\n",
       "      <th>Clicked_Through_Rate</th>\n",
       "      <th>Gender</th>\n",
       "      <th>Platform</th>\n",
       "      <th>Ad_Type</th>\n",
       "      <th>Ad_Topic</th>\n",
       "      <th>Clicked</th>\n",
       "    </tr>\n",
       "  </thead>\n",
       "  <tbody>\n",
       "    <tr>\n",
       "      <th>count</th>\n",
       "      <td>10.000000</td>\n",
       "      <td>10.000000</td>\n",
       "      <td>10.000000</td>\n",
       "      <td>10</td>\n",
       "      <td>10</td>\n",
       "      <td>10</td>\n",
       "      <td>10</td>\n",
       "      <td>10</td>\n",
       "    </tr>\n",
       "    <tr>\n",
       "      <th>unique</th>\n",
       "      <td>NaN</td>\n",
       "      <td>NaN</td>\n",
       "      <td>NaN</td>\n",
       "      <td>2</td>\n",
       "      <td>3</td>\n",
       "      <td>3</td>\n",
       "      <td>4</td>\n",
       "      <td>2</td>\n",
       "    </tr>\n",
       "    <tr>\n",
       "      <th>top</th>\n",
       "      <td>NaN</td>\n",
       "      <td>NaN</td>\n",
       "      <td>NaN</td>\n",
       "      <td>Male</td>\n",
       "      <td>Facebook</td>\n",
       "      <td>Video</td>\n",
       "      <td>Tech</td>\n",
       "      <td>No</td>\n",
       "    </tr>\n",
       "    <tr>\n",
       "      <th>freq</th>\n",
       "      <td>NaN</td>\n",
       "      <td>NaN</td>\n",
       "      <td>NaN</td>\n",
       "      <td>5</td>\n",
       "      <td>4</td>\n",
       "      <td>4</td>\n",
       "      <td>3</td>\n",
       "      <td>6</td>\n",
       "    </tr>\n",
       "    <tr>\n",
       "      <th>mean</th>\n",
       "      <td>33.900000</td>\n",
       "      <td>1203.000000</td>\n",
       "      <td>0.051000</td>\n",
       "      <td>NaN</td>\n",
       "      <td>NaN</td>\n",
       "      <td>NaN</td>\n",
       "      <td>NaN</td>\n",
       "      <td>NaN</td>\n",
       "    </tr>\n",
       "    <tr>\n",
       "      <th>std</th>\n",
       "      <td>9.480389</td>\n",
       "      <td>247.388583</td>\n",
       "      <td>0.024244</td>\n",
       "      <td>NaN</td>\n",
       "      <td>NaN</td>\n",
       "      <td>NaN</td>\n",
       "      <td>NaN</td>\n",
       "      <td>NaN</td>\n",
       "    </tr>\n",
       "    <tr>\n",
       "      <th>min</th>\n",
       "      <td>22.000000</td>\n",
       "      <td>900.000000</td>\n",
       "      <td>0.020000</td>\n",
       "      <td>NaN</td>\n",
       "      <td>NaN</td>\n",
       "      <td>NaN</td>\n",
       "      <td>NaN</td>\n",
       "      <td>NaN</td>\n",
       "    </tr>\n",
       "    <tr>\n",
       "      <th>25%</th>\n",
       "      <td>27.500000</td>\n",
       "      <td>1000.000000</td>\n",
       "      <td>0.032500</td>\n",
       "      <td>NaN</td>\n",
       "      <td>NaN</td>\n",
       "      <td>NaN</td>\n",
       "      <td>NaN</td>\n",
       "      <td>NaN</td>\n",
       "    </tr>\n",
       "    <tr>\n",
       "      <th>50%</th>\n",
       "      <td>32.000000</td>\n",
       "      <td>1150.000000</td>\n",
       "      <td>0.050000</td>\n",
       "      <td>NaN</td>\n",
       "      <td>NaN</td>\n",
       "      <td>NaN</td>\n",
       "      <td>NaN</td>\n",
       "      <td>NaN</td>\n",
       "    </tr>\n",
       "    <tr>\n",
       "      <th>75%</th>\n",
       "      <td>40.250000</td>\n",
       "      <td>1412.500000</td>\n",
       "      <td>0.067500</td>\n",
       "      <td>NaN</td>\n",
       "      <td>NaN</td>\n",
       "      <td>NaN</td>\n",
       "      <td>NaN</td>\n",
       "      <td>NaN</td>\n",
       "    </tr>\n",
       "    <tr>\n",
       "      <th>max</th>\n",
       "      <td>51.000000</td>\n",
       "      <td>1600.000000</td>\n",
       "      <td>0.090000</td>\n",
       "      <td>NaN</td>\n",
       "      <td>NaN</td>\n",
       "      <td>NaN</td>\n",
       "      <td>NaN</td>\n",
       "      <td>NaN</td>\n",
       "    </tr>\n",
       "  </tbody>\n",
       "</table>\n",
       "</div>"
      ],
      "text/plain": [
       "              Age  Impressions  Clicked_Through_Rate Gender  Platform Ad_Type  \\\n",
       "count   10.000000    10.000000             10.000000     10        10      10   \n",
       "unique        NaN          NaN                   NaN      2         3       3   \n",
       "top           NaN          NaN                   NaN   Male  Facebook   Video   \n",
       "freq          NaN          NaN                   NaN      5         4       4   \n",
       "mean    33.900000  1203.000000              0.051000    NaN       NaN     NaN   \n",
       "std      9.480389   247.388583              0.024244    NaN       NaN     NaN   \n",
       "min     22.000000   900.000000              0.020000    NaN       NaN     NaN   \n",
       "25%     27.500000  1000.000000              0.032500    NaN       NaN     NaN   \n",
       "50%     32.000000  1150.000000              0.050000    NaN       NaN     NaN   \n",
       "75%     40.250000  1412.500000              0.067500    NaN       NaN     NaN   \n",
       "max     51.000000  1600.000000              0.090000    NaN       NaN     NaN   \n",
       "\n",
       "       Ad_Topic Clicked  \n",
       "count        10      10  \n",
       "unique        4       2  \n",
       "top        Tech      No  \n",
       "freq          3       6  \n",
       "mean        NaN     NaN  \n",
       "std         NaN     NaN  \n",
       "min         NaN     NaN  \n",
       "25%         NaN     NaN  \n",
       "50%         NaN     NaN  \n",
       "75%         NaN     NaN  \n",
       "max         NaN     NaN  "
      ]
     },
     "execution_count": 103,
     "metadata": {},
     "output_type": "execute_result"
    }
   ],
   "source": [
    "df.describe(include = 'all')"
   ]
  },
  {
   "cell_type": "code",
   "execution_count": 104,
   "id": "ec90d4ae",
   "metadata": {},
   "outputs": [
    {
     "data": {
      "text/plain": [
       "Age                     10\n",
       "Impressions              9\n",
       "Clicked_Through_Rate     8\n",
       "Gender                   2\n",
       "Platform                 3\n",
       "Ad_Type                  3\n",
       "Ad_Topic                 4\n",
       "Clicked                  2\n",
       "dtype: int64"
      ]
     },
     "execution_count": 104,
     "metadata": {},
     "output_type": "execute_result"
    }
   ],
   "source": [
    "df.nunique()"
   ]
  },
  {
   "cell_type": "code",
   "execution_count": 105,
   "id": "f0d041c9",
   "metadata": {},
   "outputs": [
    {
     "data": {
      "text/plain": [
       "Age                     0\n",
       "Impressions             0\n",
       "Clicked_Through_Rate    0\n",
       "Gender                  0\n",
       "Platform                0\n",
       "Ad_Type                 0\n",
       "Ad_Topic                0\n",
       "Clicked                 0\n",
       "dtype: int64"
      ]
     },
     "execution_count": 105,
     "metadata": {},
     "output_type": "execute_result"
    }
   ],
   "source": [
    "df.isnull().sum()"
   ]
  },
  {
   "cell_type": "code",
   "execution_count": 106,
   "id": "d933487b",
   "metadata": {},
   "outputs": [],
   "source": [
    "features = df.columns.tolist()\n",
    "features.remove(target_variable)"
   ]
  },
  {
   "cell_type": "markdown",
   "id": "3554d63e",
   "metadata": {},
   "source": [
    "# 2. Seperate Target Variable "
   ]
  },
  {
   "cell_type": "code",
   "execution_count": 107,
   "id": "9f9308c4",
   "metadata": {},
   "outputs": [],
   "source": [
    "y = df[target_variable]"
   ]
  },
  {
   "cell_type": "code",
   "execution_count": 108,
   "id": "085c7b77",
   "metadata": {},
   "outputs": [],
   "source": [
    "X = df.drop(columns = target_variable)"
   ]
  },
  {
   "cell_type": "code",
   "execution_count": 109,
   "id": "cc9c8ba3",
   "metadata": {},
   "outputs": [
    {
     "data": {
      "text/plain": [
       "0     No\n",
       "1    Yes\n",
       "2     No\n",
       "3    Yes\n",
       "4     No\n",
       "Name: Clicked, dtype: object"
      ]
     },
     "execution_count": 109,
     "metadata": {},
     "output_type": "execute_result"
    }
   ],
   "source": [
    "y.head()"
   ]
  },
  {
   "cell_type": "code",
   "execution_count": 110,
   "id": "d51a942f",
   "metadata": {},
   "outputs": [
    {
     "data": {
      "text/html": [
       "<div>\n",
       "<style scoped>\n",
       "    .dataframe tbody tr th:only-of-type {\n",
       "        vertical-align: middle;\n",
       "    }\n",
       "\n",
       "    .dataframe tbody tr th {\n",
       "        vertical-align: top;\n",
       "    }\n",
       "\n",
       "    .dataframe thead th {\n",
       "        text-align: right;\n",
       "    }\n",
       "</style>\n",
       "<table border=\"1\" class=\"dataframe\">\n",
       "  <thead>\n",
       "    <tr style=\"text-align: right;\">\n",
       "      <th></th>\n",
       "      <th>Age</th>\n",
       "      <th>Impressions</th>\n",
       "      <th>Clicked_Through_Rate</th>\n",
       "      <th>Gender</th>\n",
       "      <th>Platform</th>\n",
       "      <th>Ad_Type</th>\n",
       "      <th>Ad_Topic</th>\n",
       "    </tr>\n",
       "  </thead>\n",
       "  <tbody>\n",
       "    <tr>\n",
       "      <th>0</th>\n",
       "      <td>22</td>\n",
       "      <td>1000</td>\n",
       "      <td>0.05</td>\n",
       "      <td>Male</td>\n",
       "      <td>Facebook</td>\n",
       "      <td>Video</td>\n",
       "      <td>Tech</td>\n",
       "    </tr>\n",
       "    <tr>\n",
       "      <th>1</th>\n",
       "      <td>34</td>\n",
       "      <td>1500</td>\n",
       "      <td>0.03</td>\n",
       "      <td>Female</td>\n",
       "      <td>Instagram</td>\n",
       "      <td>Image</td>\n",
       "      <td>Fashion</td>\n",
       "    </tr>\n",
       "    <tr>\n",
       "      <th>2</th>\n",
       "      <td>27</td>\n",
       "      <td>900</td>\n",
       "      <td>0.07</td>\n",
       "      <td>Male</td>\n",
       "      <td>Facebook</td>\n",
       "      <td>Carousel</td>\n",
       "      <td>Sports</td>\n",
       "    </tr>\n",
       "    <tr>\n",
       "      <th>3</th>\n",
       "      <td>45</td>\n",
       "      <td>1200</td>\n",
       "      <td>0.04</td>\n",
       "      <td>Female</td>\n",
       "      <td>Google</td>\n",
       "      <td>Video</td>\n",
       "      <td>Food</td>\n",
       "    </tr>\n",
       "    <tr>\n",
       "      <th>4</th>\n",
       "      <td>51</td>\n",
       "      <td>1100</td>\n",
       "      <td>0.02</td>\n",
       "      <td>Female</td>\n",
       "      <td>Google</td>\n",
       "      <td>Image</td>\n",
       "      <td>Tech</td>\n",
       "    </tr>\n",
       "  </tbody>\n",
       "</table>\n",
       "</div>"
      ],
      "text/plain": [
       "   Age  Impressions  Clicked_Through_Rate  Gender   Platform   Ad_Type  \\\n",
       "0   22         1000                  0.05    Male   Facebook     Video   \n",
       "1   34         1500                  0.03  Female  Instagram     Image   \n",
       "2   27          900                  0.07    Male   Facebook  Carousel   \n",
       "3   45         1200                  0.04  Female     Google     Video   \n",
       "4   51         1100                  0.02  Female     Google     Image   \n",
       "\n",
       "  Ad_Topic  \n",
       "0     Tech  \n",
       "1  Fashion  \n",
       "2   Sports  \n",
       "3     Food  \n",
       "4     Tech  "
      ]
     },
     "execution_count": 110,
     "metadata": {},
     "output_type": "execute_result"
    }
   ],
   "source": [
    "X.head()"
   ]
  },
  {
   "cell_type": "code",
   "execution_count": 111,
   "id": "c5ec1d81",
   "metadata": {},
   "outputs": [],
   "source": [
    "X.to_csv('train_data.csv', index = False)"
   ]
  },
  {
   "cell_type": "markdown",
   "id": "7c389428",
   "metadata": {},
   "source": [
    "# 3. Seperation of different column Types"
   ]
  },
  {
   "cell_type": "code",
   "execution_count": 112,
   "id": "86e48a75",
   "metadata": {},
   "outputs": [
    {
     "data": {
      "text/plain": [
       "Age                       int64\n",
       "Impressions               int64\n",
       "Clicked_Through_Rate    float64\n",
       "Gender                   object\n",
       "Platform                 object\n",
       "Ad_Type                  object\n",
       "Ad_Topic                 object\n",
       "Clicked                  object\n",
       "dtype: object"
      ]
     },
     "execution_count": 112,
     "metadata": {},
     "output_type": "execute_result"
    }
   ],
   "source": [
    "data_types = df.dtypes\n",
    "data_types"
   ]
  },
  {
   "cell_type": "code",
   "execution_count": 113,
   "id": "1f4ea45f",
   "metadata": {},
   "outputs": [
    {
     "data": {
      "text/plain": [
       "['Age', 'Impressions', 'Clicked_Through_Rate']"
      ]
     },
     "execution_count": 113,
     "metadata": {},
     "output_type": "execute_result"
    }
   ],
   "source": [
    "numerical_cols = df.select_dtypes(include=['int64', 'float64']).columns.tolist()\n",
    "numerical_cols"
   ]
  },
  {
   "cell_type": "code",
   "execution_count": 114,
   "id": "1f2483f7",
   "metadata": {},
   "outputs": [
    {
     "data": {
      "text/plain": [
       "['Gender', 'Platform', 'Ad_Type', 'Ad_Topic', 'Clicked']"
      ]
     },
     "execution_count": 114,
     "metadata": {},
     "output_type": "execute_result"
    }
   ],
   "source": [
    "string_cols = df.select_dtypes(include=['object']).columns.tolist()\n",
    "string_cols"
   ]
  },
  {
   "cell_type": "code",
   "execution_count": 115,
   "id": "f0cd9e63",
   "metadata": {},
   "outputs": [
    {
     "data": {
      "text/plain": [
       "['Gender', 'Platform', 'Ad_Type', 'Ad_Topic']"
      ]
     },
     "execution_count": 115,
     "metadata": {},
     "output_type": "execute_result"
    }
   ],
   "source": [
    "categorical_cols = ['Gender', 'Platform', 'Ad_Type', 'Ad_Topic']\n",
    "df[categorical_cols] = df[categorical_cols].astype('category')\n",
    "\n",
    "categorical_cols = df.select_dtypes(include=['category']).columns.tolist()\n",
    "categorical_cols"
   ]
  },
  {
   "cell_type": "code",
   "execution_count": 116,
   "id": "859e0731",
   "metadata": {},
   "outputs": [
    {
     "data": {
      "text/html": [
       "<div>\n",
       "<style scoped>\n",
       "    .dataframe tbody tr th:only-of-type {\n",
       "        vertical-align: middle;\n",
       "    }\n",
       "\n",
       "    .dataframe tbody tr th {\n",
       "        vertical-align: top;\n",
       "    }\n",
       "\n",
       "    .dataframe thead th {\n",
       "        text-align: right;\n",
       "    }\n",
       "</style>\n",
       "<table border=\"1\" class=\"dataframe\">\n",
       "  <thead>\n",
       "    <tr style=\"text-align: right;\">\n",
       "      <th></th>\n",
       "      <th>Age</th>\n",
       "      <th>Impressions</th>\n",
       "      <th>Clicked_Through_Rate</th>\n",
       "      <th>Gender</th>\n",
       "      <th>Platform</th>\n",
       "      <th>Ad_Type</th>\n",
       "      <th>Ad_Topic</th>\n",
       "      <th>Clicked</th>\n",
       "    </tr>\n",
       "  </thead>\n",
       "  <tbody>\n",
       "    <tr>\n",
       "      <th>0</th>\n",
       "      <td>22</td>\n",
       "      <td>1000</td>\n",
       "      <td>0.05</td>\n",
       "      <td>Male</td>\n",
       "      <td>Facebook</td>\n",
       "      <td>Video</td>\n",
       "      <td>Tech</td>\n",
       "      <td>No</td>\n",
       "    </tr>\n",
       "    <tr>\n",
       "      <th>1</th>\n",
       "      <td>34</td>\n",
       "      <td>1500</td>\n",
       "      <td>0.03</td>\n",
       "      <td>Female</td>\n",
       "      <td>Instagram</td>\n",
       "      <td>Image</td>\n",
       "      <td>Fashion</td>\n",
       "      <td>Yes</td>\n",
       "    </tr>\n",
       "  </tbody>\n",
       "</table>\n",
       "</div>"
      ],
      "text/plain": [
       "   Age  Impressions  Clicked_Through_Rate  Gender   Platform Ad_Type Ad_Topic  \\\n",
       "0   22         1000                  0.05    Male   Facebook   Video     Tech   \n",
       "1   34         1500                  0.03  Female  Instagram   Image  Fashion   \n",
       "\n",
       "  Clicked  \n",
       "0      No  \n",
       "1     Yes  "
      ]
     },
     "execution_count": 116,
     "metadata": {},
     "output_type": "execute_result"
    }
   ],
   "source": [
    "df.head(2)"
   ]
  },
  {
   "cell_type": "code",
   "execution_count": 117,
   "id": "6cceb6f6",
   "metadata": {},
   "outputs": [
    {
     "data": {
      "text/plain": [
       "[]"
      ]
     },
     "execution_count": 117,
     "metadata": {},
     "output_type": "execute_result"
    }
   ],
   "source": [
    "boolean_cols = df.select_dtypes(include=['bool']).columns.tolist()\n",
    "boolean_cols"
   ]
  },
  {
   "cell_type": "code",
   "execution_count": 118,
   "id": "f3d7e646",
   "metadata": {},
   "outputs": [
    {
     "data": {
      "text/plain": [
       "[]"
      ]
     },
     "execution_count": 118,
     "metadata": {},
     "output_type": "execute_result"
    }
   ],
   "source": [
    "date_time_cols = df.select_dtypes(include=['datetime64']).columns.tolist()\n",
    "date_time_cols"
   ]
  },
  {
   "cell_type": "markdown",
   "id": "e7509e99",
   "metadata": {},
   "source": [
    "# 4. -- EDA - Numerical Columns"
   ]
  },
  {
   "cell_type": "code",
   "execution_count": 119,
   "id": "032843bb",
   "metadata": {},
   "outputs": [
    {
     "name": "stdout",
     "output_type": "stream",
     "text": [
      "Summary Statistics:\n"
     ]
    },
    {
     "data": {
      "text/html": [
       "<div>\n",
       "<style scoped>\n",
       "    .dataframe tbody tr th:only-of-type {\n",
       "        vertical-align: middle;\n",
       "    }\n",
       "\n",
       "    .dataframe tbody tr th {\n",
       "        vertical-align: top;\n",
       "    }\n",
       "\n",
       "    .dataframe thead th {\n",
       "        text-align: right;\n",
       "    }\n",
       "</style>\n",
       "<table border=\"1\" class=\"dataframe\">\n",
       "  <thead>\n",
       "    <tr style=\"text-align: right;\">\n",
       "      <th></th>\n",
       "      <th>Age</th>\n",
       "      <th>Impressions</th>\n",
       "      <th>Clicked_Through_Rate</th>\n",
       "    </tr>\n",
       "  </thead>\n",
       "  <tbody>\n",
       "    <tr>\n",
       "      <th>count</th>\n",
       "      <td>10.000000</td>\n",
       "      <td>10.000000</td>\n",
       "      <td>10.000000</td>\n",
       "    </tr>\n",
       "    <tr>\n",
       "      <th>mean</th>\n",
       "      <td>33.900000</td>\n",
       "      <td>1203.000000</td>\n",
       "      <td>0.051000</td>\n",
       "    </tr>\n",
       "    <tr>\n",
       "      <th>std</th>\n",
       "      <td>9.480389</td>\n",
       "      <td>247.388583</td>\n",
       "      <td>0.024244</td>\n",
       "    </tr>\n",
       "    <tr>\n",
       "      <th>min</th>\n",
       "      <td>22.000000</td>\n",
       "      <td>900.000000</td>\n",
       "      <td>0.020000</td>\n",
       "    </tr>\n",
       "    <tr>\n",
       "      <th>25%</th>\n",
       "      <td>27.500000</td>\n",
       "      <td>1000.000000</td>\n",
       "      <td>0.032500</td>\n",
       "    </tr>\n",
       "    <tr>\n",
       "      <th>50%</th>\n",
       "      <td>32.000000</td>\n",
       "      <td>1150.000000</td>\n",
       "      <td>0.050000</td>\n",
       "    </tr>\n",
       "    <tr>\n",
       "      <th>75%</th>\n",
       "      <td>40.250000</td>\n",
       "      <td>1412.500000</td>\n",
       "      <td>0.067500</td>\n",
       "    </tr>\n",
       "    <tr>\n",
       "      <th>max</th>\n",
       "      <td>51.000000</td>\n",
       "      <td>1600.000000</td>\n",
       "      <td>0.090000</td>\n",
       "    </tr>\n",
       "  </tbody>\n",
       "</table>\n",
       "</div>"
      ],
      "text/plain": [
       "             Age  Impressions  Clicked_Through_Rate\n",
       "count  10.000000    10.000000             10.000000\n",
       "mean   33.900000  1203.000000              0.051000\n",
       "std     9.480389   247.388583              0.024244\n",
       "min    22.000000   900.000000              0.020000\n",
       "25%    27.500000  1000.000000              0.032500\n",
       "50%    32.000000  1150.000000              0.050000\n",
       "75%    40.250000  1412.500000              0.067500\n",
       "max    51.000000  1600.000000              0.090000"
      ]
     },
     "execution_count": 119,
     "metadata": {},
     "output_type": "execute_result"
    }
   ],
   "source": [
    "# Using .describe() to get a variety of summary statistics\n",
    "summary = df.describe()\n",
    "print(\"Summary Statistics:\")\n",
    "summary"
   ]
  },
  {
   "cell_type": "markdown",
   "id": "5b724ca0",
   "metadata": {},
   "source": [
    "# 4.1 Summary Statistics"
   ]
  },
  {
   "cell_type": "code",
   "execution_count": 120,
   "id": "f455acba",
   "metadata": {},
   "outputs": [
    {
     "name": "stdout",
     "output_type": "stream",
     "text": [
      "\n",
      "Additional Statistics for Age:\n",
      "Mode: 22\n",
      "Range: 29\n",
      "Variance: 89.87777777777778\n",
      "\n",
      "Additional Statistics for Impressions:\n",
      "Mode: 1000\n",
      "Range: 700\n",
      "Variance: 61201.11111111111\n",
      "\n",
      "Additional Statistics for Clicked_Through_Rate:\n",
      "Mode: 0.02\n",
      "Range: 0.06999999999999999\n",
      "Variance: 0.0005877777777777778\n"
     ]
    }
   ],
   "source": [
    "# Compute and print additional summary statistics for each numerical column\n",
    "for col in numerical_cols:\n",
    "    mode = df[col].mode().iloc[0]  # Get the mode of the column\n",
    "    range_val = df[col].max() - df[col].min()  # Compute the range of the column\n",
    "    variance = df[col].var()  # Compute the variance of the column\n",
    "    print(f\"\\nAdditional Statistics for {col}:\")\n",
    "    print(f\"Mode: {mode}\")\n",
    "    print(f\"Range: {range_val}\")\n",
    "    print(f\"Variance: {variance}\")\n",
    "\n",
    "# Note: .describe() already provides count, mean, std, min, 25%, 50%, 75%, max\n",
    "# Therefore, the additional computations are for mode, range, and variance\n"
   ]
  },
  {
   "cell_type": "markdown",
   "id": "a30d151e",
   "metadata": {},
   "source": [
    "# 4.2 Dsitribution Analysis"
   ]
  },
  {
   "cell_type": "code",
   "execution_count": 126,
   "id": "9fee4070",
   "metadata": {},
   "outputs": [
    {
     "data": {
      "text/plain": [
       "['Age', 'Impressions', 'Clicked_Through_Rate']"
      ]
     },
     "execution_count": 126,
     "metadata": {},
     "output_type": "execute_result"
    }
   ],
   "source": [
    "import matplotlib.pyplot as plt \n",
    "import seaborn as sns\n",
    "\n",
    "sns.set(style = 'whitegrid')\n",
    "\n",
    "numerical_cols"
   ]
  },
  {
   "cell_type": "code",
   "execution_count": 122,
   "id": "36e25bc4",
   "metadata": {},
   "outputs": [
    {
     "data": {
      "text/plain": [
       "<Figure size 1200x600 with 0 Axes>"
      ]
     },
     "execution_count": 122,
     "metadata": {},
     "output_type": "execute_result"
    },
    {
     "data": {
      "text/plain": [
       "<Figure size 1200x600 with 0 Axes>"
      ]
     },
     "metadata": {},
     "output_type": "display_data"
    }
   ],
   "source": [
    "plt.figure(figsize = (12, 6))"
   ]
  },
  {
   "cell_type": "code",
   "execution_count": 123,
   "id": "8248d553",
   "metadata": {},
   "outputs": [
    {
     "data": {
      "text/html": [
       "<div>\n",
       "<style scoped>\n",
       "    .dataframe tbody tr th:only-of-type {\n",
       "        vertical-align: middle;\n",
       "    }\n",
       "\n",
       "    .dataframe tbody tr th {\n",
       "        vertical-align: top;\n",
       "    }\n",
       "\n",
       "    .dataframe thead th {\n",
       "        text-align: right;\n",
       "    }\n",
       "</style>\n",
       "<table border=\"1\" class=\"dataframe\">\n",
       "  <thead>\n",
       "    <tr style=\"text-align: right;\">\n",
       "      <th></th>\n",
       "      <th>Age</th>\n",
       "      <th>Impressions</th>\n",
       "      <th>Clicked_Through_Rate</th>\n",
       "      <th>Gender</th>\n",
       "      <th>Platform</th>\n",
       "      <th>Ad_Type</th>\n",
       "      <th>Ad_Topic</th>\n",
       "      <th>Clicked</th>\n",
       "    </tr>\n",
       "  </thead>\n",
       "  <tbody>\n",
       "    <tr>\n",
       "      <th>0</th>\n",
       "      <td>22</td>\n",
       "      <td>1000</td>\n",
       "      <td>0.05</td>\n",
       "      <td>Male</td>\n",
       "      <td>Facebook</td>\n",
       "      <td>Video</td>\n",
       "      <td>Tech</td>\n",
       "      <td>No</td>\n",
       "    </tr>\n",
       "    <tr>\n",
       "      <th>1</th>\n",
       "      <td>34</td>\n",
       "      <td>1500</td>\n",
       "      <td>0.03</td>\n",
       "      <td>Female</td>\n",
       "      <td>Instagram</td>\n",
       "      <td>Image</td>\n",
       "      <td>Fashion</td>\n",
       "      <td>Yes</td>\n",
       "    </tr>\n",
       "    <tr>\n",
       "      <th>2</th>\n",
       "      <td>27</td>\n",
       "      <td>900</td>\n",
       "      <td>0.07</td>\n",
       "      <td>Male</td>\n",
       "      <td>Facebook</td>\n",
       "      <td>Carousel</td>\n",
       "      <td>Sports</td>\n",
       "      <td>No</td>\n",
       "    </tr>\n",
       "    <tr>\n",
       "      <th>3</th>\n",
       "      <td>45</td>\n",
       "      <td>1200</td>\n",
       "      <td>0.04</td>\n",
       "      <td>Female</td>\n",
       "      <td>Google</td>\n",
       "      <td>Video</td>\n",
       "      <td>Food</td>\n",
       "      <td>Yes</td>\n",
       "    </tr>\n",
       "    <tr>\n",
       "      <th>4</th>\n",
       "      <td>51</td>\n",
       "      <td>1100</td>\n",
       "      <td>0.02</td>\n",
       "      <td>Female</td>\n",
       "      <td>Google</td>\n",
       "      <td>Image</td>\n",
       "      <td>Tech</td>\n",
       "      <td>No</td>\n",
       "    </tr>\n",
       "  </tbody>\n",
       "</table>\n",
       "</div>"
      ],
      "text/plain": [
       "   Age  Impressions  Clicked_Through_Rate  Gender   Platform   Ad_Type  \\\n",
       "0   22         1000                  0.05    Male   Facebook     Video   \n",
       "1   34         1500                  0.03  Female  Instagram     Image   \n",
       "2   27          900                  0.07    Male   Facebook  Carousel   \n",
       "3   45         1200                  0.04  Female     Google     Video   \n",
       "4   51         1100                  0.02  Female     Google     Image   \n",
       "\n",
       "  Ad_Topic Clicked  \n",
       "0     Tech      No  \n",
       "1  Fashion     Yes  \n",
       "2   Sports      No  \n",
       "3     Food     Yes  \n",
       "4     Tech      No  "
      ]
     },
     "execution_count": 123,
     "metadata": {},
     "output_type": "execute_result"
    }
   ],
   "source": [
    "df.head()"
   ]
  },
  {
   "cell_type": "markdown",
   "id": "f82fa811",
   "metadata": {},
   "source": [
    "# Histograms"
   ]
  },
  {
   "cell_type": "code",
   "execution_count": 128,
   "id": "d050e5c6",
   "metadata": {},
   "outputs": [
    {
     "data": {
      "image/png": "[encoded data removed]",
      "text/plain": [
       "<Figure size 640x480 with 1 Axes>"
      ]
     },
     "metadata": {},
     "output_type": "display_data"
    },
    {
     "data": {
      "image/png": "[encoded data removed]",
      "text/plain": [
       "<Figure size 640x480 with 1 Axes>"
      ]
     },
     "metadata": {},
     "output_type": "display_data"
    },
    {
     "data": {
      "image/png": "[encoded data removed]",
      "text/plain": [
       "<Figure size 640x480 with 1 Axes>"
      ]
     },
     "metadata": {},
     "output_type": "display_data"
    }
   ],
   "source": [
    "# Histogram\n",
    "for col in numerical_cols:\n",
    "    sns.histplot(df[col])\n",
    "    plt.show()"
   ]
  },
  {
   "cell_type": "markdown",
   "id": "a7d1b910",
   "metadata": {},
   "source": [
    "# KDE Plots"
   ]
  },
  {
   "cell_type": "code",
   "execution_count": 129,
   "id": "552ad9a4",
   "metadata": {},
   "outputs": [
    {
     "data": {
      "image/png": "[encoded data removed]",
      "text/plain": [
       "<Figure size 640x480 with 1 Axes>"
      ]
     },
     "metadata": {},
     "output_type": "display_data"
    },
    {
     "data": {
      "image/png": "[encoded data removed]",
      "text/plain": [
       "<Figure size 640x480 with 1 Axes>"
      ]
     },
     "metadata": {},
     "output_type": "display_data"
    },
    {
     "data": {
      "image/png": "[encoded data removed]",
      "text/plain": [
       "<Figure size 640x480 with 1 Axes>"
      ]
     },
     "metadata": {},
     "output_type": "display_data"
    }
   ],
   "source": [
    "for col in numerical_cols:\n",
    "    sns.kdeplot(df[col], fill=True)\n",
    "    plt.show()"
   ]
  },
  {
   "cell_type": "markdown",
   "id": "27267109",
   "metadata": {},
   "source": [
    "# Box plots"
   ]
  },
  {
   "cell_type": "code",
   "execution_count": 134,
   "id": "5d38734c",
   "metadata": {},
   "outputs": [
    {
     "data": {
      "image/png": "[encoded data removed]",
      "text/plain": [
       "<Figure size 640x480 with 1 Axes>"
      ]
     },
     "metadata": {},
     "output_type": "display_data"
    },
    {
     "data": {
      "image/png": "[encoded data removed]",
      "text/plain": [
       "<Figure size 640x480 with 1 Axes>"
      ]
     },
     "metadata": {},
     "output_type": "display_data"
    },
    {
     "data": {
      "image/png": "[encoded data removed]",
      "text/plain": [
       "<Figure size 640x480 with 1 Axes>"
      ]
     },
     "metadata": {},
     "output_type": "display_data"
    }
   ],
   "source": [
    "for col in numerical_cols:\n",
    "    sns.boxplot(df[col])\n",
    "    plt.title(f'Boxplot of {col}')\n",
    "    plt.show()"
   ]
  },
  {
   "cell_type": "markdown",
   "id": "604268a7",
   "metadata": {},
   "source": [
    "# Outlier detection using Box Plots -- Code"
   ]
  },
  {
   "cell_type": "code",
   "execution_count": 149,
   "id": "87112178",
   "metadata": {},
   "outputs": [
    {
     "name": "stdout",
     "output_type": "stream",
     "text": [
      "Empty DataFrame\n",
      "Columns: [Age, Impressions, Clicked_Through_Rate, Gender, Platform, Ad_Type, Ad_Topic, Clicked]\n",
      "Index: []\n",
      "100\n"
     ]
    }
   ],
   "source": [
    "for col in numerical_cols:\n",
    "    q1 = df[col].quantile(0.25)\n",
    "    q3 = df[col].quantile(0.75)\n",
    "    IQR = q3 - q1\n",
    "    lower_bound = Q1 - 1.5 * IQR\n",
    "    upper_bound = Q3 + 1.5 * IQR\n",
    "    outlier = df[(df[col] < lower_bound) | (df[col] > upper_bound)]\n",
    "print(outlier)\n",
    "\n",
    "if outlier.empty:\n",
    "    print(100)\n",
    "    "
   ]
  },
  {
   "cell_type": "code",
   "execution_count": 137,
   "id": "d66d280c",
   "metadata": {},
   "outputs": [
    {
     "name": "stdout",
     "output_type": "stream",
     "text": [
      "Outliers Analysis for Age:\n",
      "No outliers found in Age\n",
      "\n",
      "--------------------------------------------------\n",
      "\n",
      "Outliers Analysis for Impressions:\n",
      "No outliers found in Impressions\n",
      "\n",
      "--------------------------------------------------\n",
      "\n",
      "Outliers Analysis for Clicked_Through_Rate:\n",
      "No outliers found in Clicked_Through_Rate\n",
      "\n",
      "--------------------------------------------------\n",
      "\n"
     ]
    }
   ],
   "source": []
  },
  {
   "cell_type": "code",
   "execution_count": 135,
   "id": "0a71c9f4",
   "metadata": {},
   "outputs": [
    {
     "data": {
      "text/plain": [
       "0.2058456404087572"
      ]
     },
     "execution_count": 135,
     "metadata": {},
     "output_type": "execute_result"
    }
   ],
   "source": [
    "# Skewness \n",
    "\n",
    "skewness = df[col].skew()\n",
    "skewness"
   ]
  },
  {
   "cell_type": "code",
   "execution_count": 136,
   "id": "b52da767",
   "metadata": {},
   "outputs": [
    {
     "data": {
      "text/plain": [
       "-1.0455580133004108"
      ]
     },
     "execution_count": 136,
     "metadata": {},
     "output_type": "execute_result"
    }
   ],
   "source": [
    "# kurtosis \n",
    "kurtosis = df[col].kurtosis() \n",
    "kurtosis"
   ]
  },
  {
   "cell_type": "code",
   "execution_count": 150,
   "id": "cf7232be",
   "metadata": {},
   "outputs": [],
   "source": [
    "numerical_df = df[numerical_cols]"
   ]
  },
  {
   "cell_type": "code",
   "execution_count": 155,
   "id": "d0a66c0c",
   "metadata": {},
   "outputs": [
    {
     "data": {
      "text/html": [
       "<div>\n",
       "<style scoped>\n",
       "    .dataframe tbody tr th:only-of-type {\n",
       "        vertical-align: middle;\n",
       "    }\n",
       "\n",
       "    .dataframe tbody tr th {\n",
       "        vertical-align: top;\n",
       "    }\n",
       "\n",
       "    .dataframe thead th {\n",
       "        text-align: right;\n",
       "    }\n",
       "</style>\n",
       "<table border=\"1\" class=\"dataframe\">\n",
       "  <thead>\n",
       "    <tr style=\"text-align: right;\">\n",
       "      <th></th>\n",
       "      <th>Age</th>\n",
       "      <th>Impressions</th>\n",
       "      <th>Clicked_Through_Rate</th>\n",
       "    </tr>\n",
       "  </thead>\n",
       "  <tbody>\n",
       "    <tr>\n",
       "      <th>Age</th>\n",
       "      <td>1.000000</td>\n",
       "      <td>0.160271</td>\n",
       "      <td>-0.584455</td>\n",
       "    </tr>\n",
       "    <tr>\n",
       "      <th>Impressions</th>\n",
       "      <td>0.160271</td>\n",
       "      <td>1.000000</td>\n",
       "      <td>-0.613752</td>\n",
       "    </tr>\n",
       "    <tr>\n",
       "      <th>Clicked_Through_Rate</th>\n",
       "      <td>-0.584455</td>\n",
       "      <td>-0.613752</td>\n",
       "      <td>1.000000</td>\n",
       "    </tr>\n",
       "  </tbody>\n",
       "</table>\n",
       "</div>"
      ],
      "text/plain": [
       "                           Age  Impressions  Clicked_Through_Rate\n",
       "Age                   1.000000     0.160271             -0.584455\n",
       "Impressions           0.160271     1.000000             -0.613752\n",
       "Clicked_Through_Rate -0.584455    -0.613752              1.000000"
      ]
     },
     "execution_count": 155,
     "metadata": {},
     "output_type": "execute_result"
    }
   ],
   "source": [
    "corr_matrix = numerical_df.corr()\n",
    "corr_matrix"
   ]
  },
  {
   "cell_type": "code",
   "execution_count": 154,
   "id": "cb2d0148",
   "metadata": {},
   "outputs": [
    {
     "data": {
      "text/plain": [
       "<Axes: >"
      ]
     },
     "execution_count": 154,
     "metadata": {},
     "output_type": "execute_result"
    },
    {
     "data": {
      "image/png": "[encoded data removed]",
      "text/plain": [
       "<Figure size 640x480 with 2 Axes>"
      ]
     },
     "metadata": {},
     "output_type": "display_data"
    }
   ],
   "source": [
    "sns.heatmap(corr_matrix, annot=True, cmap='coolwarm', linewidths=.5, fmt=\".2f\")"
   ]
  },
  {
   "cell_type": "code",
   "execution_count": 156,
   "id": "f4ab0525",
   "metadata": {},
   "outputs": [
    {
     "data": {
      "image/png": "[encoded data removed]",
      "text/plain": [
       "<Figure size 750x750 with 12 Axes>"
      ]
     },
     "metadata": {},
     "output_type": "display_data"
    }
   ],
   "source": [
    "# Plotting pairwise relationships in the dataset\n",
    "pair_plot = sns.pairplot(numerical_df)\n",
    "\n",
    "# Setting plot title\n",
    "pair_plot.fig.suptitle('Pairwise Correlations', y=1.02)\n",
    "\n",
    "# Show the plot\n",
    "plt.show()"
   ]
  },
  {
   "cell_type": "code",
   "execution_count": 159,
   "id": "b1f276c7",
   "metadata": {},
   "outputs": [
    {
     "data": {
      "text/plain": [
       "((array([-1.49876728, -0.98494667, -0.64703803, -0.37109819, -0.12121409,\n",
       "          0.12121409,  0.37109819,  0.64703803,  0.98494667,  1.49876728]),\n",
       "  array([22, 24, 27, 29, 30, 34, 35, 42, 45, 51], dtype=int64)),\n",
       " (10.107641589448912, 33.9, 0.978122072956544))"
      ]
     },
     "execution_count": 159,
     "metadata": {},
     "output_type": "execute_result"
    },
    {
     "data": {
      "image/png": "[encoded data removed]",
      "text/plain": [
       "<Figure size 400x300 with 1 Axes>"
      ]
     },
     "metadata": {},
     "output_type": "display_data"
    }
   ],
   "source": [
    "# Generate QQ plot\n",
    "plt.figure(figsize=(4, 3))\n",
    "import scipy.stats as stats\n",
    "\n",
    "stats.probplot(df['Age'], dist=\"norm\", plot=plt)"
   ]
  },
  {
   "cell_type": "code",
   "execution_count": null,
   "id": "dd028a22",
   "metadata": {},
   "outputs": [],
   "source": []
  },
  {
   "cell_type": "code",
   "execution_count": null,
   "id": "01819ebf",
   "metadata": {},
   "outputs": [],
   "source": []
  },
  {
   "cell_type": "code",
   "execution_count": null,
   "id": "f2b7e96c",
   "metadata": {},
   "outputs": [],
   "source": []
  },
  {
   "cell_type": "code",
   "execution_count": null,
   "id": "76f919a9",
   "metadata": {},
   "outputs": [],
   "source": []
  },
  {
   "cell_type": "code",
   "execution_count": null,
   "id": "841fe379",
   "metadata": {},
   "outputs": [],
   "source": []
  },
  {
   "cell_type": "code",
   "execution_count": null,
   "id": "203de68d",
   "metadata": {},
   "outputs": [],
   "source": []
  },
  {
   "cell_type": "code",
   "execution_count": null,
   "id": "131ce178",
   "metadata": {},
   "outputs": [],
   "source": []
  },
  {
   "cell_type": "code",
   "execution_count": null,
   "id": "0e64722c",
   "metadata": {},
   "outputs": [],
   "source": []
  },
  {
   "cell_type": "code",
   "execution_count": null,
   "id": "bd635fc8",
   "metadata": {},
   "outputs": [],
   "source": []
  },
  {
   "cell_type": "code",
   "execution_count": null,
   "id": "fe78eca5",
   "metadata": {},
   "outputs": [],
   "source": []
  },
  {
   "cell_type": "code",
   "execution_count": null,
   "id": "847f1473",
   "metadata": {},
   "outputs": [],
   "source": []
  }
 ],
 "metadata": {
  "kernelspec": {
   "display_name": "Python 3 (ipykernel)",
   "language": "python",
   "name": "python3"
  },
  "language_info": {
   "codemirror_mode": {
    "name": "ipython",
    "version": 3
   },
   "file_extension": ".py",
   "mimetype": "text/x-python",
   "name": "python",
   "nbconvert_exporter": "python",
   "pygments_lexer": "ipython3",
   "version": "3.8.12"
  }
 },
 "nbformat": 4,
 "nbformat_minor": 5
}
