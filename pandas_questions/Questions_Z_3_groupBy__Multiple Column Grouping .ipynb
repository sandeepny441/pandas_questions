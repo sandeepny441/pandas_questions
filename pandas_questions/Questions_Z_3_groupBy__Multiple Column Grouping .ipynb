{
 "cells": [
  {
   "cell_type": "code",
   "execution_count": 8,
   "id": "e313e982",
   "metadata": {},
   "outputs": [],
   "source": [
    "import pandas as pd\n",
    "\n",
    "data = {\n",
    "'Shop_Name': ['Starbucks', 'Blue Bottle', 'Dunkin', 'Peets', 'Starbucks', 'La Colombe', 'Blue Bottle', 'Peets', 'Starbucks', 'Dunkin'],\n",
    "'Location': ['Hollywood', 'San Diego', 'San Diego', 'Hollywood', 'New York', 'New York', 'Hollywood', 'San Diego', 'New York', 'Hollywood'],\n",
    "'Rating': [4.5, 4.7, 4.1, 4.3, 4.5, 4.8, 4.6, 4.2, 4.4, 3.9],\n",
    "'Type': ['Chain', 'Independent', 'Chain', 'Chain', 'Chain', 'Independent', 'Independent', 'Chain', 'Chain', 'Chain']\n",
    "}\n",
    "\n",
    "df = pd.DataFrame(data)"
   ]
  },
  {
   "cell_type": "code",
   "execution_count": 1,
   "id": "e936a42a",
   "metadata": {},
   "outputs": [],
   "source": [
    "# Group by both Location and Type. How many independent coffee shops are there in 'San Diego'?\n",
    "# Group by Shop_Name and Location. Which shop-location combination has the highest average rating?\n",
    "# Using a grouping of Type and Location, calculate the mean Rating for 'Chain' coffee shops in 'Hollywood'.\n",
    "# Group by both Location and Type and determine the total count of each combination. Which location-type pair has the highest count?\n",
    "# Group the data by Shop_Name and Type. For shops that appear in both 'Independent' and 'Chain' categories, which one has a higher mean rating?\n",
    "# ======================================================\n",
    "# Group by Location and Type and find out which combination has the widest range of Rating (difference between max and min).\n",
    "# By grouping based on Shop_Name and Location, determine the median rating of each combination. Which shop-location combination has the lowest median rating?\n",
    "# Group by both Type and Location, and determine the total sum of ratings for 'Independent' coffee shops across all locations.\n",
    "# Group the DataFrame by Location and Shop_Name. Which location has the most diverse set of coffee shops in terms of the number of unique shop names?\n",
    "# After grouping by Type and Shop_Name, which 'Chain' coffee shop has the highest average rating and where is it located?"
   ]
  },
  {
   "cell_type": "code",
   "execution_count": 31,
   "id": "391204dc",
   "metadata": {},
   "outputs": [
    {
     "data": {
      "text/plain": [
       "1"
      ]
     },
     "execution_count": 31,
     "metadata": {},
     "output_type": "execute_result"
    }
   ],
   "source": [
    "# Group by both Location and Type. \n",
    "# How many independent coffee shops are there in 'San Diego'?\n",
    "\n",
    "x = df.groupby(['Location', 'Type']).count().reset_index()\n",
    "x[(x['Location'] == 'San Diego') & (x['Type'] == 'Independent')]['Shop_Name'].values[0]"
   ]
  },
  {
   "cell_type": "code",
   "execution_count": 36,
   "id": "f6ea8854",
   "metadata": {},
   "outputs": [
    {
     "data": {
      "text/html": [
       "<div>\n",
       "<style scoped>\n",
       "    .dataframe tbody tr th:only-of-type {\n",
       "        vertical-align: middle;\n",
       "    }\n",
       "\n",
       "    .dataframe tbody tr th {\n",
       "        vertical-align: top;\n",
       "    }\n",
       "\n",
       "    .dataframe thead th {\n",
       "        text-align: right;\n",
       "    }\n",
       "</style>\n",
       "<table border=\"1\" class=\"dataframe\">\n",
       "  <thead>\n",
       "    <tr style=\"text-align: right;\">\n",
       "      <th></th>\n",
       "      <th>Location</th>\n",
       "      <th>Type</th>\n",
       "      <th>Rating</th>\n",
       "    </tr>\n",
       "  </thead>\n",
       "  <tbody>\n",
       "    <tr>\n",
       "      <th>3</th>\n",
       "      <td>New York</td>\n",
       "      <td>Independent</td>\n",
       "      <td>4.8</td>\n",
       "    </tr>\n",
       "  </tbody>\n",
       "</table>\n",
       "</div>"
      ],
      "text/plain": [
       "   Location         Type  Rating\n",
       "3  New York  Independent     4.8"
      ]
     },
     "execution_count": 36,
     "metadata": {},
     "output_type": "execute_result"
    }
   ],
   "source": [
    "# Group by Shop_Name and Location. \n",
    "# Which shop-location combination has the highest average rating?\n",
    "\n",
    "x = df.groupby(['Location', 'Type'])['Rating'].mean().reset_index()\n",
    "x[x['Rating'] == x['Rating'].max()]"
   ]
  },
  {
   "cell_type": "code",
   "execution_count": 39,
   "id": "214598e1",
   "metadata": {},
   "outputs": [
    {
     "data": {
      "text/plain": [
       "'New York'"
      ]
     },
     "execution_count": 39,
     "metadata": {},
     "output_type": "execute_result"
    }
   ],
   "source": [
    "x[x['Rating'] == x['Rating'].max()].values[0][0]"
   ]
  },
  {
   "cell_type": "code",
   "execution_count": 41,
   "id": "f03b1676",
   "metadata": {},
   "outputs": [
    {
     "data": {
      "text/plain": [
       "'New York--Independent'"
      ]
     },
     "execution_count": 41,
     "metadata": {},
     "output_type": "execute_result"
    }
   ],
   "source": [
    "x[x['Rating'] == x['Rating'].max()].values[0][0] +'--' +x[x['Rating'] == x['Rating'].max()].values[0][1]"
   ]
  },
  {
   "cell_type": "code",
   "execution_count": 44,
   "id": "2786814e",
   "metadata": {},
   "outputs": [
    {
     "data": {
      "text/html": [
       "<div>\n",
       "<style scoped>\n",
       "    .dataframe tbody tr th:only-of-type {\n",
       "        vertical-align: middle;\n",
       "    }\n",
       "\n",
       "    .dataframe tbody tr th {\n",
       "        vertical-align: top;\n",
       "    }\n",
       "\n",
       "    .dataframe thead th {\n",
       "        text-align: right;\n",
       "    }\n",
       "</style>\n",
       "<table border=\"1\" class=\"dataframe\">\n",
       "  <thead>\n",
       "    <tr style=\"text-align: right;\">\n",
       "      <th></th>\n",
       "      <th>Type</th>\n",
       "      <th>Location</th>\n",
       "      <th>Rating</th>\n",
       "    </tr>\n",
       "  </thead>\n",
       "  <tbody>\n",
       "    <tr>\n",
       "      <th>0</th>\n",
       "      <td>Chain</td>\n",
       "      <td>Hollywood</td>\n",
       "      <td>4.233333</td>\n",
       "    </tr>\n",
       "    <tr>\n",
       "      <th>1</th>\n",
       "      <td>Chain</td>\n",
       "      <td>New York</td>\n",
       "      <td>4.450000</td>\n",
       "    </tr>\n",
       "    <tr>\n",
       "      <th>2</th>\n",
       "      <td>Chain</td>\n",
       "      <td>San Diego</td>\n",
       "      <td>4.150000</td>\n",
       "    </tr>\n",
       "    <tr>\n",
       "      <th>3</th>\n",
       "      <td>Independent</td>\n",
       "      <td>Hollywood</td>\n",
       "      <td>4.600000</td>\n",
       "    </tr>\n",
       "    <tr>\n",
       "      <th>4</th>\n",
       "      <td>Independent</td>\n",
       "      <td>New York</td>\n",
       "      <td>4.800000</td>\n",
       "    </tr>\n",
       "    <tr>\n",
       "      <th>5</th>\n",
       "      <td>Independent</td>\n",
       "      <td>San Diego</td>\n",
       "      <td>4.700000</td>\n",
       "    </tr>\n",
       "  </tbody>\n",
       "</table>\n",
       "</div>"
      ],
      "text/plain": [
       "          Type   Location    Rating\n",
       "0        Chain  Hollywood  4.233333\n",
       "1        Chain   New York  4.450000\n",
       "2        Chain  San Diego  4.150000\n",
       "3  Independent  Hollywood  4.600000\n",
       "4  Independent   New York  4.800000\n",
       "5  Independent  San Diego  4.700000"
      ]
     },
     "execution_count": 44,
     "metadata": {},
     "output_type": "execute_result"
    }
   ],
   "source": [
    "# Using a grouping of Type and Location, \n",
    "# calculate the mean Rating for 'Chain' coffee shops in 'Hollywood'.\n",
    "\n",
    "x = df.groupby(['Type', 'Location'])['Rating'].mean().reset_index()\n",
    "x[(x['Location'] == 'Hollywood') & (x['Type'] == 'Chain')]['Rating'][0]"
   ]
  },
  {
   "cell_type": "code",
   "execution_count": 60,
   "id": "27a38f7f",
   "metadata": {},
   "outputs": [
    {
     "data": {
      "text/plain": [
       "Hollywood    2\n",
       "New York     2\n",
       "San Diego    2\n",
       "Name: Location, dtype: int64"
      ]
     },
     "execution_count": 60,
     "metadata": {},
     "output_type": "execute_result"
    }
   ],
   "source": [
    "# Group by both Location and Type and determine the total \n",
    "# count of each combination. Which location-type pair has the highest count?\n",
    "\n",
    "x = df.groupby(['Type', 'Location']).count().reset_index()\n",
    "x['Location'].value_counts().sort_values()"
   ]
  },
  {
   "cell_type": "code",
   "execution_count": 72,
   "id": "68d9bd3a",
   "metadata": {},
   "outputs": [
    {
     "data": {
      "text/html": [
       "<div>\n",
       "<style scoped>\n",
       "    .dataframe tbody tr th:only-of-type {\n",
       "        vertical-align: middle;\n",
       "    }\n",
       "\n",
       "    .dataframe tbody tr th {\n",
       "        vertical-align: top;\n",
       "    }\n",
       "\n",
       "    .dataframe thead th {\n",
       "        text-align: right;\n",
       "    }\n",
       "</style>\n",
       "<table border=\"1\" class=\"dataframe\">\n",
       "  <thead>\n",
       "    <tr style=\"text-align: right;\">\n",
       "      <th></th>\n",
       "      <th>Shop_Name</th>\n",
       "      <th>Type</th>\n",
       "      <th>Rating</th>\n",
       "    </tr>\n",
       "  </thead>\n",
       "  <tbody>\n",
       "    <tr>\n",
       "      <th>0</th>\n",
       "      <td>Blue Bottle</td>\n",
       "      <td>Independent</td>\n",
       "      <td>4.650000</td>\n",
       "    </tr>\n",
       "    <tr>\n",
       "      <th>1</th>\n",
       "      <td>Dunkin</td>\n",
       "      <td>Chain</td>\n",
       "      <td>4.000000</td>\n",
       "    </tr>\n",
       "    <tr>\n",
       "      <th>2</th>\n",
       "      <td>La Colombe</td>\n",
       "      <td>Independent</td>\n",
       "      <td>4.800000</td>\n",
       "    </tr>\n",
       "    <tr>\n",
       "      <th>3</th>\n",
       "      <td>Peets</td>\n",
       "      <td>Chain</td>\n",
       "      <td>4.250000</td>\n",
       "    </tr>\n",
       "    <tr>\n",
       "      <th>4</th>\n",
       "      <td>Starbucks</td>\n",
       "      <td>Chain</td>\n",
       "      <td>4.466667</td>\n",
       "    </tr>\n",
       "  </tbody>\n",
       "</table>\n",
       "</div>"
      ],
      "text/plain": [
       "     Shop_Name         Type    Rating\n",
       "0  Blue Bottle  Independent  4.650000\n",
       "1       Dunkin        Chain  4.000000\n",
       "2   La Colombe  Independent  4.800000\n",
       "3        Peets        Chain  4.250000\n",
       "4    Starbucks        Chain  4.466667"
      ]
     },
     "execution_count": 72,
     "metadata": {},
     "output_type": "execute_result"
    }
   ],
   "source": [
    "# Group the data by Shop_Name and Type. \n",
    "# For shops that appear in both 'Independent' and 'Chain' categories, \n",
    "# which one has a higher mean rating?\n",
    "\n",
    "df.groupby(['Shop_Name', 'Type'])['Rating'].mean().reset_index()\n",
    "x = df.groupby(['Shop_Name', 'Type'])['Rating'].mean().reset_index()\n",
    "x"
   ]
  },
  {
   "cell_type": "code",
   "execution_count": 73,
   "id": "ec9071ac",
   "metadata": {},
   "outputs": [
    {
     "data": {
      "text/plain": [
       "'La Colombe'"
      ]
     },
     "execution_count": 73,
     "metadata": {},
     "output_type": "execute_result"
    }
   ],
   "source": [
    "x[x['Rating'] == x['Rating'].max()]['Shop_Name'].values[0]"
   ]
  },
  {
   "cell_type": "code",
   "execution_count": null,
   "id": "bd249709",
   "metadata": {},
   "outputs": [],
   "source": []
  },
  {
   "cell_type": "code",
   "execution_count": null,
   "id": "67e89b4e",
   "metadata": {},
   "outputs": [],
   "source": []
  },
  {
   "cell_type": "code",
   "execution_count": null,
   "id": "a3d42fea",
   "metadata": {},
   "outputs": [],
   "source": []
  }
 ],
 "metadata": {
  "kernelspec": {
   "display_name": "Python 3",
   "language": "python",
   "name": "python3"
  },
  "language_info": {
   "codemirror_mode": {
    "name": "ipython",
    "version": 3
   },
   "file_extension": ".py",
   "mimetype": "text/x-python",
   "name": "python",
   "nbconvert_exporter": "python",
   "pygments_lexer": "ipython3",
   "version": "3.8.3"
  }
 },
 "nbformat": 4,
 "nbformat_minor": 5
}
