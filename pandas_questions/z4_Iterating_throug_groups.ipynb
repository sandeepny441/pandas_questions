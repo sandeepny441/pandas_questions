{
 "cells": [
  {
   "cell_type": "code",
   "execution_count": 7,
   "id": "030aa6b8",
   "metadata": {},
   "outputs": [],
   "source": [
    "import pandas as pd\n",
    "\n",
    "data = {\n",
    "'Shop_Name': ['Starbucks', 'Blue Bottle', 'Dunkin', 'Peets', 'Starbucks', 'La Colombe', 'Blue Bottle', 'Peets', 'Starbucks', 'Dunkin'],\n",
    "'Location': ['Hollywood', 'San Diego', 'San Diego', 'Hollywood', 'New York', 'New York', 'Hollywood', 'San Diego', 'New York', 'Hollywood'],\n",
    "'Rating': [4.5, 4.7, 4.1, 4.3, 4.5, 4.8, 4.6, 4.2, 4.4, 3.9],\n",
    "'Type': ['Chain', 'Independent', 'Chain', 'Chain', 'Chain', 'Independent', 'Independent', 'Chain', 'Chain', 'Chain']\n",
    "}\n",
    "\n",
    "df = pd.DataFrame(data)"
   ]
  },
  {
   "cell_type": "code",
   "execution_count": 1,
   "id": "4cfd507e",
   "metadata": {},
   "outputs": [],
   "source": [
    "# How can you iterate through each group created by grouping the DataFrame by the 'Location' column, and print the name of each location along with the number of shops in that location?\n",
    "# Iterate through the groups formed by 'Type' and 'Location' and calculate the average 'Rating' for each group, printing both the group identifiers and the corresponding average ratings.\n",
    "# For each 'Type' of coffee shop, iterate through the groups formed by 'Location', and find the location with the highest total 'Rating' across all shops of that type.\n",
    "# Iterate through the groups formed by 'Type' and 'Location', and find the location with the lowest median 'Price' for each type, printing both the type and location.\n",
    "# How can you loop through each group based on 'Location' and find the shop with the highest 'Rating' within each location, printing the location name and the shop name?\n",
    "# =======================================\n",
    "# For each group formed by 'Type', 'Location', and 'Price_Category', iterate through the data and count how many shops belong to each 'Price_Category' within each group.\n",
    "# Loop through the groups formed by 'Type' and 'Location', and find the shop with the lowest 'Rating' within each location, printing the location name and the shop name.\n",
    "# Iterate through each group based on 'Type' and calculate the sum of 'Rating' for all shops of that type, printing the type and the total rating.\n",
    "# For each 'Location' group, iterate through the data and find the shop with the highest 'Price' within that location, printing the location name and the shop name.\n",
    "# How can you loop through each group formed by 'Type' and 'Location', and calculate the percentage of 'Chain' shops within each location, printing the location name and the percentage?"
   ]
  },
  {
   "cell_type": "code",
   "execution_count": 8,
   "id": "8a6dfe1d",
   "metadata": {},
   "outputs": [
    {
     "data": {
      "text/html": [
       "<div>\n",
       "<style scoped>\n",
       "    .dataframe tbody tr th:only-of-type {\n",
       "        vertical-align: middle;\n",
       "    }\n",
       "\n",
       "    .dataframe tbody tr th {\n",
       "        vertical-align: top;\n",
       "    }\n",
       "\n",
       "    .dataframe thead th {\n",
       "        text-align: right;\n",
       "    }\n",
       "</style>\n",
       "<table border=\"1\" class=\"dataframe\">\n",
       "  <thead>\n",
       "    <tr style=\"text-align: right;\">\n",
       "      <th></th>\n",
       "      <th>Shop_Name</th>\n",
       "      <th>Location</th>\n",
       "      <th>Rating</th>\n",
       "      <th>Type</th>\n",
       "    </tr>\n",
       "  </thead>\n",
       "  <tbody>\n",
       "    <tr>\n",
       "      <th>0</th>\n",
       "      <td>Starbucks</td>\n",
       "      <td>Hollywood</td>\n",
       "      <td>4.5</td>\n",
       "      <td>Chain</td>\n",
       "    </tr>\n",
       "    <tr>\n",
       "      <th>1</th>\n",
       "      <td>Blue Bottle</td>\n",
       "      <td>San Diego</td>\n",
       "      <td>4.7</td>\n",
       "      <td>Independent</td>\n",
       "    </tr>\n",
       "    <tr>\n",
       "      <th>2</th>\n",
       "      <td>Dunkin</td>\n",
       "      <td>San Diego</td>\n",
       "      <td>4.1</td>\n",
       "      <td>Chain</td>\n",
       "    </tr>\n",
       "    <tr>\n",
       "      <th>3</th>\n",
       "      <td>Peets</td>\n",
       "      <td>Hollywood</td>\n",
       "      <td>4.3</td>\n",
       "      <td>Chain</td>\n",
       "    </tr>\n",
       "    <tr>\n",
       "      <th>4</th>\n",
       "      <td>Starbucks</td>\n",
       "      <td>New York</td>\n",
       "      <td>4.5</td>\n",
       "      <td>Chain</td>\n",
       "    </tr>\n",
       "    <tr>\n",
       "      <th>5</th>\n",
       "      <td>La Colombe</td>\n",
       "      <td>New York</td>\n",
       "      <td>4.8</td>\n",
       "      <td>Independent</td>\n",
       "    </tr>\n",
       "    <tr>\n",
       "      <th>6</th>\n",
       "      <td>Blue Bottle</td>\n",
       "      <td>Hollywood</td>\n",
       "      <td>4.6</td>\n",
       "      <td>Independent</td>\n",
       "    </tr>\n",
       "    <tr>\n",
       "      <th>7</th>\n",
       "      <td>Peets</td>\n",
       "      <td>San Diego</td>\n",
       "      <td>4.2</td>\n",
       "      <td>Chain</td>\n",
       "    </tr>\n",
       "    <tr>\n",
       "      <th>8</th>\n",
       "      <td>Starbucks</td>\n",
       "      <td>New York</td>\n",
       "      <td>4.4</td>\n",
       "      <td>Chain</td>\n",
       "    </tr>\n",
       "    <tr>\n",
       "      <th>9</th>\n",
       "      <td>Dunkin</td>\n",
       "      <td>Hollywood</td>\n",
       "      <td>3.9</td>\n",
       "      <td>Chain</td>\n",
       "    </tr>\n",
       "  </tbody>\n",
       "</table>\n",
       "</div>"
      ],
      "text/plain": [
       "     Shop_Name   Location  Rating         Type\n",
       "0    Starbucks  Hollywood     4.5        Chain\n",
       "1  Blue Bottle  San Diego     4.7  Independent\n",
       "2       Dunkin  San Diego     4.1        Chain\n",
       "3        Peets  Hollywood     4.3        Chain\n",
       "4    Starbucks   New York     4.5        Chain\n",
       "5   La Colombe   New York     4.8  Independent\n",
       "6  Blue Bottle  Hollywood     4.6  Independent\n",
       "7        Peets  San Diego     4.2        Chain\n",
       "8    Starbucks   New York     4.4        Chain\n",
       "9       Dunkin  Hollywood     3.9        Chain"
      ]
     },
     "execution_count": 8,
     "metadata": {},
     "output_type": "execute_result"
    }
   ],
   "source": [
    "df"
   ]
  },
  {
   "cell_type": "code",
   "execution_count": 18,
   "id": "4116d43b",
   "metadata": {},
   "outputs": [
    {
     "name": "stdout",
     "output_type": "stream",
     "text": [
      "Hollywood 4\n",
      "===============\n",
      "New York 3\n",
      "===============\n",
      "San Diego 3\n",
      "===============\n"
     ]
    }
   ],
   "source": [
    "# How can you iterate through each group \n",
    "# created by grouping the DataFrame by the 'Location' column, \n",
    "# and print the name of each location \n",
    "# along with the number of shops in that location?\n",
    "\n",
    "for location, group in df.groupby('Location'):\n",
    "    print(location, len(group))\n",
    "    print(\"===============\")"
   ]
  },
  {
   "cell_type": "code",
   "execution_count": 20,
   "id": "60fb1d38",
   "metadata": {},
   "outputs": [
    {
     "name": "stdout",
     "output_type": "stream",
     "text": [
      "('Chain', 'Hollywood') 4.233333333333333\n",
      "===============\n",
      "('Chain', 'New York') 4.45\n",
      "===============\n",
      "('Chain', 'San Diego') 4.15\n",
      "===============\n",
      "('Independent', 'Hollywood') 4.6\n",
      "===============\n",
      "('Independent', 'New York') 4.8\n",
      "===============\n",
      "('Independent', 'San Diego') 4.7\n",
      "===============\n"
     ]
    }
   ],
   "source": [
    "# Iterate through the groups formed by 'Type' and 'Location' \n",
    "# and calculate the average 'Rating' for each group, \n",
    "# printing both the group identifiers and the corresponding average ratings.\n",
    "\n",
    "\n",
    "for location, group in df.groupby([\"Type\", 'Location'])['Rating']:\n",
    "    print(location, group.mean())\n",
    "    print(\"===============\")\n"
   ]
  },
  {
   "cell_type": "code",
   "execution_count": 46,
   "id": "9c42a0fc",
   "metadata": {},
   "outputs": [
    {
     "name": "stdout",
     "output_type": "stream",
     "text": [
      "Chain\n",
      "Hollywood\n",
      "12.7\n",
      "===================\n",
      "Independent\n",
      "New York\n",
      "4.8\n",
      "===================\n"
     ]
    }
   ],
   "source": [
    "# For each 'Type' of coffee shop, \n",
    "# iterate through the groups formed by 'Location', \n",
    "# and find the location with the highest total 'Rating' \n",
    "# across all shops of that type.\n",
    "\n",
    "for type, group in df.groupby('Type'):\n",
    "    x = group.groupby('Location')['Rating'].sum().idxmax()\n",
    "    y = group.groupby('Location')['Rating'].sum().max()\n",
    "    print(type)\n",
    "    print(x)\n",
    "    print(y)\n",
    "    print(\"===================\")\n",
    "\n",
    "        \n"
   ]
  },
  {
   "cell_type": "code",
   "execution_count": null,
   "id": "e8836cd0",
   "metadata": {},
   "outputs": [],
   "source": []
  }
 ],
 "metadata": {
  "kernelspec": {
   "display_name": "Python 3",
   "language": "python",
   "name": "python3"
  },
  "language_info": {
   "codemirror_mode": {
    "name": "ipython",
    "version": 3
   },
   "file_extension": ".py",
   "mimetype": "text/x-python",
   "name": "python",
   "nbconvert_exporter": "python",
   "pygments_lexer": "ipython3",
   "version": "3.8.3"
  }
 },
 "nbformat": 4,
 "nbformat_minor": 5
}
