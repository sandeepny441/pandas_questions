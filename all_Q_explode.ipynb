{
 "cells": [
  {
   "cell_type": "code",
   "execution_count": 332,
   "id": "3b215d8b",
   "metadata": {},
   "outputs": [
    {
     "data": {
      "text/html": [
       "<div>\n",
       "<style scoped>\n",
       "    .dataframe tbody tr th:only-of-type {\n",
       "        vertical-align: middle;\n",
       "    }\n",
       "\n",
       "    .dataframe tbody tr th {\n",
       "        vertical-align: top;\n",
       "    }\n",
       "\n",
       "    .dataframe thead th {\n",
       "        text-align: right;\n",
       "    }\n",
       "</style>\n",
       "<table border=\"1\" class=\"dataframe\">\n",
       "  <thead>\n",
       "    <tr style=\"text-align: right;\">\n",
       "      <th></th>\n",
       "      <th>Coffee_Shop_Name</th>\n",
       "      <th>Location</th>\n",
       "      <th>Rating_out_of_5</th>\n",
       "      <th>Visitors_per_day</th>\n",
       "    </tr>\n",
       "  </thead>\n",
       "  <tbody>\n",
       "    <tr>\n",
       "      <th>0</th>\n",
       "      <td>HollyBrew</td>\n",
       "      <td>Hollywood</td>\n",
       "      <td>4.5</td>\n",
       "      <td>320</td>\n",
       "    </tr>\n",
       "    <tr>\n",
       "      <th>1</th>\n",
       "      <td>Diego Drip</td>\n",
       "      <td>San Diego</td>\n",
       "      <td>4.1</td>\n",
       "      <td>290</td>\n",
       "    </tr>\n",
       "    <tr>\n",
       "      <th>2</th>\n",
       "      <td>NY Espresso</td>\n",
       "      <td>New York</td>\n",
       "      <td>4.0</td>\n",
       "      <td>500</td>\n",
       "    </tr>\n",
       "    <tr>\n",
       "      <th>3</th>\n",
       "      <td>Holly Beans</td>\n",
       "      <td>Hollywood</td>\n",
       "      <td>4.7</td>\n",
       "      <td>330</td>\n",
       "    </tr>\n",
       "    <tr>\n",
       "      <th>4</th>\n",
       "      <td>Diego Morning</td>\n",
       "      <td>San Diego</td>\n",
       "      <td>4.3</td>\n",
       "      <td>280</td>\n",
       "    </tr>\n",
       "    <tr>\n",
       "      <th>5</th>\n",
       "      <td>NY Caffeine</td>\n",
       "      <td>New York</td>\n",
       "      <td>4.4</td>\n",
       "      <td>520</td>\n",
       "    </tr>\n",
       "    <tr>\n",
       "      <th>6</th>\n",
       "      <td>Diego Delight</td>\n",
       "      <td>San Diego</td>\n",
       "      <td>4.2</td>\n",
       "      <td>270</td>\n",
       "    </tr>\n",
       "  </tbody>\n",
       "</table>\n",
       "</div>"
      ],
      "text/plain": [
       "  Coffee_Shop_Name   Location  Rating_out_of_5  Visitors_per_day\n",
       "0        HollyBrew  Hollywood              4.5               320\n",
       "1       Diego Drip  San Diego              4.1               290\n",
       "2      NY Espresso   New York              4.0               500\n",
       "3      Holly Beans  Hollywood              4.7               330\n",
       "4    Diego Morning  San Diego              4.3               280\n",
       "5      NY Caffeine   New York              4.4               520\n",
       "6    Diego Delight  San Diego              4.2               270"
      ]
     },
     "execution_count": 332,
     "metadata": {},
     "output_type": "execute_result"
    }
   ],
   "source": [
    "import pandas as pd\n",
    "\n",
    "data = {\n",
    "'Coffee_Shop_Name': ['HollyBrew', 'Diego Drip', 'NY Espresso', 'Holly Beans', 'Diego Morning', 'NY Caffeine', 'Diego Delight'],\n",
    "'Location': ['Hollywood', 'San Diego', 'New York', 'Hollywood', 'San Diego', 'New York', 'San Diego'],\n",
    "'Rating_out_of_5': [4.5, 4.1, 4.0, 4.7, 4.3, 4.4, 4.2],\n",
    "'Visitors_per_day': [320, 290, 500, 330, 280, 520, 270]\n",
    "}\n",
    "\n",
    "df = pd.DataFrame(data)\n",
    "df"
   ]
  },
  {
   "cell_type": "markdown",
   "id": "27b277f8",
   "metadata": {},
   "source": [
    "# a_LOC"
   ]
  },
  {
   "cell_type": "code",
   "execution_count": 333,
   "id": "75b985ad",
   "metadata": {},
   "outputs": [],
   "source": [
    "# Retrieve all the rows for coffee shops located in \"Hollywood\".\n",
    "# Change the rating of \"Diego Drip\" to 5.0 using the loc method.\n",
    "# Select the 'Rating_out_of_5' for the coffee shop named \"NY Espresso\".\n",
    "# Get the 'Visitors_per_day' values for coffee shops that have a rating greater than 4.2.\n",
    "# Update the 'Location' of \"NY Caffeine\" to \"Brooklyn\".\n",
    "# ================================================\n",
    "# Retrieve all coffee shops where 'Visitors_per_day' is over 400.\n",
    "# Find the 'Rating_out_of_5' for coffee shops named \"Diego Brew\" and \"Holly Coffee\".\n",
    "# Update the 'Coffee_Shop_Name' of the shop located in \"Hollywood\" with a rating of 4.0 to \"HollyBuzz Cafe\".\n",
    "# Select shops located in \"San Diego\" with a rating less than or equal to 4.2.\n",
    "# Get the 'Coffee_Shop_Name' and 'Rating_out_of_5' for shops that receive between 200 and 400 visitors per day."
   ]
  },
  {
   "cell_type": "code",
   "execution_count": null,
   "id": "14f6fa35",
   "metadata": {},
   "outputs": [],
   "source": [
    "# Retrieve all the rows for coffee shops located in \"Hollywood\".\n",
    "df.info()"
   ]
  },
  {
   "cell_type": "code",
   "execution_count": null,
   "id": "5f0ce10c",
   "metadata": {},
   "outputs": [],
   "source": [
    "df.loc[df['Location'] == 'Hollywood']"
   ]
  },
  {
   "cell_type": "code",
   "execution_count": null,
   "id": "e2b2e567",
   "metadata": {},
   "outputs": [],
   "source": [
    "# Change the rating of \"Diego Drip\" to 5.0 using the loc method.\n",
    "df.loc[df['Coffee_Shop_Name'] == 'Diego Drip', 'Rating_out_of_5'] = 5.0\n",
    "df"
   ]
  },
  {
   "cell_type": "code",
   "execution_count": null,
   "id": "bdfdf142",
   "metadata": {},
   "outputs": [],
   "source": [
    "# Select the 'Rating_out_of_5' for the coffee shop named \"NY Espresso\".\n",
    "df.loc[df['Coffee_Shop_Name'] == 'NY Espresso']['Rating_out_of_5']"
   ]
  },
  {
   "cell_type": "code",
   "execution_count": null,
   "id": "96c35f57",
   "metadata": {},
   "outputs": [],
   "source": [
    "# Get the Visitors_per_day'Visitors_per_day' values for coffee shops that have a rating greater than 4.2.\n",
    "df.loc[df['Rating_out_of_5'] > 4.2]['Visitors_per_day']"
   ]
  },
  {
   "cell_type": "code",
   "execution_count": null,
   "id": "67d1ab4d",
   "metadata": {},
   "outputs": [],
   "source": [
    "# Update the 'Location' of \"NY Caffeine\" to \"Brooklyn\".\n",
    "df.loc[df['Coffee_Shop_Name'] == 'NY Caffeine', 'Location'] = 'Brooklyn'\n",
    "df"
   ]
  },
  {
   "cell_type": "markdown",
   "id": "07b0eb5f",
   "metadata": {},
   "source": [
    "# b_iLOC"
   ]
  },
  {
   "cell_type": "code",
   "execution_count": null,
   "id": "1499d54c",
   "metadata": {},
   "outputs": [],
   "source": [
    "# Get the details of the first coffee shop in the DataFrame.\n",
    "# Retrieve the names and ratings of the first three coffee shops.\n",
    "# Extract the ratings for the last two coffee shops.\n",
    "# Update the 'Visitors_per_day' for the third coffee shop to 505 using iloc.\n",
    "# Fetch the details for coffee shops at even indices.\n",
    "# ===================================================\n",
    "\n",
    "# Extract the names of the last three coffee shops in the DataFrame.\n",
    "# Update the 'Rating_out_of_5' for the fifth coffee shop to 4.6.\n",
    "# Get the details of the coffee shop at index 3.\n",
    "# Fetch the 'Location' and 'Visitors_per_day' for the coffee shops at indices 2, 4, and 6.\n",
    "# Retrieve the rating of the second-to-last coffee shop in the DataFrame."
   ]
  },
  {
   "cell_type": "code",
   "execution_count": null,
   "id": "e8421131",
   "metadata": {},
   "outputs": [],
   "source": [
    "# Get the details of the first coffee shop in the DataFrame.\n",
    "df.iloc[0]"
   ]
  },
  {
   "cell_type": "code",
   "execution_count": null,
   "id": "482a4737",
   "metadata": {},
   "outputs": [],
   "source": [
    "# Retrieve the names and ratings of the first three coffee shops.\n",
    "df.iloc[:3, 0]"
   ]
  },
  {
   "cell_type": "code",
   "execution_count": null,
   "id": "c627906a",
   "metadata": {},
   "outputs": [],
   "source": [
    "# Extract the ratings for the last two coffee shops.\n",
    "df.iloc[-2:, 2]"
   ]
  },
  {
   "cell_type": "code",
   "execution_count": null,
   "id": "149ec22d",
   "metadata": {},
   "outputs": [],
   "source": [
    "# Update the 'Visitors_per_day' for the third coffee shop to 505 using iloc.\n",
    "df.iloc[2, 3] = 505\n",
    "df"
   ]
  },
  {
   "cell_type": "code",
   "execution_count": null,
   "id": "4b4000dc",
   "metadata": {},
   "outputs": [],
   "source": [
    "# Fetch the details for coffee shops at even indices.\n",
    "df.iloc[(i for i in df.index if i%2 ==0)]"
   ]
  },
  {
   "cell_type": "markdown",
   "id": "74d8600f",
   "metadata": {},
   "source": [
    "# c_COUNT"
   ]
  },
  {
   "cell_type": "code",
   "execution_count": null,
   "id": "cf429bfa",
   "metadata": {},
   "outputs": [],
   "source": [
    "# How many coffee shops are there in each location?\n",
    "# Count the number of coffee shops with a rating above 4.5.\n",
    "# How many coffee shops receive more than 300 visitors per day?\n",
    "# Count the number of coffee shops with names containing the word \"Diego\".\n",
    "# How many unique locations are there in the DataFrame?\n",
    "# ================================================\n",
    "\n",
    "# How many coffee shops have a name that starts with \"Holly\"?\n",
    "# Count the number of coffee shops with a rating of exactly 4.0.\n",
    "# How many coffee shops in \"New York\" have a rating above 4.5?\n",
    "# Count the number of coffee shops that receive fewer than 250 visitors per day.\n",
    "# How many coffee shops in \"San Diego\" receive more than 350 visitors daily?"
   ]
  },
  {
   "cell_type": "code",
   "execution_count": null,
   "id": "fefa4bdf",
   "metadata": {},
   "outputs": [],
   "source": [
    "# How many coffee shops are there in each location?\n",
    "df.Location.value_counts()"
   ]
  },
  {
   "cell_type": "code",
   "execution_count": null,
   "id": "872f825d",
   "metadata": {},
   "outputs": [],
   "source": [
    "# Count the number of coffee shops with a rating above 4.5.\n",
    "df[df['Rating_out_of_5'] > 4.5].shape"
   ]
  },
  {
   "cell_type": "code",
   "execution_count": null,
   "id": "220afbbf",
   "metadata": {},
   "outputs": [],
   "source": [
    "# How many coffee shops receive more than 300 visitors per day?\n",
    "df[df['Visitors_per_day'] > 300].shape[0]"
   ]
  },
  {
   "cell_type": "code",
   "execution_count": null,
   "id": "08ce3cd3",
   "metadata": {},
   "outputs": [],
   "source": [
    "# Count the number of coffee shops with names containing the word \"Diego\".\n",
    "df[df['Coffee_Shop_Name'].str.contains('Diego')].shape[0]"
   ]
  },
  {
   "cell_type": "code",
   "execution_count": null,
   "id": "2fc5bc1d",
   "metadata": {},
   "outputs": [],
   "source": [
    "# How many unique locations are there in the DataFrame?\n",
    "df.Location.nunique()"
   ]
  },
  {
   "cell_type": "code",
   "execution_count": null,
   "id": "2699fe66",
   "metadata": {},
   "outputs": [],
   "source": [
    "df.Location.unique()"
   ]
  },
  {
   "cell_type": "markdown",
   "id": "542d9cf6",
   "metadata": {},
   "source": [
    "# d_SIZE"
   ]
  },
  {
   "cell_type": "code",
   "execution_count": null,
   "id": "09d5df2e",
   "metadata": {},
   "outputs": [],
   "source": [
    "# What's the size (number of elements) of the 'Rating_out_of_5' column?\n",
    "# Calculate the size of the DataFrame after filtering for coffee shops in \"San Diego\".\n",
    "# Determine the size of the DataFrame when you only consider the 'Coffee_Shop_Name' and 'Rating_out_of_5' columns.\n",
    "# What's the size of the DataFrame after dropping the 'Visitors_per_day' column?\n",
    "# Calculate the size of the DataFrame after selecting only the first 4 rows.\n",
    "# ===================================================\n",
    "\n",
    "# Calculate the size of the DataFrame after filtering for coffee shops in \"New York\".\n",
    "# What's the size of the DataFrame when you only consider the 'Location' and 'Visitors_per_day' columns?\n",
    "# Determine the size of the 'Rating_out_of_5' column after dropping any duplicate ratings.\n",
    "# How many elements are there in the DataFrame after dropping the first two rows?\n",
    "# Calculate the size of the DataFrame after selecting only the last 5 rows"
   ]
  },
  {
   "cell_type": "code",
   "execution_count": null,
   "id": "658c194a",
   "metadata": {},
   "outputs": [],
   "source": [
    "# What's the size (number of elements) of the 'Rating_out_of_5' column?\n",
    "df['Rating_out_of_5'].size"
   ]
  },
  {
   "cell_type": "code",
   "execution_count": null,
   "id": "00f36eae",
   "metadata": {},
   "outputs": [],
   "source": [
    "# Calculate the size of the DataFrame after filtering for coffee shops in \"San Diego\".\n",
    "df[df['Location'] == 'San Diego'].size"
   ]
  },
  {
   "cell_type": "code",
   "execution_count": null,
   "id": "a489d402",
   "metadata": {},
   "outputs": [],
   "source": [
    "# Determine the size of the DataFrame when you only consider the 'Coffee_Shop_Name' and 'Rating_out_of_5' columns.\n",
    "df[['Coffee_Shop_Name', 'Rating_out_of_5']].size"
   ]
  },
  {
   "cell_type": "code",
   "execution_count": null,
   "id": "94634582",
   "metadata": {},
   "outputs": [],
   "source": [
    "# What's the size of the DataFrame after dropping the 'Visitors_per_day' column?\n",
    "df.drop(columns = 'Visitors_per_day').size"
   ]
  },
  {
   "cell_type": "code",
   "execution_count": null,
   "id": "ece84ca9",
   "metadata": {},
   "outputs": [],
   "source": [
    "# Calculate the size of the DataFrame after selecting only the first 4 rows.\n",
    "df[:4].size"
   ]
  },
  {
   "cell_type": "code",
   "execution_count": null,
   "id": "503f3c41",
   "metadata": {},
   "outputs": [],
   "source": [
    "# Calculate the size of the DataFrame after filtering for coffee shops in \"New York\".\n",
    "# What's the size of the DataFrame when you only consider the 'Location' and 'Visitors_per_day' columns?\n",
    "# Determine the size of the 'Rating_out_of_5' column after dropping any duplicate ratings.\n",
    "# How many elements are there in the DataFrame after dropping the first two rows?\n",
    "# Calculate the size of the DataFrame after selecting only the last 5 rows"
   ]
  },
  {
   "cell_type": "markdown",
   "id": "3cd9a4c9",
   "metadata": {},
   "source": [
    "# e_NULLs"
   ]
  },
  {
   "cell_type": "code",
   "execution_count": null,
   "id": "10abf18b",
   "metadata": {},
   "outputs": [],
   "source": [
    "# Are there any missing values in the 'Rating_out_of_5' column?\n",
    "\n",
    "# If there were missing values in the 'Visitors_per_day' column, how would you fill them with the average of the column?\n",
    "\n",
    "# Drop any rows where there might be missing values (if there were any).\n",
    "\n",
    "# If there were any missing values in the 'Location' column, how would you forward-fill them?\n",
    "\n",
    "# Replace any NaN values in the 'Rating_out_of_5' column with the median rating (if there were any).\n",
    "# ======================================================\n",
    "\n",
    "# f there were missing values in the 'Rating_out_of_5' column, how would you back-fill them?\n",
    "\n",
    "# Count the number of missing values in each column (if there were any).\n",
    "\n",
    "# Drop any columns that might have missing values (if there were any).\n",
    "\n",
    "# Replace NaN values in 'Visitors_per_day' with a constant value, say 300 (if there were any).\n",
    "\n",
    "# How would you find out which coffee shops have missing values in the 'Rating_out_of_5' column (if there were any)?"
   ]
  },
  {
   "cell_type": "code",
   "execution_count": null,
   "id": "1405a902",
   "metadata": {},
   "outputs": [],
   "source": [
    "df"
   ]
  },
  {
   "cell_type": "code",
   "execution_count": null,
   "id": "2a8cdb3e",
   "metadata": {},
   "outputs": [],
   "source": [
    "df['Rating_old'] = [2, None, 2, None, None, None, 3]"
   ]
  },
  {
   "cell_type": "code",
   "execution_count": null,
   "id": "9667c902",
   "metadata": {},
   "outputs": [],
   "source": [
    "df"
   ]
  },
  {
   "cell_type": "code",
   "execution_count": null,
   "id": "10d713c1",
   "metadata": {},
   "outputs": [],
   "source": [
    "# Are there any missing values in the 'Rating_out_of_5' column?\n",
    "df['Rating_out_of_5'].isna().sum()"
   ]
  },
  {
   "cell_type": "code",
   "execution_count": null,
   "id": "2532f683",
   "metadata": {},
   "outputs": [],
   "source": [
    "# If there were missing values in the 'Visitors_per_day' column, how would you fill them with the average of the column?\n",
    "df['Visitors_per_day'].fillna(df['Visitors_per_day'].mean())"
   ]
  },
  {
   "cell_type": "code",
   "execution_count": null,
   "id": "6727b5c3",
   "metadata": {},
   "outputs": [],
   "source": [
    "# Drop any rows where there might be missing values (if there were any).\n",
    "df.dropna()"
   ]
  },
  {
   "cell_type": "code",
   "execution_count": null,
   "id": "0a5b9f80",
   "metadata": {},
   "outputs": [],
   "source": [
    "# If there were any missing values in the 'Location' column, how would you forward-fill them?\n",
    "df['Location'].fillna(method = 'ffill')"
   ]
  },
  {
   "cell_type": "code",
   "execution_count": null,
   "id": "7f5a1941",
   "metadata": {},
   "outputs": [],
   "source": [
    "# Replace any NaN values in the 'Rating_out_of_5' column with the median rating (if there were any).\n",
    "df['Rating_out_of_5'].fillna(df['Rating_out_of_5'].median)"
   ]
  },
  {
   "cell_type": "code",
   "execution_count": null,
   "id": "29137fc7",
   "metadata": {},
   "outputs": [],
   "source": [
    "# f there were missing values in the 'Rating_out_of_5' column, how would you back-fill them?\n",
    "# Count the number of missing values in each column (if there were any).\n",
    "# Drop any columns that might have missing values (if there were any).\n",
    "# Replace NaN values in 'Visitors_per_day' with a constant value, say 300 (if there were any).\n",
    "# How would you find out which coffee shops have missing values in the 'Rating_out_of_5' column (if there were any)?"
   ]
  },
  {
   "cell_type": "markdown",
   "id": "9f348e51",
   "metadata": {},
   "source": [
    "# f___unique_N_unique"
   ]
  },
  {
   "cell_type": "code",
   "execution_count": null,
   "id": "8afbdc10",
   "metadata": {},
   "outputs": [],
   "source": [
    "# How many unique coffee shops are there in the 'Coffee_Shop_Name' column of the dataset?\n",
    "# Which column has the fewest unique values?\n",
    "# How many unique ratings are present in the 'Rating_out_of_5' column?\n",
    "# Find out how many unique daily visitor counts are recorded in the dataset.\n",
    "# Determine the number of unique locations in which the coffee shops are situated.\n",
    "# ===================================================\n",
    "# Check if there are any coffee shop names that only appear once in the dataset.\n",
    "# How many unique values does the 'Opening_Hours' column contain?\n",
    "# Are all coffee shops in Hollywood unique or are there duplicates?\n",
    "# Which city, Hollywood or San Diego, has a greater number of unique coffee shops?\n",
    "# How many different combinations of 'Rating_out_of_5' and 'Location' exist in the dataset? (Hint: Check unique pairs)"
   ]
  },
  {
   "cell_type": "code",
   "execution_count": null,
   "id": "44da5ce1",
   "metadata": {},
   "outputs": [],
   "source": [
    "# How many unique coffee shops are there in the 'Coffee_Shop_Name' column of the dataset?\n",
    "df[\"Coffee_Shop_Name\"].nunique()"
   ]
  },
  {
   "cell_type": "code",
   "execution_count": null,
   "id": "a8506506",
   "metadata": {},
   "outputs": [],
   "source": [
    "# Which column has the fewest unique values?\n",
    "df.nunique().sort_values().to_frame().index[0]"
   ]
  },
  {
   "cell_type": "code",
   "execution_count": null,
   "id": "9eeb05d1",
   "metadata": {},
   "outputs": [],
   "source": [
    "# How many unique ratings are present in the 'Rating_out_of_5' column?\n",
    "df['Rating_out_of_5'].nunique()"
   ]
  },
  {
   "cell_type": "code",
   "execution_count": null,
   "id": "171050ce",
   "metadata": {},
   "outputs": [],
   "source": [
    "# Find out how many unique daily visitor counts are recorded in the dataset.\n",
    "df['Visitors_per_day'].nunique()\n"
   ]
  },
  {
   "cell_type": "code",
   "execution_count": null,
   "id": "981024cd",
   "metadata": {},
   "outputs": [],
   "source": [
    "# Determine the number of unique locations in which the coffee shops are situated.\n",
    "df['Location'].nunique()"
   ]
  },
  {
   "cell_type": "markdown",
   "id": "97d62702",
   "metadata": {},
   "source": [
    "# g_DUPLICATED"
   ]
  },
  {
   "cell_type": "code",
   "execution_count": null,
   "id": "ae588313",
   "metadata": {},
   "outputs": [],
   "source": [
    "# How would you identify if there are any duplicate rows in the DataFrame?\n",
    "# Which coffee shops in the 'Coffee_Shop_Name' column have duplicated entries?\n",
    "# Can you find any rows where only the 'Rating_out_of_5' and 'Coffee_Shop_Name' columns combined have duplicates?\n",
    "# How many rows are duplicates based on the 'Location' column?\n",
    "# Are there any coffee shops in San Diego that have the same name as those in Hollywood?\n",
    "# ========================================================\n",
    "\n",
    "# If you wanted to keep only the first instance of each duplicate row based on the 'Coffee_Shop_Name' and 'Location', how would you do it?\n",
    "# How many entries in the 'Opening_Hours' column are repeated across different coffee shops?\n",
    "# Can you produce a DataFrame which showcases only the duplicated rows, excluding the first occurrence of each?\n",
    "# Are there any coffee shops with the same name and rating but different opening hours?\n",
    "# If you wanted to mark all duplicates (without dropping them) in a new column called 'Is_Duplicated', how would you do it?"
   ]
  },
  {
   "cell_type": "code",
   "execution_count": null,
   "id": "b2e19533",
   "metadata": {},
   "outputs": [],
   "source": [
    "# How would you identify if there are any duplicate rows in the DataFrame?\n",
    "df.duplicated().any()"
   ]
  },
  {
   "cell_type": "code",
   "execution_count": null,
   "id": "02be00bc",
   "metadata": {},
   "outputs": [],
   "source": [
    "# Which coffee shops in the 'Coffee_Shop_Name' column have duplicated entries?\n",
    "\n",
    "df['Coffee_Shop_Name'].duplicated().sum()"
   ]
  },
  {
   "cell_type": "code",
   "execution_count": null,
   "id": "887a5280",
   "metadata": {},
   "outputs": [],
   "source": [
    "# Can you find any rows where only the 'Rating_out_of_5' and 'Coffee_Shop_Name' columns combined have duplicates?\n",
    "df[['Rating_out_of_5', 'Coffee_Shop_Name']].duplicated().sum()"
   ]
  },
  {
   "cell_type": "code",
   "execution_count": null,
   "id": "ac657a64",
   "metadata": {},
   "outputs": [],
   "source": [
    "# How many rows are duplicates based on the 'Location' column?\n",
    "df['Location'].duplicated().sum()"
   ]
  },
  {
   "cell_type": "code",
   "execution_count": null,
   "id": "7215f5d0",
   "metadata": {},
   "outputs": [],
   "source": [
    "# Are there any coffee shops in San Diego that have the same name as those in Hollywood?\n",
    "df[df['Location'].isin([\"San Diego\", \"Hollywood\"])]['Coffee_Shop_Name'].duplicated().any()"
   ]
  },
  {
   "cell_type": "code",
   "execution_count": null,
   "id": "56904e51",
   "metadata": {},
   "outputs": [],
   "source": [
    "\n",
    "# If you wanted to keep only the first instance of each duplicate row based on the 'Coffee_Shop_Name' and 'Location', how would you do it?\n",
    "# How many entries in the 'Opening_Hours' column are repeated across different coffee shops?\n",
    "# Can you produce a DataFrame which showcases only the duplicated rows, excluding the first occurrence of each?\n",
    "# Are there any coffee shops with the same name and rating but different opening hours?\n",
    "# If you wanted to mark all duplicates (without dropping them) in a new column called 'Is_Duplicated', how would you do it?"
   ]
  },
  {
   "cell_type": "markdown",
   "id": "ae77891d",
   "metadata": {},
   "source": [
    "# h_DROP"
   ]
  },
  {
   "cell_type": "code",
   "execution_count": null,
   "id": "998d6bb4",
   "metadata": {},
   "outputs": [],
   "source": [
    "# How would you drop the 'Opening_Hours' column from the DataFrame?\n",
    "# If you wanted to remove the first three rows from the DataFrame, how would you achieve this?\n",
    "# Can you produce a version of the DataFrame without the 'Rating_out_of_5' and 'Opening_Hours' columns?\n",
    "# If you identified specific coffee shop names that you wanted to exclude from the DataFrame, how could you drop rows based on these names?\n",
    "# How would you create a DataFrame without the last 5 rows?\n",
    "# ===============================================================\n",
    "\n",
    "# Imagine you wanted to drop all rows where the 'Rating_out_of_5' is below 3.5. How would you do this?\n",
    "# If you have a list of index labels that you want to remove from the DataFrame, how would you drop those rows using the drop method?\n",
    "# How would you drop any columns that have more than 2 NaN values?\n",
    "# Is it possible to drop a column in-place, meaning without reassigning to the DataFrame or a new variable?\n",
    "# How can you drop a column based on its data type, for instance, if you want to remove all columns of type 'object'?"
   ]
  },
  {
   "cell_type": "code",
   "execution_count": null,
   "id": "b5a1febb",
   "metadata": {},
   "outputs": [],
   "source": [
    "# How would you drop the 'Opening_Hours' column from the DataFrame?\n",
    "df['Opening_Hours'] = [\"8am - 6pm\", \"9am - 9pm\", \"7am - 7pm\", \"8am - 8pm\", \"9am - 5pm\", \"6am - 6pm\", \"9am - 10pm\"]\n",
    "df.drop(columns = 'Opening_Hours')"
   ]
  },
  {
   "cell_type": "code",
   "execution_count": null,
   "id": "e7a1daaf",
   "metadata": {},
   "outputs": [],
   "source": [
    "# If you wanted to remove the first three rows from the DataFrame, how would you achieve this?\n",
    "df.iloc[3:]"
   ]
  },
  {
   "cell_type": "code",
   "execution_count": null,
   "id": "8d8f6ef3",
   "metadata": {},
   "outputs": [],
   "source": [
    "# Can you produce a version of the DataFrame without the 'Rating_out_of_5' and 'Opening_Hours' columns?\n",
    "df.drop(columns = ['Rating_out_of_5', 'Opening_Hours'])"
   ]
  },
  {
   "cell_type": "code",
   "execution_count": null,
   "id": "567c7ab5",
   "metadata": {},
   "outputs": [],
   "source": [
    "# If you identified specific coffee shop names that you wanted to exclude from the DataFrame, how could you drop rows based on these names?\n",
    "df.drop(columns = \"Coffee_Shop_Name\", axis = 0)"
   ]
  },
  {
   "cell_type": "code",
   "execution_count": null,
   "id": "9b871186",
   "metadata": {},
   "outputs": [],
   "source": [
    "df.drop(columns = \"Coffee_Shop_Name\", axis = 1)"
   ]
  },
  {
   "cell_type": "code",
   "execution_count": null,
   "id": "8ce49afb",
   "metadata": {},
   "outputs": [],
   "source": [
    "# How would you create a DataFrame without the last 5 rows?\n",
    "df.drop(df.tail(5).index, inplace=False)"
   ]
  },
  {
   "cell_type": "code",
   "execution_count": null,
   "id": "679c7195",
   "metadata": {},
   "outputs": [],
   "source": [
    "#  Imagine you wanted to drop all rows where the 'Rating_out_of_5' is below 3.5. How would you do this?\n",
    "# If you have a list of index labels that you want to remove from the DataFrame, how would you drop those rows using the drop method?\n",
    "# How would you drop any columns that have more than 2 NaN values?\n",
    "# Is it possible to drop a column in-place, meaning without reassigning to the DataFrame or a new variable?\n",
    "# How can you drop a column based on its data type, for instance, if you want to remove all columns of type 'object'?"
   ]
  },
  {
   "cell_type": "markdown",
   "id": "79990ead",
   "metadata": {},
   "source": [
    "# i_drop_Duplicates"
   ]
  },
  {
   "cell_type": "code",
   "execution_count": null,
   "id": "ef994e09",
   "metadata": {},
   "outputs": [],
   "source": [
    "# How would you remove duplicate rows in the DataFrame based solely on the 'Coffee_Shop' column?\n",
    "# If you want to keep only the first occurrence of each duplicate 'Coffee_Shop' entry and remove subsequent ones, which parameter would you adjust in drop_duplicates?\n",
    "# How can you drop duplicate rows based on a combination of the 'Coffee_Shop' and 'City' columns?\n",
    "# After using drop_duplicates, how would you reset the index so that it's continuous again?\n",
    "# How can you use drop_duplicates to retain the last occurrence of a duplicated row rather than the default behavior which retains the first occurrence?\n",
    "# =============================================================\n",
    "\n",
    "# If you wanted to drop duplicates but only for rows where the 'Rating_out_of_5' is above 4, how might you achieve this?\n",
    "# How would you determine the number of duplicate rows based on the 'City' column in the DataFrame?\n",
    "# Is it possible to drop duplicates in the original DataFrame without creating a new variable or DataFrame? If so, which parameter would you adjust?\n",
    "# How can you check if the 'Opening_Hours' column contains any duplicated entries?\n",
    "# Can you use drop_duplicates in conjunction with another method to count how many unique rows you have based on the 'Coffee_Shop' and 'City' columns?"
   ]
  },
  {
   "cell_type": "code",
   "execution_count": null,
   "id": "b031afa3",
   "metadata": {},
   "outputs": [],
   "source": [
    "# How would you remove duplicate rows in the DataFrame based solely on the 'Coffee_Shop' column?\n",
    "df['Coffee_Shop_Name'].drop_duplicates()"
   ]
  },
  {
   "cell_type": "code",
   "execution_count": null,
   "id": "54ae1e42",
   "metadata": {},
   "outputs": [],
   "source": [
    "# If you want to keep only the first occurrence of each duplicate 'Coffee_Shop' entry and remove subsequent ones, which parameter would you adjust in drop_duplicates?\n",
    "df['Coffee_Shop_Name'].drop_duplicates(keep = 'first')"
   ]
  },
  {
   "cell_type": "code",
   "execution_count": null,
   "id": "6eb1dcf9",
   "metadata": {},
   "outputs": [],
   "source": [
    "# How can you drop duplicate rows based on a combination of the 'Coffee_Shop' and 'City' columns?\n",
    "df.drop_duplicates(subset=['Coffee_Shop_Name', 'Location'], inplace=False)"
   ]
  },
  {
   "cell_type": "code",
   "execution_count": null,
   "id": "81bd3fa3",
   "metadata": {},
   "outputs": [],
   "source": [
    "# After using drop_duplicates, how would you reset the index so that it's continuous again?\n",
    "df['Location'].drop_duplicates().reset_index(drop = True)"
   ]
  },
  {
   "cell_type": "code",
   "execution_count": null,
   "id": "03be1e60",
   "metadata": {},
   "outputs": [],
   "source": [
    "df"
   ]
  },
  {
   "cell_type": "code",
   "execution_count": null,
   "id": "4804c276",
   "metadata": {},
   "outputs": [],
   "source": [
    "# How can you use drop_duplicates to retain the last occurrence of a duplicated row rather than the default behavior which retains the first occurrence?\n",
    "df.drop_duplicates(keep = 'last')"
   ]
  },
  {
   "cell_type": "markdown",
   "id": "52d2b714",
   "metadata": {},
   "source": [
    "# j_SORT"
   ]
  },
  {
   "cell_type": "code",
   "execution_count": null,
   "id": "a3d00b5f",
   "metadata": {},
   "outputs": [],
   "source": [
    "# How would you sort the DataFrame based on the 'Rating_out_of_5' column in descending order to see the top-rated coffee shops first?\n",
    "# Can you sort the DataFrame by the 'Location' column in alphabetical order?\n",
    "# Imagine you want to sort first by the 'Location' column in alphabetical order and then, within each city, by 'Rating_out_of_5' in descending order. How would you achieve this?\n",
    "# How can you sort the DataFrame based on its index values?\n",
    "# If the 'Opening_Hours' column is formatted as 'HH:MM AM/PM', how would you sort the coffee shops based on their opening hours from earliest to latest?\n",
    "# ===========================================================\n",
    "\n",
    "# Can you sort the 'Coffee_Shop' column in a case-insensitive manner?\n",
    "# Is it possible to sort the DataFrame by multiple columns, for example, by 'City' and then by 'Price' within each city? If so, how would you do it?\n",
    "# After adding a new entry to the DataFrame, the index might be out of order. How would you sort the DataFrame by its index to make it sequential again?\n",
    "# Suppose you're interested in the middle range of coffee prices. How would you sort the DataFrame by 'Price' and then take a subset of rows from the middle of the sorted DataFrame?\n",
    "# If the DataFrame is multi-indexed with 'City' as the first level and 'Coffee_Shop' as the second level, how would you sort by the 'City' level?"
   ]
  },
  {
   "cell_type": "code",
   "execution_count": null,
   "id": "0c970fe9",
   "metadata": {},
   "outputs": [],
   "source": [
    "# How would you sort the DataFrame based on the 'Rating_out_of_5' column \n",
    "# in descending order to see the top-rated coffee shops first?\n",
    "\n",
    "df.sort_values(by = 'Rating_out_of_5', ascending = False)"
   ]
  },
  {
   "cell_type": "code",
   "execution_count": null,
   "id": "4b8895b1",
   "metadata": {},
   "outputs": [],
   "source": [
    "# Can you sort the DataFrame by the 'City' column in alphabetical order?\n",
    "\n",
    "df.sort_values(by = 'Location')"
   ]
  },
  {
   "cell_type": "code",
   "execution_count": null,
   "id": "68cea0d8",
   "metadata": {},
   "outputs": [],
   "source": [
    "# Imagine you want to sort first by the 'Location' column in \n",
    "# alphabetical order and then, within each city, by 'Rating_out_of_5' in descending order. How would you achieve this?\n",
    "\n",
    "df.sort_values(by = ['Visitors_per_day',\"Rating_out_of_5\"], ascending = [False, True])"
   ]
  },
  {
   "cell_type": "code",
   "execution_count": null,
   "id": "9b2c6e62",
   "metadata": {},
   "outputs": [],
   "source": [
    "# How can you sort the DataFrame based on its index values?\n",
    "df.sort_index()"
   ]
  },
  {
   "cell_type": "code",
   "execution_count": null,
   "id": "3aaa1f5d",
   "metadata": {},
   "outputs": [],
   "source": [
    "# If the 'Opening_Hours' column is formatted as 'HH:MM AM/PM', how would you sort the coffee shops based on their opening hours from earliest to latest?\n",
    "df.sort_values(by = 'Opening_Hours')"
   ]
  },
  {
   "cell_type": "markdown",
   "id": "d7a9f120",
   "metadata": {},
   "source": [
    "# K_isIn\n"
   ]
  },
  {
   "cell_type": "code",
   "execution_count": null,
   "id": "affbe6e7",
   "metadata": {},
   "outputs": [],
   "source": [
    "# How would you filter the DataFrame to only show coffee shops located in 'Hollywood' or 'San Diego'?\n",
    "# Imagine you have a list of top-rated coffee shop names: [\"Brew Magic\", \"Café Dreams\", \"Bean Palace\"]. How would you filter the DataFrame to only display these coffee shops?\n",
    "# Can you identify rows where the 'Rating_out_of_5' is either 4.5 or 5?\n",
    "# If you want to analyze coffee shops that are open either at \"06:00 AM\" or \"07:00 AM\", how would you filter the DataFrame based on the 'Opening_Hours' column?\n",
    "# Suppose you're given a list of coffee shop IDs that are part of a promotional campaign. How would you use isin to filter the DataFrame to only those IDs?\n",
    "# =======================================================\n",
    "\n",
    "# If you're interested in studying the price range of coffee in certain shops, how would you filter the DataFrame for shops where the 'Price' is either $3, $4, or $5?\n",
    "# How can you use isin in combination with the ~ operator to filter out rows where the city is either 'Hollywood' or 'San Diego'?\n",
    "# If you have another DataFrame containing popular coffee flavors, and you want to see if any of the coffee shop names in your DataFrame match these flavors, how would you use isin to achieve this?\n",
    "# Imagine you want to exclude certain ratings for a study. How would you use isin to filter out coffee shops with ratings of 1 or 2 out of 5?\n",
    "# Suppose you're working on a marketing campaign and have a list of cities you're targeting. How would you use isin to get a subset of the DataFrame for coffee shops in those cities?"
   ]
  },
  {
   "cell_type": "code",
   "execution_count": null,
   "id": "fe7f2eda",
   "metadata": {},
   "outputs": [],
   "source": [
    "# How would you filter the DataFrame to only show coffee shops located in 'Hollywood' or 'San Diego'?\n",
    "df[df['Coffee_Shop_Name'].isin(['Hollywood', 'San Diego'])]"
   ]
  },
  {
   "cell_type": "code",
   "execution_count": null,
   "id": "89fa2855",
   "metadata": {},
   "outputs": [],
   "source": [
    "# Imagine you have a list of top-rated coffee shop names: [\"Brew Magic\", \"Café Dreams\", \"Bean Palace\"]. How would you filter the DataFrame to only display these coffee shops?\n",
    "coffee_shop_names = ['NY Espresso']\n",
    "df[df['Coffee_Shop_Name'].isin(coffee_shop_names)]"
   ]
  },
  {
   "cell_type": "code",
   "execution_count": null,
   "id": "9307cabd",
   "metadata": {},
   "outputs": [],
   "source": [
    "# Can you identify rows where the 'Rating_out_of_5' is either 4.5 or 5?\n",
    "df[df['Rating_out_of_5'].isin([4.5, 5])]"
   ]
  },
  {
   "cell_type": "code",
   "execution_count": null,
   "id": "0a26664e",
   "metadata": {},
   "outputs": [],
   "source": [
    "# If you want to analyze coffee shops that are open either at \n",
    "# \"06:00 AM\" or \"07:00 AM\", \n",
    "# how would you filter the DataFrame based on the 'Opening_Hours' column?\n",
    "\n",
    "df[df['Opening_Hours'].isin(['6', '7'])]"
   ]
  },
  {
   "cell_type": "code",
   "execution_count": null,
   "id": "efd3fe42",
   "metadata": {},
   "outputs": [],
   "source": [
    "# Suppose you're given a list of coffee shop IDs \n",
    "# that are part of a promotional campaign. \n",
    "# How would you use isin to filter the DataFrame to only those IDs?\n",
    "coffee_shop_names = ['NY Espresso']\n",
    "df[df['Coffee_Shop_Name'].isin(coffee_shop_names)]"
   ]
  },
  {
   "cell_type": "markdown",
   "id": "0fbf7713",
   "metadata": {},
   "source": [
    "# L_asType"
   ]
  },
  {
   "cell_type": "code",
   "execution_count": null,
   "id": "dd6333cc",
   "metadata": {},
   "outputs": [],
   "source": [
    "# If you wanted to analyze the 'Location' column as a category for memory efficiency and faster operations, how would you change its data type?\n",
    "# How would you convert the 'Rating_out_of_5' column to a string data type?\n",
    "# If you needed to analyze the 'Visitors_per_day' column as a floating point number for calculations, how would you change its data type?\n",
    "# For memory efficiency, how would you convert the 'Location' column to a categorical type?\n",
    "# To ensure consistent data processing, how can you convert all columns of the DataFrame to string data types?\n",
    "# If you had a 'Date' column in the format 'YYYY-MM-DD' and wanted to keep it as a string for text processing tasks rather than a datetime object, how would you ensure it's a string?\n",
    "# For a more generalized rating system, how would you convert the 'Rating_out_of_5' column to an integer type, effectively rounding off the values?\n",
    "# If the 'Coffee_Shop_Name' column had numeric entries (e.g., franchise numbers) and you wanted to ensure they're treated as integers, how would you change its data type?\n",
    "# In a scenario where the 'Visitors_per_day' column has been mistakenly recorded as a float and you want to revert it back to an integer format, how would you achieve this?\n",
    "# Assuming you have a boolean column indicating whether a coffee shop offers Wi-Fi (True/False). If you wanted to represent this data as integers (1 for True, 0 for False), how would you convert the boolean column?\n"
   ]
  },
  {
   "cell_type": "code",
   "execution_count": null,
   "id": "407051b1",
   "metadata": {},
   "outputs": [],
   "source": [
    "# If you wanted to analyze the 'Location' column as a category for memory efficiency and faster operations, how would you change its data type?\n",
    "df['Location'].astype('category')"
   ]
  },
  {
   "cell_type": "code",
   "execution_count": null,
   "id": "6eba499b",
   "metadata": {},
   "outputs": [],
   "source": [
    "# How would you convert the 'Rating_out_of_5' column to a string data type?\n",
    "df['Rating_out_of_5'].astype(str)"
   ]
  },
  {
   "cell_type": "code",
   "execution_count": null,
   "id": "41261827",
   "metadata": {},
   "outputs": [],
   "source": [
    "# If you needed to analyze the 'Visitors_per_day' column as a floating point number for calculations, how would you change its data type?\n",
    "df['Visitors_per_day'].astype(float)"
   ]
  },
  {
   "cell_type": "code",
   "execution_count": null,
   "id": "bc412049",
   "metadata": {},
   "outputs": [],
   "source": [
    "# For memory efficiency, how would you convert the 'Location' column to a categorical type?\n",
    "df['Location'].astype(\"category\")"
   ]
  },
  {
   "cell_type": "code",
   "execution_count": null,
   "id": "b0723881",
   "metadata": {},
   "outputs": [],
   "source": [
    "# To ensure consistent data processing, how can you convert all columns of the DataFrame to string data types?\n",
    "df.astype(\"category\")"
   ]
  },
  {
   "cell_type": "code",
   "execution_count": null,
   "id": "9e17cb49",
   "metadata": {},
   "outputs": [],
   "source": [
    "df = df.astype(\"category\")"
   ]
  },
  {
   "cell_type": "code",
   "execution_count": null,
   "id": "0c7a56f7",
   "metadata": {},
   "outputs": [],
   "source": [
    "df"
   ]
  },
  {
   "cell_type": "code",
   "execution_count": null,
   "id": "16f5438c",
   "metadata": {},
   "outputs": [],
   "source": [
    "df.dtypes"
   ]
  },
  {
   "cell_type": "code",
   "execution_count": null,
   "id": "e78d7ba0",
   "metadata": {},
   "outputs": [],
   "source": [
    "# If you had a 'Date' column in the format 'YYYY-MM-DD' and wanted to keep it as a string for text processing tasks rather than a datetime object, how would you ensure it's a string?\n",
    "# For a more generalized rating system, how would you convert the 'Rating_out_of_5' column to an integer type, effectively rounding off the values?\n",
    "# If the 'Coffee_Shop_Name' column had numeric entries (e.g., franchise numbers) and you wanted to ensure they're treated as integers, how would you change its data type?\n",
    "# In a scenario where the 'Visitors_per_day' column has been mistakenly recorded as a float and you want to revert it back to an integer format, how would you achieve this?\n",
    "# Assuming you have a boolean column indicating whether a coffee shop offers Wi-Fi (True/False). If you wanted to represent this data as integers (1 for True, 0 for False), how would you convert the boolean column?\n"
   ]
  },
  {
   "cell_type": "markdown",
   "id": "0181be7e",
   "metadata": {},
   "source": [
    "# M_replace"
   ]
  },
  {
   "cell_type": "code",
   "execution_count": null,
   "id": "b8a14afa",
   "metadata": {},
   "outputs": [],
   "source": [
    "# If you wanted to rename all instances of 'Hollywood' to 'LA' in the 'Location' column, how would you achieve that?\n",
    "# Imagine the 'Rating_out_of_5' column mistakenly recorded a rating of 5.5 for a few shops. How would you correct this and replace it with 5.0?\n",
    "# In the 'Coffee_Shop_Name' column, suppose the brand 'Diego' has been rebranded to 'SD'. How would you reflect this change in the DataFrame?\n",
    "# Suppose you want to replace ratings that are below 4.0 in 'Rating_out_of_5' with a 'Below Average' label. How can you achieve this?\n",
    "# How would you replace multiple locations, say 'Hollywood' and 'San Diego', with 'California' in the 'Location' column at once?\n",
    "# ==============================================================\n",
    "# Imagine there's a consistent typo across your DataFrame where 'Espresso' is mistakenly written as 'Expresso'. How would you correct this typo in the 'Coffee_Shop_Name' column?\n",
    "# How can you replace all the NaN (missing) values in the 'Visitors_per_day' column with the average number of visitors?\n",
    "# Let's say for some coffee shops, the 'Rating_out_of_5' is recorded as 0 due to an error, and you want to replace this with the median rating. How would you do it?\n",
    "# Assuming there's a column 'Has_Wifi' with values 'Yes' and 'No'. If you wanted to make it more machine-readable by converting 'Yes' to 1 and 'No' to 0, how would you approach this?\n",
    "# How can you use regular expressions with the replace() method to change any instance of 'NY' at the beginning of the coffee shop name to 'New York' in the 'Coffee_Shop_Name' column?"
   ]
  },
  {
   "cell_type": "code",
   "execution_count": null,
   "id": "32763ebf",
   "metadata": {},
   "outputs": [],
   "source": [
    "# If you wanted to rename all instances of 'Hollywood' to 'LA' in the 'Location' column, how would you achieve that?\n",
    "df['Location'].replace('Hollywood', 'LA', inplace = False)"
   ]
  },
  {
   "cell_type": "code",
   "execution_count": null,
   "id": "280f1c0d",
   "metadata": {},
   "outputs": [],
   "source": [
    "# Imagine the 'Rating_out_of_5' column mistakenly recorded a rating of 5.5 for a few shops. How would you correct this and replace it with 5.0?\n",
    "\n",
    "df['Rating_out_of_5'].replace(5.5, 5)"
   ]
  },
  {
   "cell_type": "code",
   "execution_count": null,
   "id": "aabc30f2",
   "metadata": {},
   "outputs": [],
   "source": [
    "df"
   ]
  },
  {
   "cell_type": "code",
   "execution_count": null,
   "id": "259d8503",
   "metadata": {},
   "outputs": [],
   "source": [
    "# In the 'Coffee_Shop_Name' column, suppose the brand 'Diego' has been rebranded to 'SD'. How would you reflect this change in the DataFrame?\n",
    "df['Coffee_Shop_Name'].replace('Diego Drip', 'DG')"
   ]
  },
  {
   "cell_type": "code",
   "execution_count": null,
   "id": "3f1ed3fb",
   "metadata": {},
   "outputs": [],
   "source": [
    "# Suppose you want to replace ratings that are below 4.0 in 'Rating_out_of_5' with a 'Below Average' label. How can you achieve this?\n",
    "df.loc[df['Rating_out_of_5'] < -0.2, 'Rating_out_of_5'] = 'Below Average'\n",
    "df"
   ]
  },
  {
   "cell_type": "code",
   "execution_count": null,
   "id": "b2168e28",
   "metadata": {},
   "outputs": [],
   "source": [
    "# How would you replace multiple locations, say 'Hollywood' and 'San Diego', with 'California' in the 'Location' column at once?\n",
    "df['Location'].replace(['Hollywood', 'San Diego'], 'Ca')"
   ]
  },
  {
   "cell_type": "code",
   "execution_count": null,
   "id": "2163543a",
   "metadata": {},
   "outputs": [],
   "source": [
    "df"
   ]
  },
  {
   "cell_type": "markdown",
   "id": "526cd857",
   "metadata": {},
   "source": [
    "# N_rename"
   ]
  },
  {
   "cell_type": "code",
   "execution_count": null,
   "id": "0138277a",
   "metadata": {},
   "outputs": [],
   "source": [
    "# How would you rename the column 'Coffee_Shop_Name' to 'Shop_Name'?\n",
    "\n",
    "# Imagine the management decided to call 'Visitors_per_day' as 'Daily_Footfall'. How would you reflect this change in the DataFrame?\n",
    "\n",
    "# If you wanted to change the 'Location' column to 'City', how would you achieve this?\n",
    "\n",
    "# Suppose the ratings scale has changed, and instead of 'Rating_out_of_5', it should be 'Rating_out_of_10'. How would you rename the column?\n",
    "\n",
    "# If you wanted to rename only the index of the row with 'NY Espresso' to 'NYE', how would you do that?\n",
    "\n",
    "# Can you rename both 'Coffee_Shop_Name' and 'Location' columns to 'Cafe_Name' and 'Area' respectively in a single operation?\n",
    "\n",
    "# Imagine a scenario where all column names need to be uppercase. How would you use the rename() method with a function to achieve this?\n",
    "\n",
    "# If you added more columns and wanted to rename only the first two columns to 'Cafe' and 'Region' without referring to their original names, how would you do it?\n",
    "\n",
    "# Suppose you need to append \"_Data\" to each column name for clarity. How would you rename all the columns to achieve this?\n",
    "\n",
    "# Given a dictionary of old and new names, how would you apply it to the DataFrame to rename multiple columns at once?"
   ]
  },
  {
   "cell_type": "code",
   "execution_count": null,
   "id": "42da7cf6",
   "metadata": {},
   "outputs": [],
   "source": [
    "# How would you rename the column 'Coffee_Shop_Name' to 'Shop_Name'?\n",
    "df.rename(columns = {'Coffee_Shop_Name':'Shop_Name'})"
   ]
  },
  {
   "cell_type": "code",
   "execution_count": null,
   "id": "0cfaf45e",
   "metadata": {},
   "outputs": [],
   "source": [
    "# Imagine the management decided to call 'Visitors_per_day' as 'Daily_Footfall'. How would you reflect this change in the DataFrame?\n",
    "\n",
    "df.rename(columns = {\"Visitors_per_day\": \"Daily_Footfall\"})"
   ]
  },
  {
   "cell_type": "code",
   "execution_count": null,
   "id": "1df07b7d",
   "metadata": {},
   "outputs": [],
   "source": [
    "\n",
    "# If you wanted to change the 'Location' column to 'City', how would you achieve this?\n",
    "df.rename(columns = {'Location': 'City'})"
   ]
  },
  {
   "cell_type": "code",
   "execution_count": null,
   "id": "aecfbd24",
   "metadata": {},
   "outputs": [],
   "source": [
    "\n",
    "# Suppose the ratings scale has changed, and instead of 'Rating_out_of_5', it should be 'Rating_out_of_10'. How would you rename the column?\n",
    "df.rename(columns = {\"Rating_out_of_5\": \"Rating_out_of_10\"})"
   ]
  },
  {
   "cell_type": "code",
   "execution_count": null,
   "id": "db0ce5e6",
   "metadata": {},
   "outputs": [],
   "source": [
    "# If you wanted to rename only the index of the row with 'NY Espresso' to 'NYE', how would you do that?\n",
    "df.rename(columns = {'NY Espresso': 'NYE'})"
   ]
  },
  {
   "cell_type": "markdown",
   "id": "115b8b34",
   "metadata": {},
   "source": [
    "# O_Between"
   ]
  },
  {
   "cell_type": "code",
   "execution_count": null,
   "id": "cc831f31",
   "metadata": {},
   "outputs": [],
   "source": [
    "# How would you select rows where the 'Rating_out_of_5' is between 4.0 and 4.5 (inclusive)?\n",
    "\n",
    "# Can you filter the DataFrame to only include coffee shops with 'Visitors_per_day' between 300 and 400?\n",
    "\n",
    "# How would you retrieve coffee shops in 'Location' 'San Diego' that have ratings between 4.1 and 4.4?\n",
    "\n",
    "# Find rows where 'Visitors_per_day' is not between 280 and 520.\n",
    "\n",
    "# Can you fetch the 'Coffee_Shop_Name' of the shops with ratings between 4.2 and 4.8?\n",
    "\n",
    "# How would you use the between() method to get coffee shops that are among the top 3 in terms of 'Visitors_per_day'?\n",
    "\n",
    "# Is it possible to use the between() method to filter out coffee shops in 'Location' either 'Hollywood' or 'New York' with a 'Rating_out_of_5' between 4.0 and 4.5? If so, how?\n",
    "\n",
    "# Retrieve coffee shops with 'Visitors_per_day' between 290 and 500 but exclude those with a 'Rating_out_of_5' of 4.1.\n",
    "\n",
    "# Using the between() method, how would you get a boolean series indicating which rows have 'Visitors_per_day' between 320 and 500?\n",
    "\n",
    "# If you had a date column in the DataFrame, how would you use the between() method to filter coffee shops that have records between two specific dates?"
   ]
  },
  {
   "cell_type": "code",
   "execution_count": null,
   "id": "983d99a7",
   "metadata": {},
   "outputs": [],
   "source": [
    "# How would you select rows where the 'Rating_out_of_5' is between 4.0 and 4.5 (inclusive)?\n",
    "df['Rating_out_of_5'] = df['Rating_out_of_5'].astype(float)\n",
    "df[df['Rating_out_of_5'].between(4.0, 4.5)]"
   ]
  },
  {
   "cell_type": "code",
   "execution_count": 334,
   "id": "a9afff03",
   "metadata": {},
   "outputs": [
    {
     "data": {
      "text/html": [
       "<div>\n",
       "<style scoped>\n",
       "    .dataframe tbody tr th:only-of-type {\n",
       "        vertical-align: middle;\n",
       "    }\n",
       "\n",
       "    .dataframe tbody tr th {\n",
       "        vertical-align: top;\n",
       "    }\n",
       "\n",
       "    .dataframe thead th {\n",
       "        text-align: right;\n",
       "    }\n",
       "</style>\n",
       "<table border=\"1\" class=\"dataframe\">\n",
       "  <thead>\n",
       "    <tr style=\"text-align: right;\">\n",
       "      <th></th>\n",
       "      <th>Coffee_Shop_Name</th>\n",
       "      <th>Location</th>\n",
       "      <th>Rating_out_of_5</th>\n",
       "      <th>Visitors_per_day</th>\n",
       "    </tr>\n",
       "  </thead>\n",
       "  <tbody>\n",
       "    <tr>\n",
       "      <th>0</th>\n",
       "      <td>HollyBrew</td>\n",
       "      <td>Hollywood</td>\n",
       "      <td>4.5</td>\n",
       "      <td>320</td>\n",
       "    </tr>\n",
       "    <tr>\n",
       "      <th>3</th>\n",
       "      <td>Holly Beans</td>\n",
       "      <td>Hollywood</td>\n",
       "      <td>4.7</td>\n",
       "      <td>330</td>\n",
       "    </tr>\n",
       "  </tbody>\n",
       "</table>\n",
       "</div>"
      ],
      "text/plain": [
       "  Coffee_Shop_Name   Location  Rating_out_of_5  Visitors_per_day\n",
       "0        HollyBrew  Hollywood              4.5               320\n",
       "3      Holly Beans  Hollywood              4.7               330"
      ]
     },
     "execution_count": 334,
     "metadata": {},
     "output_type": "execute_result"
    }
   ],
   "source": [
    "# Can you filter the DataFrame to only include coffee shops with 'Visitors_per_day' between 300 and 400?\n",
    "\n",
    "df[df['Visitors_per_day'].between(300, 400)]"
   ]
  },
  {
   "cell_type": "code",
   "execution_count": 352,
   "id": "203e4b5c",
   "metadata": {},
   "outputs": [
    {
     "data": {
      "text/html": [
       "<div>\n",
       "<style scoped>\n",
       "    .dataframe tbody tr th:only-of-type {\n",
       "        vertical-align: middle;\n",
       "    }\n",
       "\n",
       "    .dataframe tbody tr th {\n",
       "        vertical-align: top;\n",
       "    }\n",
       "\n",
       "    .dataframe thead th {\n",
       "        text-align: right;\n",
       "    }\n",
       "</style>\n",
       "<table border=\"1\" class=\"dataframe\">\n",
       "  <thead>\n",
       "    <tr style=\"text-align: right;\">\n",
       "      <th></th>\n",
       "      <th>Coffee_Shop_Name</th>\n",
       "      <th>Location</th>\n",
       "      <th>Rating_out_of_5</th>\n",
       "      <th>Visitors_per_day</th>\n",
       "    </tr>\n",
       "  </thead>\n",
       "  <tbody>\n",
       "    <tr>\n",
       "      <th>1</th>\n",
       "      <td>Diego Drip</td>\n",
       "      <td>San Diego</td>\n",
       "      <td>4.1</td>\n",
       "      <td>290</td>\n",
       "    </tr>\n",
       "    <tr>\n",
       "      <th>4</th>\n",
       "      <td>Diego Morning</td>\n",
       "      <td>San Diego</td>\n",
       "      <td>4.3</td>\n",
       "      <td>280</td>\n",
       "    </tr>\n",
       "    <tr>\n",
       "      <th>6</th>\n",
       "      <td>Diego Delight</td>\n",
       "      <td>San Diego</td>\n",
       "      <td>4.2</td>\n",
       "      <td>270</td>\n",
       "    </tr>\n",
       "  </tbody>\n",
       "</table>\n",
       "</div>"
      ],
      "text/plain": [
       "  Coffee_Shop_Name   Location  Rating_out_of_5  Visitors_per_day\n",
       "1       Diego Drip  San Diego              4.1               290\n",
       "4    Diego Morning  San Diego              4.3               280\n",
       "6    Diego Delight  San Diego              4.2               270"
      ]
     },
     "execution_count": 352,
     "metadata": {},
     "output_type": "execute_result"
    }
   ],
   "source": [
    "# How would you retrieve coffee shops in 'Location' 'San Diego' that have ratings between 4.1 and 4.4?\n",
    "\n",
    "df[(df['Location'] == 'San Diego')& (df['Rating_out_of_5'].between(4.1, 4.4))]"
   ]
  },
  {
   "cell_type": "code",
   "execution_count": 353,
   "id": "26a38fde",
   "metadata": {},
   "outputs": [
    {
     "data": {
      "text/html": [
       "<div>\n",
       "<style scoped>\n",
       "    .dataframe tbody tr th:only-of-type {\n",
       "        vertical-align: middle;\n",
       "    }\n",
       "\n",
       "    .dataframe tbody tr th {\n",
       "        vertical-align: top;\n",
       "    }\n",
       "\n",
       "    .dataframe thead th {\n",
       "        text-align: right;\n",
       "    }\n",
       "</style>\n",
       "<table border=\"1\" class=\"dataframe\">\n",
       "  <thead>\n",
       "    <tr style=\"text-align: right;\">\n",
       "      <th></th>\n",
       "      <th>Coffee_Shop_Name</th>\n",
       "      <th>Location</th>\n",
       "      <th>Rating_out_of_5</th>\n",
       "      <th>Visitors_per_day</th>\n",
       "    </tr>\n",
       "  </thead>\n",
       "  <tbody>\n",
       "    <tr>\n",
       "      <th>0</th>\n",
       "      <td>HollyBrew</td>\n",
       "      <td>Hollywood</td>\n",
       "      <td>4.5</td>\n",
       "      <td>320</td>\n",
       "    </tr>\n",
       "    <tr>\n",
       "      <th>1</th>\n",
       "      <td>Diego Drip</td>\n",
       "      <td>San Diego</td>\n",
       "      <td>4.1</td>\n",
       "      <td>290</td>\n",
       "    </tr>\n",
       "    <tr>\n",
       "      <th>2</th>\n",
       "      <td>NY Espresso</td>\n",
       "      <td>New York</td>\n",
       "      <td>4.0</td>\n",
       "      <td>500</td>\n",
       "    </tr>\n",
       "    <tr>\n",
       "      <th>3</th>\n",
       "      <td>Holly Beans</td>\n",
       "      <td>Hollywood</td>\n",
       "      <td>4.7</td>\n",
       "      <td>330</td>\n",
       "    </tr>\n",
       "    <tr>\n",
       "      <th>4</th>\n",
       "      <td>Diego Morning</td>\n",
       "      <td>San Diego</td>\n",
       "      <td>4.3</td>\n",
       "      <td>280</td>\n",
       "    </tr>\n",
       "    <tr>\n",
       "      <th>5</th>\n",
       "      <td>NY Caffeine</td>\n",
       "      <td>New York</td>\n",
       "      <td>4.4</td>\n",
       "      <td>520</td>\n",
       "    </tr>\n",
       "  </tbody>\n",
       "</table>\n",
       "</div>"
      ],
      "text/plain": [
       "  Coffee_Shop_Name   Location  Rating_out_of_5  Visitors_per_day\n",
       "0        HollyBrew  Hollywood              4.5               320\n",
       "1       Diego Drip  San Diego              4.1               290\n",
       "2      NY Espresso   New York              4.0               500\n",
       "3      Holly Beans  Hollywood              4.7               330\n",
       "4    Diego Morning  San Diego              4.3               280\n",
       "5      NY Caffeine   New York              4.4               520"
      ]
     },
     "execution_count": 353,
     "metadata": {},
     "output_type": "execute_result"
    }
   ],
   "source": [
    "\n",
    "# Find rows where 'Visitors_per_day' is not between 280 and 520.\n",
    "\n",
    "df[df['Visitors_per_day'].between(280, 520)]"
   ]
  },
  {
   "cell_type": "code",
   "execution_count": 358,
   "id": "e635b4bc",
   "metadata": {},
   "outputs": [
    {
     "data": {
      "text/html": [
       "<div>\n",
       "<style scoped>\n",
       "    .dataframe tbody tr th:only-of-type {\n",
       "        vertical-align: middle;\n",
       "    }\n",
       "\n",
       "    .dataframe tbody tr th {\n",
       "        vertical-align: top;\n",
       "    }\n",
       "\n",
       "    .dataframe thead th {\n",
       "        text-align: right;\n",
       "    }\n",
       "</style>\n",
       "<table border=\"1\" class=\"dataframe\">\n",
       "  <thead>\n",
       "    <tr style=\"text-align: right;\">\n",
       "      <th></th>\n",
       "      <th>Coffee_Shop_Name</th>\n",
       "    </tr>\n",
       "  </thead>\n",
       "  <tbody>\n",
       "    <tr>\n",
       "      <th>0</th>\n",
       "      <td>HollyBrew</td>\n",
       "    </tr>\n",
       "    <tr>\n",
       "      <th>4</th>\n",
       "      <td>Diego Morning</td>\n",
       "    </tr>\n",
       "    <tr>\n",
       "      <th>5</th>\n",
       "      <td>NY Caffeine</td>\n",
       "    </tr>\n",
       "    <tr>\n",
       "      <th>6</th>\n",
       "      <td>Diego Delight</td>\n",
       "    </tr>\n",
       "  </tbody>\n",
       "</table>\n",
       "</div>"
      ],
      "text/plain": [
       "  Coffee_Shop_Name\n",
       "0        HollyBrew\n",
       "4    Diego Morning\n",
       "5      NY Caffeine\n",
       "6    Diego Delight"
      ]
     },
     "execution_count": 358,
     "metadata": {},
     "output_type": "execute_result"
    }
   ],
   "source": [
    "# Can you fetch the 'Coffee_Shop_Name' of the shops with ratings between 4.2 and 4.8?\n",
    "\n",
    "df.loc[df['Rating_out_of_5'].between(4.2, 4.5),'Coffee_Shop_Name'].to_frame()"
   ]
  },
  {
   "cell_type": "markdown",
   "id": "f0f88616",
   "metadata": {},
   "source": [
    "# P_clip"
   ]
  },
  {
   "cell_type": "code",
   "execution_count": 359,
   "id": "8967190f",
   "metadata": {},
   "outputs": [],
   "source": [
    "# How would you ensure that all ratings in 'Rating_out_of_5' are at least 4.0?\n",
    "# Can you clip the 'Visitors_per_day' column such that no coffee shop has more than 500 visitors?\n",
    "# How would you set both lower and upper bounds on 'Rating_out_of_5' such that ratings are between 4.0 and 4.5?\n",
    "# If for some reason the 'Rating_out_of_5' column had values higher than 5, how would you clip those values to a maximum of 5?\n",
    "# How would you clip the 'Visitors_per_day' column such that no coffee shop has less than 300 or more than 450 visitors?\n",
    "\n",
    "# If a data entry error resulted in some shops having negative values in 'Visitors_per_day', how would you correct this by ensuring all values are non-negative using clip?\n",
    "# Can you clip the 'Rating_out_of_5' column so that all values below the mean rating are set to the mean rating value?\n",
    "# How would you ensure tat all values in the 'Visitors_per_day' column are at least 100 more than the minimum value in that column?\n",
    "# Suppose you have an external series of lower bounds and another one of upper bounds, how would you use them to clip the values in 'Rating_out_of_5'?\n",
    "# How would you use the clip() function to make sure none of the coffee shops in 'Location' 'San Diego' have more than 400 'Visitors_per_day'?"
   ]
  },
  {
   "cell_type": "code",
   "execution_count": 363,
   "id": "685307bb",
   "metadata": {},
   "outputs": [
    {
     "data": {
      "text/plain": [
       "0    4.5\n",
       "1    4.1\n",
       "2    4.0\n",
       "3    4.7\n",
       "4    4.3\n",
       "5    4.4\n",
       "6    4.2\n",
       "Name: Rating_out_of_5, dtype: float64"
      ]
     },
     "execution_count": 363,
     "metadata": {},
     "output_type": "execute_result"
    }
   ],
   "source": [
    "# How would you ensure that all ratings in 'Rating_out_of_5' are at least 4.0?\n",
    "df['Rating_out_of_5'].clip(lower = 4.0)"
   ]
  },
  {
   "cell_type": "code",
   "execution_count": 364,
   "id": "3ec07394",
   "metadata": {},
   "outputs": [
    {
     "data": {
      "text/plain": [
       "0    500\n",
       "1    500\n",
       "2    500\n",
       "3    500\n",
       "4    500\n",
       "5    520\n",
       "6    500\n",
       "Name: Visitors_per_day, dtype: int64"
      ]
     },
     "execution_count": 364,
     "metadata": {},
     "output_type": "execute_result"
    }
   ],
   "source": [
    "# Can you clip the 'Visitors_per_day' column such that no coffee shop has more than 500 visitors?\n",
    "df['Visitors_per_day'].clip(lower = 500)"
   ]
  },
  {
   "cell_type": "code",
   "execution_count": 365,
   "id": "0bd342c8",
   "metadata": {},
   "outputs": [
    {
     "data": {
      "text/plain": [
       "0    4.5\n",
       "1    4.1\n",
       "2    4.0\n",
       "3    4.5\n",
       "4    4.3\n",
       "5    4.4\n",
       "6    4.2\n",
       "Name: Rating_out_of_5, dtype: float64"
      ]
     },
     "execution_count": 365,
     "metadata": {},
     "output_type": "execute_result"
    }
   ],
   "source": [
    "# How would you set both lower and upper bounds on 'Rating_out_of_5' such that ratings are between 4.0 and 4.5?\n",
    "df['Rating_out_of_5'].clip(lower = 4.0, upper = 4.5)"
   ]
  },
  {
   "cell_type": "code",
   "execution_count": 366,
   "id": "37700820",
   "metadata": {},
   "outputs": [
    {
     "data": {
      "text/plain": [
       "0    4.5\n",
       "1    4.1\n",
       "2    4.0\n",
       "3    4.7\n",
       "4    4.3\n",
       "5    4.4\n",
       "6    4.2\n",
       "Name: Rating_out_of_5, dtype: float64"
      ]
     },
     "execution_count": 366,
     "metadata": {},
     "output_type": "execute_result"
    }
   ],
   "source": [
    "# If for some reason the 'Rating_out_of_5' column had values higher than 5, how would you clip those values to a maximum of 5?\n",
    "df['Rating_out_of_5'].clip(upper = 5.0)"
   ]
  },
  {
   "cell_type": "code",
   "execution_count": 368,
   "id": "a0a0a447",
   "metadata": {},
   "outputs": [
    {
     "data": {
      "text/plain": [
       "0    320\n",
       "1    300\n",
       "2    450\n",
       "3    330\n",
       "4    300\n",
       "5    450\n",
       "6    300\n",
       "Name: Visitors_per_day, dtype: int64"
      ]
     },
     "execution_count": 368,
     "metadata": {},
     "output_type": "execute_result"
    }
   ],
   "source": [
    "# How would you clip the 'Visitors_per_day' column such that no coffee shop has less than 300 or more than 450 visitors?\n",
    "df['Visitors_per_day'].clip(lower = 300, upper = 450)"
   ]
  },
  {
   "cell_type": "markdown",
   "id": "75149093",
   "metadata": {},
   "source": [
    "# Q_Explode"
   ]
  },
  {
   "cell_type": "code",
   "execution_count": 369,
   "id": "8d770942",
   "metadata": {},
   "outputs": [],
   "source": [
    "# Assuming the 'Location' column had a list of locations for each coffee shop, how would you transform each item in the list into separate rows?\n",
    "# If 'Rating_out_of_5' was actually a list of ratings received throughout the week, how would you explode this column to visualize individual ratings?\n",
    "# Imagine 'Visitors_per_day' was an array of visitors for each day of the week. How would you explode this column to get a row-wise breakdown for each day?\n",
    "# Suppose 'Coffee_Shop_Name' contained aliases or other names for the coffee shop in a list. How would you expand this list into separate rows while keeping the other column values consistent?\n",
    "# If you exploded the 'Location' column, which transformed lists into individual rows, how would you then reset the index of the DataFrame to maintain a sequential order?\n",
    "\n",
    "# After exploding the 'Rating_out_of_5' column, how would you group by 'Coffee_Shop_Name' and calculate the average rating for each shop?\n",
    "# Imagine the 'Visitors_per_day' column contained a list of visitors for both weekdays and weekends. After exploding this column, how would you filter only the rows corresponding to weekend visitors?\n",
    "# If the 'Coffee_Shop_Name' column had subsidiary coffee shop names in a list and you wanted to create a separate DataFrame with only these subsidiary names (after exploding), how would you do it?\n",
    "# Suppose you've exploded the 'Location' column, and now you have multiple rows for each coffee shop. How would you count the number of unique locations each coffee shop is present in?\n",
    "# After exploding a column, you might end up with duplicate rows. How would you remove these duplicates to retain only unique rows in the DataFrame?"
   ]
  },
  {
   "cell_type": "code",
   "execution_count": 376,
   "id": "733aac2a",
   "metadata": {},
   "outputs": [
    {
     "data": {
      "text/html": [
       "<div>\n",
       "<style scoped>\n",
       "    .dataframe tbody tr th:only-of-type {\n",
       "        vertical-align: middle;\n",
       "    }\n",
       "\n",
       "    .dataframe tbody tr th {\n",
       "        vertical-align: top;\n",
       "    }\n",
       "\n",
       "    .dataframe thead th {\n",
       "        text-align: right;\n",
       "    }\n",
       "</style>\n",
       "<table border=\"1\" class=\"dataframe\">\n",
       "  <thead>\n",
       "    <tr style=\"text-align: right;\">\n",
       "      <th></th>\n",
       "      <th>Coffee_Shop_Name</th>\n",
       "      <th>Location</th>\n",
       "      <th>Rating_out_of_5</th>\n",
       "      <th>Visitors_per_day</th>\n",
       "    </tr>\n",
       "  </thead>\n",
       "  <tbody>\n",
       "    <tr>\n",
       "      <th>0</th>\n",
       "      <td>HollyBrew</td>\n",
       "      <td>[Hollywood, Beverly Hills]</td>\n",
       "      <td>4.5</td>\n",
       "      <td>320</td>\n",
       "    </tr>\n",
       "    <tr>\n",
       "      <th>1</th>\n",
       "      <td>Diego Drip</td>\n",
       "      <td>[San Diego, La Jolla]</td>\n",
       "      <td>4.1</td>\n",
       "      <td>290</td>\n",
       "    </tr>\n",
       "    <tr>\n",
       "      <th>2</th>\n",
       "      <td>NY Espresso</td>\n",
       "      <td>[New York, Brooklyn]</td>\n",
       "      <td>4.0</td>\n",
       "      <td>500</td>\n",
       "    </tr>\n",
       "    <tr>\n",
       "      <th>3</th>\n",
       "      <td>Holly Beans</td>\n",
       "      <td>[Hollywood, Downtown LA]</td>\n",
       "      <td>4.7</td>\n",
       "      <td>330</td>\n",
       "    </tr>\n",
       "    <tr>\n",
       "      <th>4</th>\n",
       "      <td>Diego Morning</td>\n",
       "      <td>[San Diego, Oceanside]</td>\n",
       "      <td>4.3</td>\n",
       "      <td>280</td>\n",
       "    </tr>\n",
       "    <tr>\n",
       "      <th>5</th>\n",
       "      <td>NY Caffeine</td>\n",
       "      <td>[New York, Manhattan]</td>\n",
       "      <td>4.4</td>\n",
       "      <td>520</td>\n",
       "    </tr>\n",
       "    <tr>\n",
       "      <th>6</th>\n",
       "      <td>Diego Delight</td>\n",
       "      <td>[San Diego, Chula Vista]</td>\n",
       "      <td>4.2</td>\n",
       "      <td>270</td>\n",
       "    </tr>\n",
       "  </tbody>\n",
       "</table>\n",
       "</div>"
      ],
      "text/plain": [
       "  Coffee_Shop_Name                    Location  Rating_out_of_5  \\\n",
       "0        HollyBrew  [Hollywood, Beverly Hills]              4.5   \n",
       "1       Diego Drip       [San Diego, La Jolla]              4.1   \n",
       "2      NY Espresso        [New York, Brooklyn]              4.0   \n",
       "3      Holly Beans    [Hollywood, Downtown LA]              4.7   \n",
       "4    Diego Morning      [San Diego, Oceanside]              4.3   \n",
       "5      NY Caffeine       [New York, Manhattan]              4.4   \n",
       "6    Diego Delight    [San Diego, Chula Vista]              4.2   \n",
       "\n",
       "   Visitors_per_day  \n",
       "0               320  \n",
       "1               290  \n",
       "2               500  \n",
       "3               330  \n",
       "4               280  \n",
       "5               520  \n",
       "6               270  "
      ]
     },
     "execution_count": 376,
     "metadata": {},
     "output_type": "execute_result"
    }
   ],
   "source": [
    "import pandas as pd\n",
    "\n",
    "data = {\n",
    "    'Coffee_Shop_Name': ['HollyBrew', 'Diego Drip', 'NY Espresso', 'Holly Beans', 'Diego Morning', 'NY Caffeine', 'Diego Delight'],\n",
    "    'Location': [['Hollywood', 'Beverly Hills'], ['San Diego', 'La Jolla'], ['New York', 'Brooklyn'], ['Hollywood', 'Downtown LA'], ['San Diego', 'Oceanside'], ['New York', 'Manhattan'], ['San Diego', 'Chula Vista']],\n",
    "    'Rating_out_of_5': [4.5, 4.1, 4.0, 4.7, 4.3, 4.4, 4.2],\n",
    "    'Visitors_per_day': [320, 290, 500, 330, 280, 520, 270]\n",
    "}\n",
    "\n",
    "df = pd.DataFrame(data)\n",
    "df"
   ]
  },
  {
   "cell_type": "code",
   "execution_count": 383,
   "id": "e62a5560",
   "metadata": {},
   "outputs": [
    {
     "data": {
      "text/html": [
       "<div>\n",
       "<style scoped>\n",
       "    .dataframe tbody tr th:only-of-type {\n",
       "        vertical-align: middle;\n",
       "    }\n",
       "\n",
       "    .dataframe tbody tr th {\n",
       "        vertical-align: top;\n",
       "    }\n",
       "\n",
       "    .dataframe thead th {\n",
       "        text-align: right;\n",
       "    }\n",
       "</style>\n",
       "<table border=\"1\" class=\"dataframe\">\n",
       "  <thead>\n",
       "    <tr style=\"text-align: right;\">\n",
       "      <th></th>\n",
       "      <th>Coffee_Shop_Name</th>\n",
       "      <th>Location</th>\n",
       "      <th>Rating_out_of_5</th>\n",
       "      <th>Visitors_per_day</th>\n",
       "    </tr>\n",
       "  </thead>\n",
       "  <tbody>\n",
       "    <tr>\n",
       "      <th>0</th>\n",
       "      <td>HollyBrew</td>\n",
       "      <td>Hollywood</td>\n",
       "      <td>4.5</td>\n",
       "      <td>320</td>\n",
       "    </tr>\n",
       "    <tr>\n",
       "      <th>1</th>\n",
       "      <td>HollyBrew</td>\n",
       "      <td>Beverly Hills</td>\n",
       "      <td>4.5</td>\n",
       "      <td>320</td>\n",
       "    </tr>\n",
       "    <tr>\n",
       "      <th>2</th>\n",
       "      <td>Diego Drip</td>\n",
       "      <td>San Diego</td>\n",
       "      <td>4.1</td>\n",
       "      <td>290</td>\n",
       "    </tr>\n",
       "    <tr>\n",
       "      <th>3</th>\n",
       "      <td>Diego Drip</td>\n",
       "      <td>La Jolla</td>\n",
       "      <td>4.1</td>\n",
       "      <td>290</td>\n",
       "    </tr>\n",
       "    <tr>\n",
       "      <th>4</th>\n",
       "      <td>NY Espresso</td>\n",
       "      <td>New York</td>\n",
       "      <td>4.0</td>\n",
       "      <td>500</td>\n",
       "    </tr>\n",
       "    <tr>\n",
       "      <th>5</th>\n",
       "      <td>NY Espresso</td>\n",
       "      <td>Brooklyn</td>\n",
       "      <td>4.0</td>\n",
       "      <td>500</td>\n",
       "    </tr>\n",
       "    <tr>\n",
       "      <th>6</th>\n",
       "      <td>Holly Beans</td>\n",
       "      <td>Hollywood</td>\n",
       "      <td>4.7</td>\n",
       "      <td>330</td>\n",
       "    </tr>\n",
       "    <tr>\n",
       "      <th>7</th>\n",
       "      <td>Holly Beans</td>\n",
       "      <td>Downtown LA</td>\n",
       "      <td>4.7</td>\n",
       "      <td>330</td>\n",
       "    </tr>\n",
       "    <tr>\n",
       "      <th>8</th>\n",
       "      <td>Diego Morning</td>\n",
       "      <td>San Diego</td>\n",
       "      <td>4.3</td>\n",
       "      <td>280</td>\n",
       "    </tr>\n",
       "    <tr>\n",
       "      <th>9</th>\n",
       "      <td>Diego Morning</td>\n",
       "      <td>Oceanside</td>\n",
       "      <td>4.3</td>\n",
       "      <td>280</td>\n",
       "    </tr>\n",
       "    <tr>\n",
       "      <th>10</th>\n",
       "      <td>NY Caffeine</td>\n",
       "      <td>New York</td>\n",
       "      <td>4.4</td>\n",
       "      <td>520</td>\n",
       "    </tr>\n",
       "    <tr>\n",
       "      <th>11</th>\n",
       "      <td>NY Caffeine</td>\n",
       "      <td>Manhattan</td>\n",
       "      <td>4.4</td>\n",
       "      <td>520</td>\n",
       "    </tr>\n",
       "    <tr>\n",
       "      <th>12</th>\n",
       "      <td>Diego Delight</td>\n",
       "      <td>San Diego</td>\n",
       "      <td>4.2</td>\n",
       "      <td>270</td>\n",
       "    </tr>\n",
       "    <tr>\n",
       "      <th>13</th>\n",
       "      <td>Diego Delight</td>\n",
       "      <td>Chula Vista</td>\n",
       "      <td>4.2</td>\n",
       "      <td>270</td>\n",
       "    </tr>\n",
       "  </tbody>\n",
       "</table>\n",
       "</div>"
      ],
      "text/plain": [
       "   Coffee_Shop_Name       Location  Rating_out_of_5  Visitors_per_day\n",
       "0         HollyBrew      Hollywood              4.5               320\n",
       "1         HollyBrew  Beverly Hills              4.5               320\n",
       "2        Diego Drip      San Diego              4.1               290\n",
       "3        Diego Drip       La Jolla              4.1               290\n",
       "4       NY Espresso       New York              4.0               500\n",
       "5       NY Espresso       Brooklyn              4.0               500\n",
       "6       Holly Beans      Hollywood              4.7               330\n",
       "7       Holly Beans    Downtown LA              4.7               330\n",
       "8     Diego Morning      San Diego              4.3               280\n",
       "9     Diego Morning      Oceanside              4.3               280\n",
       "10      NY Caffeine       New York              4.4               520\n",
       "11      NY Caffeine      Manhattan              4.4               520\n",
       "12    Diego Delight      San Diego              4.2               270\n",
       "13    Diego Delight    Chula Vista              4.2               270"
      ]
     },
     "execution_count": 383,
     "metadata": {},
     "output_type": "execute_result"
    }
   ],
   "source": [
    "# Assuming the 'Location' column had a list of locations for each coffee shop, how would you transform each item in the list into separate rows?\n",
    "df_exploded = df.explode('Location').reset_index(drop = 1)\n",
    "df_exploded"
   ]
  },
  {
   "cell_type": "code",
   "execution_count": 380,
   "id": "b435f631",
   "metadata": {},
   "outputs": [],
   "source": [
    "# If 'Rating_out_of_5' was actually a list of ratings received throughout the week, how would you explode this column to visualize individual ratings?\n",
    "df_exploded = df.explode('Rating_out_of_5')"
   ]
  },
  {
   "cell_type": "code",
   "execution_count": null,
   "id": "7513a8f8",
   "metadata": {},
   "outputs": [],
   "source": [
    "# Imagine 'Visitors_per_day' was an array of visitors for each day of the week. How would you explode this column to get a row-wise breakdown for each day?\n",
    "df_exploded = df.explode('Visitors_per_day')"
   ]
  },
  {
   "cell_type": "code",
   "execution_count": null,
   "id": "ab3503a8",
   "metadata": {},
   "outputs": [],
   "source": [
    "# Suppose 'Coffee_Shop_Name' contained aliases or other names for the coffee shop in a list. How would you expand this list into separate rows while keeping the other column values consistent?\n",
    "df_exploded = df.explode('Coffee_Shop_Name')"
   ]
  },
  {
   "cell_type": "code",
   "execution_count": null,
   "id": "a54d054d",
   "metadata": {},
   "outputs": [],
   "source": [
    "# If you exploded the 'Location' column, which transformed lists into individual rows, how would you then reset the index of the DataFrame to maintain a sequential order?\n",
    "df_exploded = df.explode('Location')"
   ]
  },
  {
   "cell_type": "code",
   "execution_count": 381,
   "id": "cfeb8c52",
   "metadata": {},
   "outputs": [],
   "source": [
    "df_Location_exploded = df[\"Location\"].explode('Location')"
   ]
  },
  {
   "cell_type": "markdown",
   "id": "b6ee732a",
   "metadata": {},
   "source": [
    "# R_Flatten"
   ]
  },
  {
   "cell_type": "code",
   "execution_count": 384,
   "id": "952b8a63",
   "metadata": {},
   "outputs": [
    {
     "data": {
      "text/html": [
       "<div>\n",
       "<style scoped>\n",
       "    .dataframe tbody tr th:only-of-type {\n",
       "        vertical-align: middle;\n",
       "    }\n",
       "\n",
       "    .dataframe tbody tr th {\n",
       "        vertical-align: top;\n",
       "    }\n",
       "\n",
       "    .dataframe thead th {\n",
       "        text-align: right;\n",
       "    }\n",
       "</style>\n",
       "<table border=\"1\" class=\"dataframe\">\n",
       "  <thead>\n",
       "    <tr style=\"text-align: right;\">\n",
       "      <th></th>\n",
       "      <th>Name</th>\n",
       "      <th>Scores</th>\n",
       "      <th>Contacts</th>\n",
       "    </tr>\n",
       "  </thead>\n",
       "  <tbody>\n",
       "    <tr>\n",
       "      <th>0</th>\n",
       "      <td>John</td>\n",
       "      <td>{'Math': 85, 'History': 92}</td>\n",
       "      <td>[1234567890, j@email.com]</td>\n",
       "    </tr>\n",
       "    <tr>\n",
       "      <th>1</th>\n",
       "      <td>Alice</td>\n",
       "      <td>{'Math': 88, 'History': 78}</td>\n",
       "      <td>[9876543210, a@email.com]</td>\n",
       "    </tr>\n",
       "    <tr>\n",
       "      <th>2</th>\n",
       "      <td>Bob</td>\n",
       "      <td>{'Math': 76, 'History': 82}</td>\n",
       "      <td>[1234987650, b@email.com]</td>\n",
       "    </tr>\n",
       "  </tbody>\n",
       "</table>\n",
       "</div>"
      ],
      "text/plain": [
       "    Name                       Scores                   Contacts\n",
       "0   John  {'Math': 85, 'History': 92}  [1234567890, j@email.com]\n",
       "1  Alice  {'Math': 88, 'History': 78}  [9876543210, a@email.com]\n",
       "2    Bob  {'Math': 76, 'History': 82}  [1234987650, b@email.com]"
      ]
     },
     "execution_count": 384,
     "metadata": {},
     "output_type": "execute_result"
    }
   ],
   "source": [
    "import pandas as pd\n",
    "\n",
    "data = {\n",
    "'Name': ['John', 'Alice', 'Bob'],\n",
    "'Scores': [{'Math': 85, 'History': 92}, {'Math': 88, 'History': 78}, {'Math': 76, 'History': 82}],\n",
    "'Contacts': [['1234567890', 'j@email.com'], ['9876543210', 'a@email.com'], ['1234987650', 'b@email.com']]\n",
    "}\n",
    "\n",
    "df = pd.DataFrame(data)\n",
    "df"
   ]
  },
  {
   "cell_type": "code",
   "execution_count": null,
   "id": "abc4cf82",
   "metadata": {},
   "outputs": [],
   "source": [
    "# How would you flatten the Scores column to have separate columns for each subject, like Scores_Math and Scores_History?\n",
    "# How can you split the Contacts column into two separate columns: Phone and Email?\n",
    "# If you wanted to create a completely flat DataFrame without nested lists or dictionaries, how would you achieve that?\n",
    "# Suppose you wanted to create a multi-index DataFrame using the Name column as the first level and the subjects from the Scores column as the second level, how would you go about it?"
   ]
  },
  {
   "cell_type": "code",
   "execution_count": 388,
   "id": "28deed3e",
   "metadata": {},
   "outputs": [
    {
     "data": {
      "text/plain": [
       "[1, 2, 3, 4, 5, 6, 7, 8, 9]"
      ]
     },
     "execution_count": 388,
     "metadata": {},
     "output_type": "execute_result"
    }
   ],
   "source": [
    "# Using basic Python\n",
    "nested_list = [[1, 2, 3], [4, 5, 6], [7, 8, 9]]\n",
    "flattened_list = [item for sublist in nested_list for item in sublist]\n",
    "flattened_list"
   ]
  },
  {
   "cell_type": "code",
   "execution_count": 390,
   "id": "e391512e",
   "metadata": {},
   "outputs": [
    {
     "data": {
      "text/plain": [
       "array([1, 2, 3, 4, 5, 6, 7, 8, 9])"
      ]
     },
     "execution_count": 390,
     "metadata": {},
     "output_type": "execute_result"
    }
   ],
   "source": [
    "#using numpy\n",
    "nested_array = np.array([[1, 2, 3], [4, 5, 6], [7, 8, 9]])\n",
    "flattened_array = nested_array.flatten()\n",
    "flattened_array"
   ]
  },
  {
   "cell_type": "code",
   "execution_count": null,
   "id": "09e59f8e",
   "metadata": {},
   "outputs": [],
   "source": []
  },
  {
   "cell_type": "code",
   "execution_count": null,
   "id": "befdafbd",
   "metadata": {},
   "outputs": [],
   "source": []
  },
  {
   "cell_type": "code",
   "execution_count": null,
   "id": "d3fd640f",
   "metadata": {},
   "outputs": [],
   "source": []
  },
  {
   "cell_type": "code",
   "execution_count": null,
   "id": "3a52d16d",
   "metadata": {},
   "outputs": [],
   "source": []
  },
  {
   "cell_type": "code",
   "execution_count": null,
   "id": "25c34deb",
   "metadata": {},
   "outputs": [],
   "source": []
  },
  {
   "cell_type": "code",
   "execution_count": null,
   "id": "113b3fb3",
   "metadata": {},
   "outputs": [],
   "source": []
  },
  {
   "cell_type": "code",
   "execution_count": null,
   "id": "6df28a79",
   "metadata": {},
   "outputs": [],
   "source": []
  }
 ],
 "metadata": {
  "kernelspec": {
   "display_name": "Python 3",
   "language": "python",
   "name": "python3"
  },
  "language_info": {
   "codemirror_mode": {
    "name": "ipython",
    "version": 3
   },
   "file_extension": ".py",
   "mimetype": "text/x-python",
   "name": "python",
   "nbconvert_exporter": "python",
   "pygments_lexer": "ipython3",
   "version": "3.8.3"
  }
 },
 "nbformat": 4,
 "nbformat_minor": 5
}
